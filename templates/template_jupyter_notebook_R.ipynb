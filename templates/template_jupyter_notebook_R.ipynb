{
 "cells": [
  {
   "cell_type": "markdown",
   "metadata": {},
   "source": [
    "# Data Analysis template\n",
    "\n",
    "Author: Samuel Carleial\n",
    "\n",
    "Description: ...\n",
    "\n",
    "Last update: YYYY.MM.DD"
   ]
  },
  {
   "cell_type": "markdown",
   "metadata": {},
   "source": [
    "### Preliminaries"
   ]
  },
  {
   "cell_type": "code",
   "execution_count": null,
   "metadata": {},
   "outputs": [],
   "source": [
    "setseed(233562)\n",
    "rm(list = ls())\n",
    "getwd()\n",
    "setwd()\n",
    "library()\n",
    "source()"
   ]
  },
  {
   "cell_type": "markdown",
   "metadata": {},
   "source": [
    "### Load Data"
   ]
  },
  {
   "cell_type": "code",
   "execution_count": null,
   "metadata": {},
   "outputs": [],
   "source": [
    "data <- read.csv(\".csv\")"
   ]
  },
  {
   "cell_type": "markdown",
   "metadata": {},
   "source": [
    "### (1) Data inspection and wrangling"
   ]
  },
  {
   "cell_type": "code",
   "execution_count": null,
   "metadata": {},
   "outputs": [],
   "source": [
    "\n",
    "\n",
    "## example code\n",
    "## Inspect data\n",
    "head()\n",
    "summary()\n",
    "pairs()\n",
    "apply(, 1, function(x) return(sum(is.na(x))) )\n",
    "all.equal()\n",
    "identical()\n",
    "table()\n",
    "prop.table(table())\n",
    "vector1 %in% vector2\n",
    "sixPlot()\n",
    "\n",
    "## Modify or recode data\n",
    "df[df$ == oldValue, \"variableOfInterest\"] <- newValue\n",
    "ifelse(condition, valueIF, valueELSE)\n",
    "df$newVariable <- c(newVariable)\n",
    "df$remVariable <- NULL\n",
    "stopifnot()"
   ]
  },
  {
   "cell_type": "markdown",
   "metadata": {},
   "source": [
    "### (2) Summary statistics"
   ]
  },
  {
   "cell_type": "code",
   "execution_count": null,
   "metadata": {},
   "outputs": [],
   "source": [
    "\n",
    "\n",
    "## example code\n",
    "cor()\n",
    "t.test(x = ,\n",
    "       y = ,\n",
    "       alternative = c(\"two.sided\",\"less\",\"greater\"),\n",
    "       paired = FALSE,\n",
    "       var.equal = FALSE,\n",
    "       conf.level = .95)\n",
    "summary()"
   ]
  },
  {
   "cell_type": "markdown",
   "metadata": {},
   "source": [
    "### (3) Data visualization: plots"
   ]
  },
  {
   "cell_type": "code",
   "execution_count": null,
   "metadata": {},
   "outputs": [],
   "source": [
    "## example code\n",
    "par(mfrow = c(rows,cols))\n",
    "\n",
    "ggplot(aes (y = , x = , fill = , color = ),\n",
    "       data = ) +\n",
    "  labs(title = \"\",\n",
    "       subtitle = \"\",\n",
    "       y = \"\",\n",
    "       x = \"\") +\n",
    "  geom_...() +\n",
    "  geom_smooth(method = \"loess\") +\n",
    "  theme_classic()\n",
    "\n",
    "pdf(file = \"\", width = , height = )\n",
    "plot(1)\n",
    "dev.off()"
   ]
  },
  {
   "cell_type": "markdown",
   "metadata": {},
   "source": [
    "### (4) Statistical modeling"
   ]
  },
  {
   "cell_type": "code",
   "execution_count": null,
   "metadata": {},
   "outputs": [],
   "source": [
    "## example code\n",
    "model <- lmer(y ~\n",
    "            + x1\n",
    "            + x2\n",
    "            + x3\n",
    "            + (1|random1)\n",
    "            + (1|random2),\n",
    "            family = ,\n",
    "            control = ,\n",
    "            weights = ,\n",
    "            offset = ,\n",
    "            data = )\n",
    "\n",
    "summary()\n",
    "drop1(, test = \"Chisq\")\n",
    "AIC()\n",
    "anova()\n",
    "plot()"
   ]
  },
  {
   "cell_type": "markdown",
   "metadata": {},
   "source": [
    "### (5) Save data"
   ]
  },
  {
   "cell_type": "code",
   "execution_count": null,
   "metadata": {},
   "outputs": [],
   "source": [
    "\n",
    "\n",
    "## example code\n",
    "save(, file = \"\")\n",
    "load(\"\")"
   ]
  },
  {
   "cell_type": "markdown",
   "metadata": {},
   "source": [
    "### ( ) Test area"
   ]
  },
  {
   "cell_type": "code",
   "execution_count": null,
   "metadata": {},
   "outputs": [],
   "source": []
  },
  {
   "cell_type": "markdown",
   "metadata": {},
   "source": [
    "### End"
   ]
  },
  {
   "cell_type": "code",
   "execution_count": null,
   "metadata": {},
   "outputs": [],
   "source": [
    "sessionInfo()"
   ]
  },
  {
   "cell_type": "code",
   "execution_count": null,
   "metadata": {},
   "outputs": [],
   "source": []
  }
 ],
 "metadata": {
  "kernelspec": {
   "display_name": "R",
   "language": "R",
   "name": "ir"
  },
  "language_info": {
   "codemirror_mode": "r",
   "file_extension": ".r",
   "mimetype": "text/x-r-source",
   "name": "R",
   "pygments_lexer": "r",
   "version": "3.5.1"
  }
 },
 "nbformat": 4,
 "nbformat_minor": 2
}
