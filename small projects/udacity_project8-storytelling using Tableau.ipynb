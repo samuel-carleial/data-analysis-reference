{
 "cells": [
  {
   "cell_type": "markdown",
   "metadata": {},
   "source": [
    "# Udacity Data Analyst Nanodegree 2018\n",
    "## Project: Create a Tableau story\n",
    "## Student: Samuel Carleial"
   ]
  },
  {
   "cell_type": "markdown",
   "metadata": {},
   "source": [
    "# Links\n",
    "First version: https://public.tableau.com/profile/samuel.carleial#!/vizhome/Studentscoresworldwidev0/Story1\n",
    "\n",
    "Second version: https://public.tableau.com/profile/samuel.carleial#!/vizhome/UdacityProjectCreateaTableauStoryPISA/Story1\n",
    "\n",
    "Final version: https://public.tableau.com/profile/samuel.carleial#!/vizhome/Storyschoolstudentscoresworldwidev2/Story1"
   ]
  },
  {
   "cell_type": "markdown",
   "metadata": {},
   "source": [
    "# Summary\n",
    "For this project, I used the large dataset provided by PISA regarding student scores towards the end of the school. \n",
    "\n",
    "Firstly, I downloaded the dataset following the Udacity guidelines link ('pisa201.csv'). After unzipping, I loaded and wrangled the data (see 'pre-processing.ipynb' for details), selecting only the variables of importance. This allowed me to get a much concise and understandable dataset with clearer variable names and values. This subset was saved in another smaller-size file ('pisa2012_filtered.csv'). \n",
    "\n",
    "Secondly, I loaded the data into Tableau Desktop and joined it with another csv file ('countries.csv') containing extra information (GDP per country). This merged dataset was saved as 'pisa2012_filtered_final.csv+ (Multiple Connections).csv'. Variable types and values were double-checked. Some calculated fields were added. Then, I prepared a series of worksheets. To create my story I focused on the origin and characteristics of students (student family conditions, origin, country and migration history). To understand how student test scores behave, I also considered a series of school and learning aspects, such as teacher support and learned activities. Previously in Python (Jupyter Notebook), I created additional variables that measured the sum of learned skills and school conditions. These, allowed me to summarize the information on many categorical variables with several levels into fewer continuos variables. \n",
    "\n",
    "Thirdly, after creating the worksheets, I created dashboards with the idea of constructing a comprehensive story (background information + visualizations + final summarizing information). My story was created using those pieces. Then, I started writing text boxes in order to connect the information and create a storyline. In the end I added a conclusion and a references part."
   ]
  },
  {
   "cell_type": "markdown",
   "metadata": {},
   "source": [
    "# Design\n",
    "My visualizations were made using different types of graphs, such as bar plots, line graphs, bubble plots and maps. I tried to assure that individual data (points and bars) were correctly labelled with their relevant information so readers can get the specific information. Besides, in some graphs I also included dynamic filters so the reader could interact with the story and check for themselves the information of their particular interest.\n",
    "\n",
    "Unfortunately, the very first versions of my story were erased, because I inadvertently overwrote the versions while preparing the story in Tableau."
   ]
  },
  {
   "cell_type": "markdown",
   "metadata": {},
   "source": [
    "# Feedback\n",
    "Friends made me some comments on the title of individual plots. I decided to remove titles and instead include information on the graphs directly inside the text boxes.\n",
    "\n",
    "I also made corrections on the information of the toolboxes (the information that pops-up when we scroll over points, bars or maps). Font size and color were refined from the first to the last versions."
   ]
  },
  {
   "cell_type": "markdown",
   "metadata": {},
   "source": [
    "# Resources\n",
    "List of Web sites, books, forums, blog posts, GitHub repositories etc. that I referred to or used in this  project"
   ]
  },
  {
   "cell_type": "markdown",
   "metadata": {},
   "source": [
    "- To use GDP and double-check the OECD-members data, I downloaded\n",
    "these informations on the official website: https://www.oecd.org/\n",
    "\n",
    "- To import file into python 3\n",
    "https://stackoverflow.com/questions/30996289/utf8-codec-cant-decode-byte-0xf3#30997010\n",
    "\n",
    "- To replace values in a pandas series\n",
    "https://pandas.pydata.org/pandas-docs/stable/generated/pandas.Series.replace.html\n",
    "\n",
    "- To turn pandas multiIndex into column\n",
    "https://stackoverflow.com/questions/20110170/turn-pandas-multi-index-into-column#25733562\n",
    "\n",
    "- How to delete multiple pandas (python) dataframes from memory to save RAM?\n",
    "https://stackoverflow.com/questions/32247643/how-to-delete-multiple-pandas-python-dataframes-from-memory-to-save-ram#32248310\n",
    "\n",
    "- Python/Pandas - creating new variable based on several variables and if/elif/else function\n",
    "https://stackoverflow.com/questions/38798115/python-pandas-creating-new-variable-based-on-several-variables-and-if-elif-els\n",
    "\n",
    "- Tableau plotting map and points\n",
    "https://community.tableau.com/thread/143928\n",
    "\n",
    "- Tableau boxplot\n",
    "https://onlinehelp.tableau.com/current/pro/desktop/en-us/buildexamples_boxplot.html\n",
    "\n",
    "- Tableau confidence interval bars\n",
    "https://kb.tableau.com/articles/howto/creating-error-bars"
   ]
  }
 ],
 "metadata": {
  "kernelspec": {
   "display_name": "Python [conda env:Anaconda3]",
   "language": "python",
   "name": "conda-env-Anaconda3-py"
  },
  "language_info": {
   "codemirror_mode": {
    "name": "ipython",
    "version": 3
   },
   "file_extension": ".py",
   "mimetype": "text/x-python",
   "name": "python",
   "nbconvert_exporter": "python",
   "pygments_lexer": "ipython3",
   "version": "3.6.5"
  }
 },
 "nbformat": 4,
 "nbformat_minor": 2
}
