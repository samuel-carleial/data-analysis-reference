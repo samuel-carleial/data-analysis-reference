{
 "cells": [
  {
   "cell_type": "markdown",
   "metadata": {},
   "source": [
    "<center>\n",
    "    <img src=\"https://cf-courses-data.s3.us.cloud-object-storage.appdomain.cloud/IBMDeveloperSkillsNetwork-PY0101EN-SkillsNetwork/IDSNlogo.png\" width=\"300\" alt=\"cognitiveclass.ai logo\">\n",
    "</center>\n"
   ]
  },
  {
   "cell_type": "markdown",
   "metadata": {},
   "source": [
    "# **Web Scraping Lab**\n"
   ]
  },
  {
   "cell_type": "markdown",
   "metadata": {},
   "source": [
    "Estimated time needed: **40** minutes\n"
   ]
  },
  {
   "cell_type": "markdown",
   "metadata": {},
   "source": [
    "## Objectives\n"
   ]
  },
  {
   "cell_type": "markdown",
   "metadata": {},
   "source": [
    "After completing this lab you will be:\n",
    "\n",
    "*   Familiar with the basics of the `BeautifulSoup` Python library\n",
    "*   Be able to scrape webpages for data and filter the data\n"
   ]
  },
  {
   "cell_type": "markdown",
   "metadata": {},
   "source": [
    "<h2>Table of Contents</h2>\n",
    "<div class=\"alert alert-block alert-info\" style=\"margin-top: 20px\">\n",
    "    <ul>\n",
    "        <li>\n",
    "            <a href=\"#Beautiful-Soup-Object\">Beautiful Soup Object</a>\n",
    "            <ul>\n",
    "                <li><a href=\"#Tags\">Tags</a></li>\n",
    "                <li><a href=\"#Children,-Parents,-and-Siblings\">Children, Parents, and Siblings</a></li>\n",
    "                <li><a href=\"#HTML-Attributes\">HTML Attributes</a></li>\n",
    "                <li><a href=\"#Navigable-String\">Navigable String</a></li>\n",
    "            </ul>\n",
    "        </li>\n",
    "     </ul>\n",
    "    <ul>\n",
    "        <li>\n",
    "            <a href=\"#Filter\">Filter</a>\n",
    "            <ul>\n",
    "                <li><a href=\"#find_All\">find_All</a></li>\n",
    "                <li><a href=\"#find\">find</a></li>\n",
    "            </ul>\n",
    "        </li>\n",
    "     </ul>\n",
    "     <ul>\n",
    "        <li>\n",
    "            <a href=\"#Downloading-And-Scraping-The-Contents-Of-A-Web-Page\">Downloading And Scraping The Contents Of A Web Page</a></li>\n",
    "         <li> <a href=\"#Scraping-tables-from-a-Web-page-using-Pandas\">Scraping tables from a Web page using Pandas</a></li>\n",
    "    </ul>\n",
    "\n",
    "</div>\n",
    "\n",
    "<hr>\n"
   ]
  },
  {
   "cell_type": "markdown",
   "metadata": {},
   "source": [
    "For this lab, we are going to be using Python and several Python libraries. Some of these libraries might be installed in your lab environment or in SN Labs. Others may need to be installed by you. The cells below will install these libraries when executed.\n"
   ]
  },
  {
   "cell_type": "code",
   "execution_count": 1,
   "metadata": {
    "tags": []
   },
   "outputs": [
    {
     "name": "stdout",
     "output_type": "stream",
     "text": [
      "Collecting html5lib\n",
      "  Downloading html5lib-1.1-py2.py3-none-any.whl (112 kB)\n",
      "\u001b[2K     \u001b[90m━━━━━━━━━━━━━━━━━━━━━━━━━━━━━━━━━━━━━━\u001b[0m \u001b[32m112.2/112.2 kB\u001b[0m \u001b[31m20.7 MB/s\u001b[0m eta \u001b[36m0:00:00\u001b[0m\n",
      "\u001b[?25hRequirement already satisfied: six>=1.9 in /home/jupyterlab/conda/envs/python/lib/python3.7/site-packages (from html5lib) (1.16.0)\n",
      "Requirement already satisfied: webencodings in /home/jupyterlab/conda/envs/python/lib/python3.7/site-packages (from html5lib) (0.5.1)\n",
      "Installing collected packages: html5lib\n",
      "Successfully installed html5lib-1.1\n"
     ]
    }
   ],
   "source": [
    "!pip install html5lib"
   ]
  },
  {
   "cell_type": "markdown",
   "metadata": {},
   "source": [
    "**Note:- After running the above code cell, restart the kernel and don't run the above code cell after restarting the kernel.**\n"
   ]
  },
  {
   "cell_type": "code",
   "execution_count": 1,
   "metadata": {
    "tags": []
   },
   "outputs": [
    {
     "name": "stdout",
     "output_type": "stream",
     "text": [
      "Collecting bs4\n",
      "  Downloading bs4-0.0.2-py2.py3-none-any.whl (1.2 kB)\n",
      "Requirement already satisfied: beautifulsoup4 in /home/jupyterlab/conda/envs/python/lib/python3.7/site-packages (from bs4) (4.11.1)\n",
      "Requirement already satisfied: soupsieve>1.2 in /home/jupyterlab/conda/envs/python/lib/python3.7/site-packages (from beautifulsoup4->bs4) (2.3.2.post1)\n",
      "Installing collected packages: bs4\n",
      "Successfully installed bs4-0.0.2\n"
     ]
    }
   ],
   "source": [
    "!pip install bs4\n",
    "#!pip install requests"
   ]
  },
  {
   "cell_type": "markdown",
   "metadata": {},
   "source": [
    "Import the required modules and functions\n"
   ]
  },
  {
   "cell_type": "code",
   "execution_count": 2,
   "metadata": {
    "tags": []
   },
   "outputs": [],
   "source": [
    "from bs4 import BeautifulSoup # this module helps in web scrapping.\n",
    "import requests  # this module helps us to download a web page"
   ]
  },
  {
   "cell_type": "markdown",
   "metadata": {},
   "source": [
    "## Beautiful Soup Object\n"
   ]
  },
  {
   "cell_type": "markdown",
   "metadata": {},
   "source": [
    "Beautiful Soup is a Python library for pulling data out of HTML and XML files, we will focus on HTML files. This is accomplished by representing the HTML as a set of objects with methods used to parse the HTML.  We can navigate the HTML as a tree, and/or filter out what we are looking for.\n",
    "\n",
    "Consider the following HTML:\n"
   ]
  },
  {
   "cell_type": "code",
   "execution_count": null,
   "metadata": {},
   "outputs": [],
   "source": [
    "%%html\n",
    "<!DOCTYPE html>\n",
    "<html>\n",
    "<head>\n",
    "<title>Page Title</title>\n",
    "</head>\n",
    "<body>\n",
    "<h3><b id='boldest'>Lebron James</b></h3>\n",
    "<p> Salary: $ 92,000,000 </p>\n",
    "<h3> Stephen Curry</h3>\n",
    "<p> Salary: $85,000, 000 </p>\n",
    "<h3> Kevin Durant </h3>\n",
    "<p> Salary: $73,200, 000</p>\n",
    "</body>\n",
    "</html>"
   ]
  },
  {
   "cell_type": "markdown",
   "metadata": {},
   "source": [
    "We can store it as a string in the variable HTML:\n"
   ]
  },
  {
   "cell_type": "code",
   "execution_count": 3,
   "metadata": {
    "tags": []
   },
   "outputs": [],
   "source": [
    "html = \"<!DOCTYPE html><html><head><title>Page Title</title></head><body><h3><b id='boldest'>Lebron James</b></h3><p> Salary: $ 92,000,000 </p><h3> Stephen Curry</h3><p> Salary: $85,000, 000 </p><h3> Kevin Durant </h3><p> Salary: $73,200, 000</p></body></html>\""
   ]
  },
  {
   "cell_type": "markdown",
   "metadata": {},
   "source": [
    "To parse a document, pass it into the <code>BeautifulSoup</code> constructor. The <code>BeautifulSoup</code> object represents the document as a nested data structure:\n"
   ]
  },
  {
   "cell_type": "code",
   "execution_count": 4,
   "metadata": {
    "tags": []
   },
   "outputs": [],
   "source": [
    "soup = BeautifulSoup(html, 'html5lib')"
   ]
  },
  {
   "cell_type": "markdown",
   "metadata": {},
   "source": [
    "First, the document is converted to Unicode (similar to ASCII) and HTML entities are converted to Unicode characters. Beautiful Soup transforms a complex HTML document into a complex tree of Python objects. The <code>BeautifulSoup</code> object can create other types of objects. In this lab, we will cover <code>BeautifulSoup</code> and <code>Tag</code> objects, that for the purposes of this lab are identical. Finally, we will look at <code>NavigableString</code> objects.\n"
   ]
  },
  {
   "cell_type": "markdown",
   "metadata": {},
   "source": [
    "We can use the method <code>prettify()</code> to display the HTML in the nested structure:\n"
   ]
  },
  {
   "cell_type": "code",
   "execution_count": 5,
   "metadata": {
    "tags": []
   },
   "outputs": [
    {
     "name": "stdout",
     "output_type": "stream",
     "text": [
      "<!DOCTYPE html>\n",
      "<html>\n",
      " <head>\n",
      "  <title>\n",
      "   Page Title\n",
      "  </title>\n",
      " </head>\n",
      " <body>\n",
      "  <h3>\n",
      "   <b id=\"boldest\">\n",
      "    Lebron James\n",
      "   </b>\n",
      "  </h3>\n",
      "  <p>\n",
      "   Salary: $ 92,000,000\n",
      "  </p>\n",
      "  <h3>\n",
      "   Stephen Curry\n",
      "  </h3>\n",
      "  <p>\n",
      "   Salary: $85,000, 000\n",
      "  </p>\n",
      "  <h3>\n",
      "   Kevin Durant\n",
      "  </h3>\n",
      "  <p>\n",
      "   Salary: $73,200, 000\n",
      "  </p>\n",
      " </body>\n",
      "</html>\n"
     ]
    }
   ],
   "source": [
    "print(soup.prettify())"
   ]
  },
  {
   "cell_type": "markdown",
   "metadata": {},
   "source": [
    "## Tags\n"
   ]
  },
  {
   "cell_type": "markdown",
   "metadata": {},
   "source": [
    "Let's say we want the  title of the page and the name of the top paid player. We can use the <code>Tag</code>. The <code>Tag</code> object corresponds to an HTML tag in the original document, for example, the tag title.\n"
   ]
  },
  {
   "cell_type": "code",
   "execution_count": 7,
   "metadata": {
    "tags": []
   },
   "outputs": [
    {
     "name": "stdout",
     "output_type": "stream",
     "text": [
      "tag object: <title>Page Title</title>\n"
     ]
    }
   ],
   "source": [
    "tag_object = soup.title\n",
    "print(\"tag object:\", tag_object)"
   ]
  },
  {
   "cell_type": "markdown",
   "metadata": {},
   "source": [
    "we can see the tag type <code>bs4.element.Tag</code>\n"
   ]
  },
  {
   "cell_type": "code",
   "execution_count": 8,
   "metadata": {
    "tags": []
   },
   "outputs": [
    {
     "name": "stdout",
     "output_type": "stream",
     "text": [
      "tag object type: <class 'bs4.element.Tag'>\n"
     ]
    }
   ],
   "source": [
    "print(\"tag object type:\", type(tag_object))"
   ]
  },
  {
   "cell_type": "markdown",
   "metadata": {},
   "source": [
    "If there is more than one <code>Tag</code> with the same name, the first element with that <code>Tag</code> name is called. This corresponds to the highest paid player:\n"
   ]
  },
  {
   "cell_type": "code",
   "execution_count": 9,
   "metadata": {
    "tags": []
   },
   "outputs": [
    {
     "data": {
      "text/plain": [
       "<h3><b id=\"boldest\">Lebron James</b></h3>"
      ]
     },
     "execution_count": 9,
     "metadata": {},
     "output_type": "execute_result"
    }
   ],
   "source": [
    "tag_object = soup.h3\n",
    "tag_object"
   ]
  },
  {
   "cell_type": "markdown",
   "metadata": {},
   "source": [
    "Enclosed in the bold attribute <code>b</code>, it helps to use the tree representation. We can navigate down the tree using the child attribute to get the name.\n"
   ]
  },
  {
   "cell_type": "markdown",
   "metadata": {},
   "source": [
    "### Children, Parents, and Siblings\n"
   ]
  },
  {
   "cell_type": "markdown",
   "metadata": {},
   "source": [
    "As stated above, the <code>Tag</code> object is a tree of objects. We can access the child of the tag or navigate down the branch as follows:\n"
   ]
  },
  {
   "cell_type": "code",
   "execution_count": 10,
   "metadata": {
    "tags": []
   },
   "outputs": [
    {
     "data": {
      "text/plain": [
       "<b id=\"boldest\">Lebron James</b>"
      ]
     },
     "execution_count": 10,
     "metadata": {},
     "output_type": "execute_result"
    }
   ],
   "source": [
    "tag_child = tag_object.b\n",
    "tag_child"
   ]
  },
  {
   "cell_type": "markdown",
   "metadata": {},
   "source": [
    "You can access the parent with the <code> parent</code>.\n"
   ]
  },
  {
   "cell_type": "code",
   "execution_count": 11,
   "metadata": {
    "tags": []
   },
   "outputs": [
    {
     "data": {
      "text/plain": [
       "<h3><b id=\"boldest\">Lebron James</b></h3>"
      ]
     },
     "execution_count": 11,
     "metadata": {},
     "output_type": "execute_result"
    }
   ],
   "source": [
    "parent_tag = tag_child.parent\n",
    "parent_tag"
   ]
  },
  {
   "cell_type": "markdown",
   "metadata": {},
   "source": [
    "this is identical to:\n"
   ]
  },
  {
   "cell_type": "code",
   "execution_count": 12,
   "metadata": {
    "tags": []
   },
   "outputs": [
    {
     "data": {
      "text/plain": [
       "<h3><b id=\"boldest\">Lebron James</b></h3>"
      ]
     },
     "execution_count": 12,
     "metadata": {},
     "output_type": "execute_result"
    }
   ],
   "source": [
    "tag_object"
   ]
  },
  {
   "cell_type": "markdown",
   "metadata": {},
   "source": [
    "<code>tag_object</code> parent is the <code>body</code> element.\n"
   ]
  },
  {
   "cell_type": "code",
   "execution_count": 13,
   "metadata": {
    "tags": []
   },
   "outputs": [
    {
     "data": {
      "text/plain": [
       "<body><h3><b id=\"boldest\">Lebron James</b></h3><p> Salary: $ 92,000,000 </p><h3> Stephen Curry</h3><p> Salary: $85,000, 000 </p><h3> Kevin Durant </h3><p> Salary: $73,200, 000</p></body>"
      ]
     },
     "execution_count": 13,
     "metadata": {},
     "output_type": "execute_result"
    }
   ],
   "source": [
    "tag_object.parent"
   ]
  },
  {
   "cell_type": "markdown",
   "metadata": {},
   "source": [
    "<code>tag_object</code> sibling is the <code>paragraph</code> element.\n"
   ]
  },
  {
   "cell_type": "code",
   "execution_count": 14,
   "metadata": {
    "tags": []
   },
   "outputs": [
    {
     "data": {
      "text/plain": [
       "<p> Salary: $ 92,000,000 </p>"
      ]
     },
     "execution_count": 14,
     "metadata": {},
     "output_type": "execute_result"
    }
   ],
   "source": [
    "sibling_1 = tag_object.next_sibling\n",
    "sibling_1"
   ]
  },
  {
   "cell_type": "markdown",
   "metadata": {},
   "source": [
    "`sibling_2` is the `header` element, which is also a sibling of both `sibling_1` and `tag_object`\n"
   ]
  },
  {
   "cell_type": "code",
   "execution_count": 15,
   "metadata": {
    "tags": []
   },
   "outputs": [
    {
     "data": {
      "text/plain": [
       "<h3> Stephen Curry</h3>"
      ]
     },
     "execution_count": 15,
     "metadata": {},
     "output_type": "execute_result"
    }
   ],
   "source": [
    "sibling_2 = sibling_1.next_sibling\n",
    "sibling_2"
   ]
  },
  {
   "cell_type": "markdown",
   "metadata": {},
   "source": [
    "<h3 id=\"first_question\">Exercise: <code>next_sibling</code></h3>\n"
   ]
  },
  {
   "cell_type": "markdown",
   "metadata": {},
   "source": [
    "Use the object <code>sibling\\_2</code> and the method <code>next_sibling</code> to find the salary of Stephen Curry:\n"
   ]
  },
  {
   "cell_type": "code",
   "execution_count": 18,
   "metadata": {
    "tags": []
   },
   "outputs": [
    {
     "data": {
      "text/plain": [
       "<p> Salary: $85,000, 000 </p>"
      ]
     },
     "execution_count": 18,
     "metadata": {},
     "output_type": "execute_result"
    }
   ],
   "source": [
    "sibling_3 = sibling_2.next_sibling\n",
    "sibling_3"
   ]
  },
  {
   "cell_type": "markdown",
   "metadata": {},
   "source": [
    "<details><summary>Click here for the solution</summary>\n",
    "\n",
    "```\n",
    "sibling_2.next_sibling\n",
    "\n",
    "```\n",
    "\n",
    "</details>\n"
   ]
  },
  {
   "cell_type": "markdown",
   "metadata": {},
   "source": [
    "### HTML Attributes\n"
   ]
  },
  {
   "cell_type": "markdown",
   "metadata": {},
   "source": [
    "Tags can have attributes. For example, the tag <code>id=\"boldest\"</code> has an attribute <code>id</code> whose value is <code>boldest</code>. You can access a tag's attributes by treating the tag like a dictionary:\n"
   ]
  },
  {
   "cell_type": "code",
   "execution_count": 20,
   "metadata": {
    "tags": []
   },
   "outputs": [
    {
     "data": {
      "text/plain": [
       "<b id=\"boldest\">Lebron James</b>"
      ]
     },
     "execution_count": 20,
     "metadata": {},
     "output_type": "execute_result"
    }
   ],
   "source": [
    "tag_child"
   ]
  },
  {
   "cell_type": "code",
   "execution_count": 21,
   "metadata": {
    "tags": []
   },
   "outputs": [
    {
     "data": {
      "text/plain": [
       "'boldest'"
      ]
     },
     "execution_count": 21,
     "metadata": {},
     "output_type": "execute_result"
    }
   ],
   "source": [
    "tag_child['id']"
   ]
  },
  {
   "cell_type": "markdown",
   "metadata": {},
   "source": [
    "You can access tag attributes directly with the method <code>attrs</code>, which gives as a result a dictionary:\n"
   ]
  },
  {
   "cell_type": "code",
   "execution_count": 23,
   "metadata": {
    "tags": []
   },
   "outputs": [
    {
     "data": {
      "text/plain": [
       "{'id': 'boldest'}"
      ]
     },
     "execution_count": 23,
     "metadata": {},
     "output_type": "execute_result"
    }
   ],
   "source": [
    "tag_child.attrs"
   ]
  },
  {
   "cell_type": "markdown",
   "metadata": {},
   "source": [
    "You can also work with Multi-valued attributes. Check out <a href=\"https://www.crummy.com/software/BeautifulSoup/bs4/doc/?utm_medium=Exinfluencer&utm_source=Exinfluencer&utm_content=000026UJ&utm_term=10006555&utm_id=NA-SkillsNetwork-Channel-SkillsNetworkCoursesIBMDeveloperSkillsNetworkPY0101ENSkillsNetwork19487395-2021-01-01\">\\[1]</a> for more.\n"
   ]
  },
  {
   "cell_type": "markdown",
   "metadata": {},
   "source": [
    "We can also obtain the content of the attribute of the <code>tag</code> using the Python <code>get()</code> method.\n"
   ]
  },
  {
   "cell_type": "code",
   "execution_count": 24,
   "metadata": {
    "tags": []
   },
   "outputs": [
    {
     "data": {
      "text/plain": [
       "'boldest'"
      ]
     },
     "execution_count": 24,
     "metadata": {},
     "output_type": "execute_result"
    }
   ],
   "source": [
    "tag_child.get('id')"
   ]
  },
  {
   "cell_type": "markdown",
   "metadata": {},
   "source": [
    "### Navigable String\n"
   ]
  },
  {
   "cell_type": "markdown",
   "metadata": {},
   "source": [
    "A string corresponds to a bit of text or content within a tag. Beautiful Soup uses the <code>NavigableString</code> class to contain this text. In our HTML we can obtain the name of the first player by extracting the string of the <code>Tag</code> object <code>tag_child</code> as follows:\n"
   ]
  },
  {
   "cell_type": "code",
   "execution_count": 26,
   "metadata": {
    "tags": []
   },
   "outputs": [
    {
     "data": {
      "text/plain": [
       "<b id=\"boldest\">Lebron James</b>"
      ]
     },
     "execution_count": 26,
     "metadata": {},
     "output_type": "execute_result"
    }
   ],
   "source": [
    "tag_child"
   ]
  },
  {
   "cell_type": "code",
   "execution_count": 25,
   "metadata": {
    "tags": []
   },
   "outputs": [
    {
     "data": {
      "text/plain": [
       "'Lebron James'"
      ]
     },
     "execution_count": 25,
     "metadata": {},
     "output_type": "execute_result"
    }
   ],
   "source": [
    "tag_string = tag_child.string\n",
    "tag_string"
   ]
  },
  {
   "cell_type": "markdown",
   "metadata": {},
   "source": [
    "we can verify the type is Navigable String\n"
   ]
  },
  {
   "cell_type": "code",
   "execution_count": 27,
   "metadata": {
    "tags": []
   },
   "outputs": [
    {
     "data": {
      "text/plain": [
       "bs4.element.NavigableString"
      ]
     },
     "execution_count": 27,
     "metadata": {},
     "output_type": "execute_result"
    }
   ],
   "source": [
    "type(tag_string)"
   ]
  },
  {
   "cell_type": "markdown",
   "metadata": {},
   "source": [
    "A NavigableString is similar to a Python string or Unicode string. To be more precise, the main difference is that it also supports some <code>BeautifulSoup</code> features. We can convert it to string object in Python:\n"
   ]
  },
  {
   "cell_type": "code",
   "execution_count": 28,
   "metadata": {
    "tags": []
   },
   "outputs": [
    {
     "data": {
      "text/plain": [
       "'Lebron James'"
      ]
     },
     "execution_count": 28,
     "metadata": {},
     "output_type": "execute_result"
    }
   ],
   "source": [
    "unicode_string = str(tag_string)\n",
    "unicode_string"
   ]
  },
  {
   "cell_type": "markdown",
   "metadata": {},
   "source": [
    "## Filter\n"
   ]
  },
  {
   "cell_type": "markdown",
   "metadata": {},
   "source": [
    "Filters allow you to find complex patterns, the simplest filter is a string. In this section we will pass a string to a different filter method and Beautiful Soup will perform a match against that exact string. Consider the following HTML of rocket launches:\n"
   ]
  },
  {
   "cell_type": "code",
   "execution_count": null,
   "metadata": {},
   "outputs": [],
   "source": [
    "%%html\n",
    "<table>\n",
    "  <tr>\n",
    "    <td id='flight' >Flight No</td>\n",
    "    <td>Launch site</td> \n",
    "    <td>Payload mass</td>\n",
    "   </tr>\n",
    "  <tr> \n",
    "    <td>1</td>\n",
    "    <td><a href='https://en.wikipedia.org/wiki/Florida'>Florida</a></td>\n",
    "    <td>300 kg</td>\n",
    "  </tr>\n",
    "  <tr>\n",
    "    <td>2</td>\n",
    "    <td><a href='https://en.wikipedia.org/wiki/Texas'>Texas</a></td>\n",
    "    <td>94 kg</td>\n",
    "  </tr>\n",
    "  <tr>\n",
    "    <td>3</td>\n",
    "    <td><a href='https://en.wikipedia.org/wiki/Florida'>Florida<a> </td>\n",
    "    <td>80 kg</td>\n",
    "  </tr>\n",
    "</table>"
   ]
  },
  {
   "cell_type": "markdown",
   "metadata": {},
   "source": [
    "We can store it as a string in the variable <code>table</code>:\n"
   ]
  },
  {
   "cell_type": "code",
   "execution_count": 29,
   "metadata": {
    "tags": []
   },
   "outputs": [],
   "source": [
    "table = \"<table><tr><td id='flight'>Flight No</td><td>Launch site</td> <td>Payload mass</td></tr><tr> <td>1</td><td><a href='https://en.wikipedia.org/wiki/Florida'>Florida<a></td><td>300 kg</td></tr><tr><td>2</td><td><a href='https://en.wikipedia.org/wiki/Texas'>Texas</a></td><td>94 kg</td></tr><tr><td>3</td><td><a href='https://en.wikipedia.org/wiki/Florida'>Florida<a> </td><td>80 kg</td></tr></table>\""
   ]
  },
  {
   "cell_type": "code",
   "execution_count": 30,
   "metadata": {
    "tags": []
   },
   "outputs": [],
   "source": [
    "table_bs = BeautifulSoup(table, 'html5lib')"
   ]
  },
  {
   "cell_type": "markdown",
   "metadata": {},
   "source": [
    "## find_All\n"
   ]
  },
  {
   "cell_type": "markdown",
   "metadata": {},
   "source": [
    "The <code>find_all()</code> method looks through a tag's descendants and retrieves all descendants that match your filters.\n",
    "\n",
    "<p>\n",
    "The Method signature for <code>find_all(name, attrs, recursive, string, limit, **kwargs)<c/ode>\n",
    "</p>\n"
   ]
  },
  {
   "cell_type": "markdown",
   "metadata": {},
   "source": [
    "### Name\n"
   ]
  },
  {
   "cell_type": "markdown",
   "metadata": {},
   "source": [
    "When we set the <code>name</code> parameter to a tag name, the method will extract all the tags with that name and its children.\n"
   ]
  },
  {
   "cell_type": "code",
   "execution_count": 32,
   "metadata": {
    "tags": []
   },
   "outputs": [
    {
     "data": {
      "text/plain": [
       "[<tr><td id=\"flight\">Flight No</td><td>Launch site</td> <td>Payload mass</td></tr>,\n",
       " <tr> <td>1</td><td><a href=\"https://en.wikipedia.org/wiki/Florida\">Florida</a><a></a></td><td>300 kg</td></tr>,\n",
       " <tr><td>2</td><td><a href=\"https://en.wikipedia.org/wiki/Texas\">Texas</a></td><td>94 kg</td></tr>,\n",
       " <tr><td>3</td><td><a href=\"https://en.wikipedia.org/wiki/Florida\">Florida</a><a> </a></td><td>80 kg</td></tr>]"
      ]
     },
     "execution_count": 32,
     "metadata": {},
     "output_type": "execute_result"
    }
   ],
   "source": [
    "table_rows = table_bs.find_all('tr')\n",
    "table_rows"
   ]
  },
  {
   "cell_type": "markdown",
   "metadata": {},
   "source": [
    "The result is a Python iterable just like a list, each element is a <code>tag</code> object:\n"
   ]
  },
  {
   "cell_type": "code",
   "execution_count": 33,
   "metadata": {
    "tags": []
   },
   "outputs": [
    {
     "data": {
      "text/plain": [
       "<tr><td id=\"flight\">Flight No</td><td>Launch site</td> <td>Payload mass</td></tr>"
      ]
     },
     "execution_count": 33,
     "metadata": {},
     "output_type": "execute_result"
    }
   ],
   "source": [
    "first_row = table_rows[0]\n",
    "first_row"
   ]
  },
  {
   "cell_type": "markdown",
   "metadata": {},
   "source": [
    "The type is <code>tag</code>\n"
   ]
  },
  {
   "cell_type": "code",
   "execution_count": 34,
   "metadata": {
    "tags": []
   },
   "outputs": [
    {
     "name": "stdout",
     "output_type": "stream",
     "text": [
      "<class 'bs4.element.Tag'>\n"
     ]
    }
   ],
   "source": [
    "print(type(first_row))"
   ]
  },
  {
   "cell_type": "markdown",
   "metadata": {},
   "source": [
    "we can obtain the child\n"
   ]
  },
  {
   "cell_type": "code",
   "execution_count": 39,
   "metadata": {
    "tags": []
   },
   "outputs": [
    {
     "data": {
      "text/plain": [
       "<td id=\"flight\">Flight No</td>"
      ]
     },
     "execution_count": 39,
     "metadata": {},
     "output_type": "execute_result"
    }
   ],
   "source": [
    "first_row.td"
   ]
  },
  {
   "cell_type": "markdown",
   "metadata": {},
   "source": [
    "If we iterate through the list, each element corresponds to a row in the table:\n"
   ]
  },
  {
   "cell_type": "code",
   "execution_count": 41,
   "metadata": {
    "tags": []
   },
   "outputs": [
    {
     "name": "stdout",
     "output_type": "stream",
     "text": [
      "row 1 is <tr><td id=\"flight\">Flight No</td><td>Launch site</td> <td>Payload mass</td></tr>\n",
      "row 2 is <tr> <td>1</td><td><a href=\"https://en.wikipedia.org/wiki/Florida\">Florida</a><a></a></td><td>300 kg</td></tr>\n",
      "row 3 is <tr><td>2</td><td><a href=\"https://en.wikipedia.org/wiki/Texas\">Texas</a></td><td>94 kg</td></tr>\n",
      "row 4 is <tr><td>3</td><td><a href=\"https://en.wikipedia.org/wiki/Florida\">Florida</a><a> </a></td><td>80 kg</td></tr>\n"
     ]
    }
   ],
   "source": [
    "for i,row in enumerate(table_rows):\n",
    "    print(\"row\",i+1,\"is\",row)\n",
    "    "
   ]
  },
  {
   "cell_type": "markdown",
   "metadata": {},
   "source": [
    "As <code>row</code> is a <code>cell</code> object, we can apply the method <code>find_all</code> to it and extract table cells in the object <code>cells</code> using the tag <code>td</code>, this is all the children with the name <code>td</code>. The result is a list, each element corresponds to a cell and is a <code>Tag</code> object, we can iterate through this list as well. We can extract the content using the <code>string</code> attribute.\n"
   ]
  },
  {
   "cell_type": "code",
   "execution_count": 43,
   "metadata": {
    "tags": []
   },
   "outputs": [
    {
     "data": {
      "text/plain": [
       "[<tr><td id=\"flight\">Flight No</td><td>Launch site</td> <td>Payload mass</td></tr>,\n",
       " <tr> <td>1</td><td><a href=\"https://en.wikipedia.org/wiki/Florida\">Florida</a><a></a></td><td>300 kg</td></tr>,\n",
       " <tr><td>2</td><td><a href=\"https://en.wikipedia.org/wiki/Texas\">Texas</a></td><td>94 kg</td></tr>,\n",
       " <tr><td>3</td><td><a href=\"https://en.wikipedia.org/wiki/Florida\">Florida</a><a> </a></td><td>80 kg</td></tr>]"
      ]
     },
     "execution_count": 43,
     "metadata": {},
     "output_type": "execute_result"
    }
   ],
   "source": [
    "table_rows"
   ]
  },
  {
   "cell_type": "code",
   "execution_count": 42,
   "metadata": {
    "tags": []
   },
   "outputs": [
    {
     "name": "stdout",
     "output_type": "stream",
     "text": [
      "row 1\n",
      "colunm 1 cell <td id=\"flight\">Flight No</td>\n",
      "colunm 2 cell <td>Launch site</td>\n",
      "colunm 3 cell <td>Payload mass</td>\n",
      "row 2\n",
      "colunm 1 cell <td>1</td>\n",
      "colunm 2 cell <td><a href=\"https://en.wikipedia.org/wiki/Florida\">Florida</a><a></a></td>\n",
      "colunm 3 cell <td>300 kg</td>\n",
      "row 3\n",
      "colunm 1 cell <td>2</td>\n",
      "colunm 2 cell <td><a href=\"https://en.wikipedia.org/wiki/Texas\">Texas</a></td>\n",
      "colunm 3 cell <td>94 kg</td>\n",
      "row 4\n",
      "colunm 1 cell <td>3</td>\n",
      "colunm 2 cell <td><a href=\"https://en.wikipedia.org/wiki/Florida\">Florida</a><a> </a></td>\n",
      "colunm 3 cell <td>80 kg</td>\n"
     ]
    }
   ],
   "source": [
    "# note that Python uses zero-indexes. Here the indexes are sumed by 1 to represent the real number\n",
    "for i,row in enumerate(table_rows):\n",
    "    print(\"row\",i+1)\n",
    "    cells=row.find_all('td')\n",
    "    for j,cell in enumerate(cells):\n",
    "        print('colunm',j+1,\"cell\",cell)"
   ]
  },
  {
   "cell_type": "markdown",
   "metadata": {},
   "source": [
    "If we use a list we can match against any item in that list.\n"
   ]
  },
  {
   "cell_type": "code",
   "execution_count": 45,
   "metadata": {
    "tags": []
   },
   "outputs": [
    {
     "data": {
      "text/plain": [
       "<html><head></head><body><table><tbody><tr><td id=\"flight\">Flight No</td><td>Launch site</td> <td>Payload mass</td></tr><tr> <td>1</td><td><a href=\"https://en.wikipedia.org/wiki/Florida\">Florida</a><a></a></td><td>300 kg</td></tr><tr><td>2</td><td><a href=\"https://en.wikipedia.org/wiki/Texas\">Texas</a></td><td>94 kg</td></tr><tr><td>3</td><td><a href=\"https://en.wikipedia.org/wiki/Florida\">Florida</a><a> </a></td><td>80 kg</td></tr></tbody></table></body></html>"
      ]
     },
     "execution_count": 45,
     "metadata": {},
     "output_type": "execute_result"
    }
   ],
   "source": [
    "table_bs"
   ]
  },
  {
   "cell_type": "code",
   "execution_count": 44,
   "metadata": {
    "tags": []
   },
   "outputs": [
    {
     "data": {
      "text/plain": [
       "[<tr><td id=\"flight\">Flight No</td><td>Launch site</td> <td>Payload mass</td></tr>,\n",
       " <td id=\"flight\">Flight No</td>,\n",
       " <td>Launch site</td>,\n",
       " <td>Payload mass</td>,\n",
       " <tr> <td>1</td><td><a href=\"https://en.wikipedia.org/wiki/Florida\">Florida</a><a></a></td><td>300 kg</td></tr>,\n",
       " <td>1</td>,\n",
       " <td><a href=\"https://en.wikipedia.org/wiki/Florida\">Florida</a><a></a></td>,\n",
       " <td>300 kg</td>,\n",
       " <tr><td>2</td><td><a href=\"https://en.wikipedia.org/wiki/Texas\">Texas</a></td><td>94 kg</td></tr>,\n",
       " <td>2</td>,\n",
       " <td><a href=\"https://en.wikipedia.org/wiki/Texas\">Texas</a></td>,\n",
       " <td>94 kg</td>,\n",
       " <tr><td>3</td><td><a href=\"https://en.wikipedia.org/wiki/Florida\">Florida</a><a> </a></td><td>80 kg</td></tr>,\n",
       " <td>3</td>,\n",
       " <td><a href=\"https://en.wikipedia.org/wiki/Florida\">Florida</a><a> </a></td>,\n",
       " <td>80 kg</td>]"
      ]
     },
     "execution_count": 44,
     "metadata": {},
     "output_type": "execute_result"
    }
   ],
   "source": [
    "list_input = table_bs.find_all(name=[\"tr\", \"td\"])\n",
    "list_input"
   ]
  },
  {
   "cell_type": "markdown",
   "metadata": {},
   "source": [
    "### Attributes\n"
   ]
  },
  {
   "cell_type": "markdown",
   "metadata": {},
   "source": [
    "If the argument is not recognized it will be turned into a filter on the tag's attributes. For example with the <code>id</code> argument, Beautiful Soup will filter against each tag's <code>id</code> attribute. For example, the first <code>td</code> elements have a value of <code>id</code> of <code>flight</code>, therefore we can filter based on that <code>id</code> value.\n"
   ]
  },
  {
   "cell_type": "code",
   "execution_count": 47,
   "metadata": {
    "tags": []
   },
   "outputs": [
    {
     "data": {
      "text/plain": [
       "[<td id=\"flight\">Flight No</td>]"
      ]
     },
     "execution_count": 47,
     "metadata": {},
     "output_type": "execute_result"
    }
   ],
   "source": [
    "table_bs.find_all(id = \"flight\")"
   ]
  },
  {
   "cell_type": "markdown",
   "metadata": {},
   "source": [
    "We can find all the elements that have links to the Florida Wikipedia page:\n"
   ]
  },
  {
   "cell_type": "code",
   "execution_count": 48,
   "metadata": {
    "tags": []
   },
   "outputs": [
    {
     "data": {
      "text/plain": [
       "[<a href=\"https://en.wikipedia.org/wiki/Florida\">Florida</a>,\n",
       " <a href=\"https://en.wikipedia.org/wiki/Florida\">Florida</a>]"
      ]
     },
     "execution_count": 48,
     "metadata": {},
     "output_type": "execute_result"
    }
   ],
   "source": [
    "list_input = table_bs.find_all(href=\"https://en.wikipedia.org/wiki/Florida\")\n",
    "list_input"
   ]
  },
  {
   "cell_type": "markdown",
   "metadata": {},
   "source": [
    "If we set the <code>href</code> attribute to True, regardless of what the value is, the code finds all tags with <code>href</code> value:\n"
   ]
  },
  {
   "cell_type": "code",
   "execution_count": 51,
   "metadata": {
    "tags": []
   },
   "outputs": [
    {
     "data": {
      "text/plain": [
       "[<a href=\"https://en.wikipedia.org/wiki/Florida\">Florida</a>,\n",
       " <a href=\"https://en.wikipedia.org/wiki/Texas\">Texas</a>,\n",
       " <a href=\"https://en.wikipedia.org/wiki/Florida\">Florida</a>]"
      ]
     },
     "execution_count": 51,
     "metadata": {},
     "output_type": "execute_result"
    }
   ],
   "source": [
    "#table_bs.find_all(id = True)\n",
    "table_bs.find_all(href = True)"
   ]
  },
  {
   "cell_type": "markdown",
   "metadata": {},
   "source": [
    "There are other methods for dealing with attributes and other related methods. Check out the following <a href='https://www.crummy.com/software/BeautifulSoup/bs4/doc/?utm_medium=Exinfluencer&utm_source=Exinfluencer&utm_content=000026UJ&utm_term=10006555&utm_id=NA-SkillsNetwork-Channel-SkillsNetworkCoursesIBMDeveloperSkillsNetworkPY0101ENSkillsNetwork19487395-2021-01-01#css-selectors'>link</a>\n"
   ]
  },
  {
   "cell_type": "markdown",
   "metadata": {},
   "source": [
    "<h3 id=\"exer_type\">Exercise: <code>find_all</code></h3>\n"
   ]
  },
  {
   "cell_type": "markdown",
   "metadata": {},
   "source": [
    "Using the logic above, find all the elements without <code>href</code> value\n"
   ]
  },
  {
   "cell_type": "code",
   "execution_count": 52,
   "metadata": {
    "tags": []
   },
   "outputs": [
    {
     "data": {
      "text/plain": [
       "[<html><head></head><body><table><tbody><tr><td id=\"flight\">Flight No</td><td>Launch site</td> <td>Payload mass</td></tr><tr> <td>1</td><td><a href=\"https://en.wikipedia.org/wiki/Florida\">Florida</a><a></a></td><td>300 kg</td></tr><tr><td>2</td><td><a href=\"https://en.wikipedia.org/wiki/Texas\">Texas</a></td><td>94 kg</td></tr><tr><td>3</td><td><a href=\"https://en.wikipedia.org/wiki/Florida\">Florida</a><a> </a></td><td>80 kg</td></tr></tbody></table></body></html>,\n",
       " <head></head>,\n",
       " <body><table><tbody><tr><td id=\"flight\">Flight No</td><td>Launch site</td> <td>Payload mass</td></tr><tr> <td>1</td><td><a href=\"https://en.wikipedia.org/wiki/Florida\">Florida</a><a></a></td><td>300 kg</td></tr><tr><td>2</td><td><a href=\"https://en.wikipedia.org/wiki/Texas\">Texas</a></td><td>94 kg</td></tr><tr><td>3</td><td><a href=\"https://en.wikipedia.org/wiki/Florida\">Florida</a><a> </a></td><td>80 kg</td></tr></tbody></table></body>,\n",
       " <table><tbody><tr><td id=\"flight\">Flight No</td><td>Launch site</td> <td>Payload mass</td></tr><tr> <td>1</td><td><a href=\"https://en.wikipedia.org/wiki/Florida\">Florida</a><a></a></td><td>300 kg</td></tr><tr><td>2</td><td><a href=\"https://en.wikipedia.org/wiki/Texas\">Texas</a></td><td>94 kg</td></tr><tr><td>3</td><td><a href=\"https://en.wikipedia.org/wiki/Florida\">Florida</a><a> </a></td><td>80 kg</td></tr></tbody></table>,\n",
       " <tbody><tr><td id=\"flight\">Flight No</td><td>Launch site</td> <td>Payload mass</td></tr><tr> <td>1</td><td><a href=\"https://en.wikipedia.org/wiki/Florida\">Florida</a><a></a></td><td>300 kg</td></tr><tr><td>2</td><td><a href=\"https://en.wikipedia.org/wiki/Texas\">Texas</a></td><td>94 kg</td></tr><tr><td>3</td><td><a href=\"https://en.wikipedia.org/wiki/Florida\">Florida</a><a> </a></td><td>80 kg</td></tr></tbody>,\n",
       " <tr><td id=\"flight\">Flight No</td><td>Launch site</td> <td>Payload mass</td></tr>,\n",
       " <td id=\"flight\">Flight No</td>,\n",
       " <td>Launch site</td>,\n",
       " <td>Payload mass</td>,\n",
       " <tr> <td>1</td><td><a href=\"https://en.wikipedia.org/wiki/Florida\">Florida</a><a></a></td><td>300 kg</td></tr>,\n",
       " <td>1</td>,\n",
       " <td><a href=\"https://en.wikipedia.org/wiki/Florida\">Florida</a><a></a></td>,\n",
       " <a></a>,\n",
       " <td>300 kg</td>,\n",
       " <tr><td>2</td><td><a href=\"https://en.wikipedia.org/wiki/Texas\">Texas</a></td><td>94 kg</td></tr>,\n",
       " <td>2</td>,\n",
       " <td><a href=\"https://en.wikipedia.org/wiki/Texas\">Texas</a></td>,\n",
       " <td>94 kg</td>,\n",
       " <tr><td>3</td><td><a href=\"https://en.wikipedia.org/wiki/Florida\">Florida</a><a> </a></td><td>80 kg</td></tr>,\n",
       " <td>3</td>,\n",
       " <td><a href=\"https://en.wikipedia.org/wiki/Florida\">Florida</a><a> </a></td>,\n",
       " <a> </a>,\n",
       " <td>80 kg</td>]"
      ]
     },
     "execution_count": 52,
     "metadata": {},
     "output_type": "execute_result"
    }
   ],
   "source": [
    "table_bs.find_all(href = False)"
   ]
  },
  {
   "cell_type": "markdown",
   "metadata": {},
   "source": [
    "<details><summary>Click here for the solution</summary>\n",
    "\n",
    "```\n",
    "table_bs.find_all(href=False)\n",
    "\n",
    "```\n",
    "\n",
    "</details>\n"
   ]
  },
  {
   "cell_type": "markdown",
   "metadata": {},
   "source": [
    "Using the soup object <code>soup</code>, find the element with the <code>id</code> attribute content set to <code>\"boldest\"</code>.\n"
   ]
  },
  {
   "cell_type": "code",
   "execution_count": 55,
   "metadata": {
    "tags": []
   },
   "outputs": [
    {
     "data": {
      "text/plain": [
       "<b id=\"boldest\">Lebron James</b>"
      ]
     },
     "execution_count": 55,
     "metadata": {},
     "output_type": "execute_result"
    }
   ],
   "source": [
    "soup.find(id = 'boldest')"
   ]
  },
  {
   "cell_type": "markdown",
   "metadata": {},
   "source": [
    "<details><summary>Click here for the solution</summary>\n",
    "\n",
    "```\n",
    "soup.find_all(id=\"boldest\")\n",
    "\n",
    "```\n",
    "\n",
    "</details>\n"
   ]
  },
  {
   "cell_type": "markdown",
   "metadata": {},
   "source": [
    "### string\n"
   ]
  },
  {
   "cell_type": "markdown",
   "metadata": {},
   "source": [
    "With string you can search for strings instead of tags, where we find all the elments with Florida:\n"
   ]
  },
  {
   "cell_type": "code",
   "execution_count": 57,
   "metadata": {
    "tags": []
   },
   "outputs": [
    {
     "data": {
      "text/plain": [
       "['Florida', 'Florida']"
      ]
     },
     "execution_count": 57,
     "metadata": {},
     "output_type": "execute_result"
    }
   ],
   "source": [
    "table_bs.find_all(string = \"Florida\")"
   ]
  },
  {
   "cell_type": "markdown",
   "metadata": {},
   "source": [
    "## find\n"
   ]
  },
  {
   "cell_type": "markdown",
   "metadata": {},
   "source": [
    "The <code>find_all()</code> method scans the entire document looking for results. It’s useful if you are looking for one element, as you can use the <code>find()</code> method to find the first element in the document. Consider the following two tables:\n"
   ]
  },
  {
   "cell_type": "code",
   "execution_count": null,
   "metadata": {},
   "outputs": [],
   "source": [
    "%%html\n",
    "<h3>Rocket Launch </h3>\n",
    "\n",
    "<p>\n",
    "<table class='rocket'>\n",
    "  <tr>\n",
    "    <td>Flight No</td>\n",
    "    <td>Launch site</td> \n",
    "    <td>Payload mass</td>\n",
    "  </tr>\n",
    "  <tr>\n",
    "    <td>1</td>\n",
    "    <td>Florida</td>\n",
    "    <td>300 kg</td>\n",
    "  </tr>\n",
    "  <tr>\n",
    "    <td>2</td>\n",
    "    <td>Texas</td>\n",
    "    <td>94 kg</td>\n",
    "  </tr>\n",
    "  <tr>\n",
    "    <td>3</td>\n",
    "    <td>Florida </td>\n",
    "    <td>80 kg</td>\n",
    "  </tr>\n",
    "</table>\n",
    "</p>\n",
    "<p>\n",
    "\n",
    "    \n",
    "<h3>Pizza Party  </h3>\n",
    "  \n",
    "<table class='pizza'>\n",
    "  <tr>\n",
    "    <td>Pizza Place</td>\n",
    "    <td>Orders</td> \n",
    "    <td>Slices </td>\n",
    "   </tr>\n",
    "  <tr>\n",
    "    <td>Domino's Pizza</td>\n",
    "    <td>10</td>\n",
    "    <td>100</td>\n",
    "  </tr>\n",
    "  <tr>\n",
    "    <td>Little Caesars</td>\n",
    "    <td>12</td>\n",
    "    <td >144 </td>\n",
    "  </tr>\n",
    "  <tr>\n",
    "    <td>Papa John's </td>\n",
    "    <td>15 </td>\n",
    "    <td>165</td>\n",
    "  </tr>\n"
   ]
  },
  {
   "cell_type": "markdown",
   "metadata": {},
   "source": [
    "We store the HTML as a Python string and assign <code>two_tables</code>:\n"
   ]
  },
  {
   "cell_type": "code",
   "execution_count": 58,
   "metadata": {
    "tags": []
   },
   "outputs": [],
   "source": [
    "two_tables = \"<h3>Rocket Launch </h3><p><table class='rocket'><tr><td>Flight No</td><td>Launch site</td> <td>Payload mass</td></tr><tr><td>1</td><td>Florida</td><td>300 kg</td></tr><tr><td>2</td><td>Texas</td><td>94 kg</td></tr><tr><td>3</td><td>Florida </td><td>80 kg</td></tr></table></p><p><h3>Pizza Party  </h3><table class='pizza'><tr><td>Pizza Place</td><td>Orders</td> <td>Slices </td></tr><tr><td>Domino's Pizza</td><td>10</td><td>100</td></tr><tr><td>Little Caesars</td><td>12</td><td >144 </td></tr><tr><td>Papa John's </td><td>15 </td><td>165</td></tr>\""
   ]
  },
  {
   "cell_type": "markdown",
   "metadata": {},
   "source": [
    "We create a <code>BeautifulSoup</code> object  <code>two_tables_bs</code>\n"
   ]
  },
  {
   "cell_type": "code",
   "execution_count": 59,
   "metadata": {
    "tags": []
   },
   "outputs": [],
   "source": [
    "two_tables_bs = BeautifulSoup(two_tables, 'html.parser')"
   ]
  },
  {
   "cell_type": "markdown",
   "metadata": {},
   "source": [
    "We can find the first table using the tag name table\n"
   ]
  },
  {
   "cell_type": "code",
   "execution_count": 60,
   "metadata": {
    "tags": []
   },
   "outputs": [
    {
     "data": {
      "text/plain": [
       "<table class=\"rocket\"><tr><td>Flight No</td><td>Launch site</td> <td>Payload mass</td></tr><tr><td>1</td><td>Florida</td><td>300 kg</td></tr><tr><td>2</td><td>Texas</td><td>94 kg</td></tr><tr><td>3</td><td>Florida </td><td>80 kg</td></tr></table>"
      ]
     },
     "execution_count": 60,
     "metadata": {},
     "output_type": "execute_result"
    }
   ],
   "source": [
    "two_tables_bs.find(\"table\")"
   ]
  },
  {
   "cell_type": "markdown",
   "metadata": {},
   "source": [
    "We can filter on the class attribute to find the second table, but because class is a keyword in Python, we add an underscore to differentiate them.\n"
   ]
  },
  {
   "cell_type": "code",
   "execution_count": 61,
   "metadata": {
    "tags": []
   },
   "outputs": [
    {
     "data": {
      "text/plain": [
       "<table class=\"pizza\"><tr><td>Pizza Place</td><td>Orders</td> <td>Slices </td></tr><tr><td>Domino's Pizza</td><td>10</td><td>100</td></tr><tr><td>Little Caesars</td><td>12</td><td>144 </td></tr><tr><td>Papa John's </td><td>15 </td><td>165</td></tr></table>"
      ]
     },
     "execution_count": 61,
     "metadata": {},
     "output_type": "execute_result"
    }
   ],
   "source": [
    "two_tables_bs.find(\"table\", class_ = 'pizza')"
   ]
  },
  {
   "cell_type": "markdown",
   "metadata": {},
   "source": [
    "<h2 id=\"DSCW\">Downloading And Scraping The Contents Of A Web Page</h2> \n"
   ]
  },
  {
   "cell_type": "markdown",
   "metadata": {},
   "source": [
    "We Download the contents of the web page:\n"
   ]
  },
  {
   "cell_type": "code",
   "execution_count": 62,
   "metadata": {
    "tags": []
   },
   "outputs": [],
   "source": [
    "url = \"http://www.ibm.com\""
   ]
  },
  {
   "cell_type": "markdown",
   "metadata": {},
   "source": [
    "We use <code>get</code> to download the contents of the webpage in text format and store in a variable called <code>data</code>:\n"
   ]
  },
  {
   "cell_type": "code",
   "execution_count": 63,
   "metadata": {
    "tags": []
   },
   "outputs": [],
   "source": [
    "data = requests.get(url).text"
   ]
  },
  {
   "cell_type": "markdown",
   "metadata": {},
   "source": [
    "We create a <code>BeautifulSoup</code> object using the <code>BeautifulSoup</code> constructor\n"
   ]
  },
  {
   "cell_type": "code",
   "execution_count": 64,
   "metadata": {
    "tags": []
   },
   "outputs": [],
   "source": [
    "# create a soup object using the variable 'data'\n",
    "soup = BeautifulSoup(data, \"html5lib\")"
   ]
  },
  {
   "cell_type": "code",
   "execution_count": 73,
   "metadata": {
    "collapsed": true,
    "jupyter": {
     "outputs_hidden": true
    },
    "tags": []
   },
   "outputs": [
    {
     "data": {
      "text/plain": [
       "<!DOCTYPE html>\n",
       "<html lang=\"en-us\"><head>\n",
       "    \n",
       "    \n",
       "    \n",
       "    \n",
       "    <meta charset=\"utf-8\"/>\n",
       "    <meta content=\"en\" name=\"languageCode\"/>\n",
       "    <meta content=\"us\" name=\"countryCode\"/>\n",
       "    <meta content=\"IBM - United States\" name=\"searchTitle\"/>\n",
       "    <meta content=\"Cross IBM - All\" name=\"focusArea\"/>\n",
       "    <title>IBM - United States</title>\n",
       "    <link href=\"/content/dam/adobe-cms/default-images/favicon.svg\" rel=\"icon\"/>\n",
       "    \n",
       "    <meta content=\"For more than a century, IBM has been a global technology innovator, leading advances in AI, automation and hybrid cloud solutions that help businesses grow.\" name=\"description\"/>\n",
       "    <meta content=\"full-width-layout\" name=\"template\"/>\n",
       "    <meta content=\"width=device-width, initial-scale=1\" name=\"viewport\"/>\n",
       "    <meta content=\"index, follow\" name=\"robots\"/>\n",
       "    \n",
       "    <link href=\"https://www.ibm.com/\" rel=\"canonical\"/>\n",
       "    <style id=\"anti-flicker-style\">\n",
       "        :not(:defined) {\n",
       "          visibility: hidden;\n",
       "        }\n",
       "    </style>\n",
       "    <script id=\"anti-flicker-script\" type=\"text/javascript\">\n",
       "        (async () => {\n",
       "          await customElements.whenDefined('dds-masthead-container');\n",
       "          document.getElementById('anti-flicker-style').remove();\n",
       "          document.getElementById('anti-flicker-script').remove();\n",
       "        })()\n",
       "    </script>\n",
       "    \n",
       "\n",
       "    <script type=\"text/javascript\">\n",
       "        window.searchKey = {\n",
       "            templateName: 'full\\u002Dwidth\\u002Dlayout',\n",
       "            taxonomylist: '',\n",
       "            L0Tag: 'CMaaS Focus Areas,Topics,Brands,Industries,Geography,Compliance Entities,Products',\n",
       "        }\n",
       "    </script>\n",
       "\n",
       "<!--    <script>\n",
       "      (function(s,t,a,n){s[t]||(s[t]=a,n=s[a]=function(){n.q.push(arguments)},\n",
       "      n.q=[],n.v=2,n.l=1*new Date)})(window,\"InstanaEumObject\",\"ineum\");\n",
       "      ineum('reportingUrl', 'https://eum-orange-saas.instana.io');\n",
       "      ineum('key', 'QSUr0uqUS0m37yyre8ntkQ');\n",
       "      ineum('trackSessions');\n",
       "    </script>\n",
       "    <script defer crossorigin=\"anonymous\" src=\"https://eum.instana.io/eum.min.js\"></script>-->\n",
       "\n",
       "    \n",
       "        <link href=\"https://www.ibm.com/de-de\" hreflang=\"de-de\" rel=\"alternate\"/>\n",
       "    \n",
       "        <link href=\"https://www.ibm.com/\" hreflang=\"en-us\" rel=\"alternate\"/>\n",
       "    \n",
       "        <link href=\"https://www.ibm.com/ca-en\" hreflang=\"en-ca\" rel=\"alternate\"/>\n",
       "    \n",
       "        <link href=\"https://www.ibm.com/kr-ko\" hreflang=\"ko-kr\" rel=\"alternate\"/>\n",
       "    \n",
       "        <link href=\"https://www.ibm.com/br-pt\" hreflang=\"pt-br\" rel=\"alternate\"/>\n",
       "    \n",
       "        <link href=\"https://www.ibm.com/in-en\" hreflang=\"en-in\" rel=\"alternate\"/>\n",
       "    \n",
       "        <link href=\"https://www.ibm.com/es-es\" hreflang=\"es-es\" rel=\"alternate\"/>\n",
       "    \n",
       "        <link href=\"https://www.ibm.com/cn-zh\" hreflang=\"zh-cn\" rel=\"alternate\"/>\n",
       "    \n",
       "        <link href=\"https://www.ibm.com/mx-es\" hreflang=\"es-mx\" rel=\"alternate\"/>\n",
       "    \n",
       "        <link href=\"https://www.ibm.com/ca-fr\" hreflang=\"fr-ca\" rel=\"alternate\"/>\n",
       "    \n",
       "        <link href=\"https://www.ibm.com/it-it\" hreflang=\"it-it\" rel=\"alternate\"/>\n",
       "    \n",
       "        <link href=\"https://www.ibm.com/id-id\" hreflang=\"id-id\" rel=\"alternate\"/>\n",
       "    \n",
       "        <link href=\"https://www.ibm.com/au-en\" hreflang=\"en-au\" rel=\"alternate\"/>\n",
       "    \n",
       "        <link href=\"https://www.ibm.com/uk-en\" hreflang=\"en-uk\" rel=\"alternate\"/>\n",
       "    \n",
       "        <link href=\"https://www.ibm.com/fr-fr\" hreflang=\"fr-fr\" rel=\"alternate\"/>\n",
       "    \n",
       "        <link href=\"https://www.ibm.com/jp-ja\" hreflang=\"ja-jp\" rel=\"alternate\"/>\n",
       "    \n",
       "    <script type=\"text/javascript\">\n",
       "        window.antiFlicker = {\n",
       "            active: true,\n",
       "            timeout: 3000\n",
       "        }\n",
       "    </script>\n",
       "    <script type=\"text/javascript\">\n",
       "        var languageCode = document.getElementsByName('languageCode')[0].content;\n",
       "        var countryCode = document.getElementsByName('countryCode')[0].content;\n",
       "        var focusArea = document.getElementsByName('focusArea')[0].content;\n",
       "        /* Define digital data object based on _appInfo object */\n",
       "        window.digitalData = {\n",
       "            page: {\n",
       "                category: {\n",
       "                    primaryCategory: '',\n",
       "                },\n",
       "                pageInfo: {\n",
       "                    language: languageCode + '-' + countryCode,\n",
       "                    ibm: {\n",
       "                        siteID: 'MarketingAEM',\n",
       "                        country: countryCode,\n",
       "                        messaging: {\n",
       "                            routing: {\n",
       "                                focusArea: focusArea,\n",
       "                                languageCode: languageCode,\n",
       "                                regionCode: countryCode\n",
       "                            },\n",
       "                            translation: {\n",
       "                                languageCode: languageCode,\n",
       "                                regionCode: countryCode\n",
       "                            }\n",
       "                        },\n",
       "                        sections: 0,\n",
       "                        patterns: 0\n",
       "                    }\n",
       "                }\n",
       "            }\n",
       "        };\n",
       "    </script>\n",
       "    \n",
       "    \n",
       "        <meta content=\"https://www.ibm.com/\" property=\"og:url\"/>\n",
       "    \n",
       "        <meta content=\"website\" property=\"og:type\"/>\n",
       "    \n",
       "        <meta content=\"IBM - United States\" property=\"og:title\"/>\n",
       "    \n",
       "        <meta content=\"For more than a century, IBM has been a global technology innovator, leading advances in AI, automation and hybrid cloud solutions that help businesses grow.\" property=\"og:description\"/>\n",
       "    \n",
       "        <meta content=\"https://www.ibm.com/content/dam/connectedassets-adobe-cms/worldwide-content/creative-assets/s-migr/ul/g/79/6e/watsonx-code-assistant-284x284-email.png/_jcr_content/renditions/cq5dam.web.3840.3840.png\" property=\"og:image\"/>\n",
       "    \n",
       "        \n",
       "    \n",
       "\n",
       "    <script async=\"async\" src=\"https://1.www.s81c.com/common/stats/ibm-common.js\" type=\"text/javascript\"></script>\n",
       "    <script src=\"https://s3.us.cloud-object-storage.appdomain.cloud/widget-registry/loader.js\" type=\"application/javascript\"></script>\n",
       "    \n",
       "    \n",
       "    \n",
       "<link href=\"/etc.clientlibs/adobe-cms/clientlibs/clientlib-idlStylesCarbon.min.ACSHASH6b7f7aca22f55d7ccef93668b20d1b11.css\" rel=\"stylesheet\" type=\"text/css\"/>\n",
       "<link href=\"/etc.clientlibs/adobe-cms/clientlibs/clientlib-idlStyles.min.ACSHASHb07d72d124dca340f1f121a435a56f0a.css\" rel=\"stylesheet\" type=\"text/css\"/>\n",
       "\n",
       "\n",
       "\n",
       "    \n",
       "    <link href=\"https://1.www.s81c.com/common/carbon-for-ibm-dotcom/tag/v1/latest/plex.css\" rel=\"stylesheet\"/>\n",
       "    <link href=\"https://1.www.s81c.com/common/carbon/plex/sans.css\" rel=\"stylesheet\"/>\n",
       "    \n",
       "    \n",
       "\n",
       "\n",
       "    \n",
       "    \n",
       "    \n",
       "\n",
       "    \n",
       "\n",
       "    \n",
       "    \n",
       "    \n",
       "\n",
       "\n",
       "\n",
       "    \n",
       "\n",
       "    \n",
       "\n",
       "\n",
       "</head>\n",
       "<body class=\"content-page page basicpage publish\" id=\"content-page-c8104b3589\">\n",
       "\n",
       "\n",
       "\n",
       "    \n",
       "\n",
       "\n",
       "\n",
       "\n",
       "    \n",
       "\n",
       "\n",
       "\n",
       "    \n",
       "<div class=\"root container responsivegrid\">\n",
       "\n",
       "    \n",
       "    \n",
       "    \n",
       "    <div class=\"cmp-container\" id=\"container-9225520bd9\">\n",
       "        \n",
       "        <div class=\"masthead\">\n",
       "\n",
       "\n",
       "\n",
       "\n",
       "\n",
       "\n",
       "<dds-masthead-container auth-method=\"profile-api\" data-endpoint=\"/common/carbon-for-ibm-dotcom/translations/masthead-footer/v2.1\" has-contact=\"true\"></dds-masthead-container>\n",
       "<script src=\"https://1.www.s81c.com/common/carbon-for-ibm-dotcom/version/2.0.0.alpha.7277253913/masthead.min.js\" type=\"module\"></script>\n",
       "\n",
       "\n",
       "\n",
       "\n",
       "\n",
       "\n",
       "\n",
       "<script type=\"text/javascript\">\n",
       "    if(window.location.href.includes(\"/careers\")){\n",
       "       document.querySelector('dds-masthead-container').setAttribute(\"has-search\",\"false\");\n",
       "       document.querySelector('dds-masthead-container').setAttribute(\"has-profile\",\"false\");\n",
       "    } \n",
       "</script></div>\n",
       "<div class=\"leadspace-container container responsivegrid\">\n",
       "\n",
       "    \n",
       "    \n",
       "    \n",
       "    <div class=\"cmp-container\" id=\"leadspace-container-1e918979ca\">\n",
       "        \n",
       "        <div class=\"leadspace-expanded leadspace\">\n",
       "<section class=\"theme-white\">\n",
       "    <dds-video-cta-container>\n",
       "        <caem-container-leadspace size=\"tall\">\n",
       "            \n",
       "\n",
       "            \n",
       "                <caem-heading id=\"leadspaceSimpleTitle\" slot=\"heading\" type=\"h1\" type-style=\"display-01\">\n",
       "                    \n",
       "\n",
       "\n",
       "  <dds-content-group-heading>\n",
       "    \n",
       "\n",
       "  \n",
       "\n",
       "<span class=\"enhanced-title\">Put AI to work with watson<span class=\"enhanced-title-blue\">x</span></span>\n",
       "\n",
       "\n",
       "\n",
       "    \n",
       "\n",
       "  </dds-content-group-heading>\n",
       "\n",
       "\n",
       "\n",
       "\n",
       "\n",
       "\n",
       "    \n",
       "\n",
       "\n",
       "                </caem-heading>\n",
       "            \n",
       "\n",
       "            <caem-paragraph data-autoid=\"caem--paragraph\" size=\"lead-in\">\n",
       "                <p> \n",
       "\n",
       "\n",
       "  \n",
       "  \n",
       "      IBM’s next-generation AI and data platform brings together new generative AI capabilities\n",
       "  \n",
       "\n",
       "\n",
       "\n",
       "\n",
       "    \n",
       "\n",
       "</p>\n",
       "            </caem-paragraph>\n",
       "\n",
       "            \n",
       "\n",
       "            \n",
       "                <caem-button-group slot=\"action\">\n",
       "                    \n",
       "                        \n",
       "                        \n",
       "\n",
       "\n",
       "\n",
       "\n",
       "    \n",
       "    \n",
       "    \n",
       "    \n",
       "    \n",
       "    <caem-button-cta cta-type=\"local\" href=\"https://dataplatform.cloud.ibm.com/registration/stepone?context=wx&amp;lnk=hpUSls1\" kind=\"primary\" target=\"_blank\">\n",
       "        <span>Try for free</span>\n",
       "        \n",
       "        \n",
       "    </caem-button-cta>\n",
       "    \n",
       "\n",
       "\n",
       "    \n",
       "    \n",
       "    \n",
       "    \n",
       "    \n",
       "    <caem-button-cta cta-type=\"local\" href=\"https://www.ibm.com/products/watsonx-ai?lnk=hpUSls2\" kind=\"tertiary\" target=\"_blank\">\n",
       "        <span>Meet watsonx.ai</span>\n",
       "        \n",
       "        \n",
       "    </caem-button-cta>\n",
       "    \n",
       "\n",
       "\n",
       "\n",
       "                    \n",
       "                </caem-button-group>\n",
       "            \n",
       "\n",
       "            \n",
       "            \n",
       "                <caem-video-player-container aspect-ratio=\"4x3\" caption-alignment=\"left\" playing-mode=\"inline\" slot=\"media\" thumbnail=\"/content/dam/connectedassets-adobe-cms/worldwide-content/creative-assets/s-migr/ul/g/75/75/watsonx-overview-leadspace-super-hybrid-ui-homepage.component.crop-4by3-xl.ts=1707414043446.png/content/adobe-cms/us/en/homepage/jcr:content/root/leadspace_container/leadspace_expanded_c\" video-id=\"1_ixmv5wsn\"></caem-video-player-container>\n",
       "\n",
       "            \n",
       "            \n",
       "                \n",
       "                    <dds-link-list slot=\"aside\">\n",
       "                        <dds-link-list-heading aria-level=\"4\" role=\"heading\" slot=\"heading\">\n",
       "                        \n",
       "\n",
       "\n",
       "  \n",
       "  \n",
       "      Latest news\n",
       "  \n",
       "\n",
       "\n",
       "\n",
       "\n",
       "    \n",
       "\n",
       "\n",
       "                        </dds-link-list-heading>\n",
       "                    \n",
       "                    \n",
       "                    \n",
       "    \n",
       "        \n",
       "         \n",
       "        <caem-link-list-item cta-type=\"local\" href=\"https://www.ibm.com/events/mwc?lnk=hpUSsl1\" label=\"Event\" target=\"_blank\">\n",
       "            \n",
       "    \n",
       "\n",
       "\n",
       "\n",
       "    \n",
       "\n",
       "            <p>Join us at Mobile World Congress, 26–29 Feb in Barcelona</p>\n",
       "            \n",
       "            <dds-card-cta-footer cta-type=\"local\" href=\"https://www.ibm.com/events/mwc?lnk=hpUSsl1\" target=\"_blank\">\n",
       "                \n",
       "            </dds-card-cta-footer>\n",
       "        </caem-link-list-item>\n",
       "        \n",
       "        \n",
       "        \n",
       "    \n",
       "    \n",
       "    \n",
       "\n",
       "\n",
       "<script src=\"https://1.www.s81c.com/common/carbon/carbon-for-aem/version/v0.9.2/link-list-item.min.js\" type=\"module\"></script>\n",
       "                    \n",
       "                    \n",
       "                        \n",
       "                    \n",
       "    \n",
       "        \n",
       "         \n",
       "        <caem-link-list-item cta-type=\"local\" href=\"https://newsroom.ibm.com/2024-01-30-GSMA-and-IBM-Collaborate-to-Accelerate-AI-Adoption-and-Skills-for-the-Telecoms-Sector-with-Launch-of-Generative-AI-Training-Program-and-Industry-Challenge?lnk=hpUSsl2\" label=\"Telecom\" target=\"_blank\">\n",
       "            \n",
       "    \n",
       "\n",
       "\n",
       "\n",
       "    \n",
       "\n",
       "            <p>GSMA and IBM launch AI training program</p>\n",
       "            \n",
       "            <dds-card-cta-footer cta-type=\"local\" href=\"https://newsroom.ibm.com/2024-01-30-GSMA-and-IBM-Collaborate-to-Accelerate-AI-Adoption-and-Skills-for-the-Telecoms-Sector-with-Launch-of-Generative-AI-Training-Program-and-Industry-Challenge?lnk=hpUSsl2\" target=\"_blank\">\n",
       "                \n",
       "            </dds-card-cta-footer>\n",
       "        </caem-link-list-item>\n",
       "        \n",
       "        \n",
       "        \n",
       "    \n",
       "    \n",
       "    \n",
       "\n",
       "\n",
       "<script src=\"https://1.www.s81c.com/common/carbon/carbon-for-aem/version/v0.9.2/link-list-item.min.js\" type=\"module\"></script>\n",
       "                        \n",
       "                </dds-link-list>\n",
       "                \n",
       "            \n",
       "        </caem-container-leadspace>\n",
       "</dds-video-cta-container>\n",
       "</section>\n",
       "<script src=\"https://1.www.s81c.com/common/carbon/carbon-for-aem/version/v0.9.2/paragraph.min.js\" type=\"module\"></script>\n",
       "<script src=\"https://1.www.s81c.com/common/carbon/carbon-for-aem/version/v0.9.2/heading.min.js\" type=\"module\"></script>\n",
       "<script src=\"https://1.www.s81c.com/common/carbon/carbon-for-aem/version/v0.9.2/leadspace.min.js\" type=\"module\"></script></div>\n",
       "\n",
       "        \n",
       "    </div>\n",
       "\n",
       "</div>\n",
       "<div class=\"table-of-contents container responsivegrid\">\n",
       "<dds-table-of-contents class=\"cmp-table-of-contents\" data-autoid=\"dds--table-of-contents\" data-cmp-is=\"table-of-contents\" stickyoffset=\"48\" toc-hide=\"hidden\" toc-layout=\"horizontal\">\n",
       "    \n",
       "    \n",
       "    <div class=\"cmp-table-of-contents\" id=\"table-of-contents-b422012d4b\">\n",
       "        \n",
       "        <div class=\"modular-container container responsivegrid\">\n",
       "\n",
       "    \n",
       "    \n",
       "    \n",
       "    <div class=\"cmp-container\" id=\"modular-container-253180b30f\">\n",
       "        \n",
       "        <div class=\"standalone-title enhanced-title text\">\n",
       "\n",
       "  \n",
       "\n",
       "<caem-heading type=\"h5\">Recommended for you<br/></caem-heading>\n",
       "\n",
       "    \n",
       "\n",
       "<script src=\"https://1.www.s81c.com/common/carbon/carbon-for-aem/version/v0.9.2/heading.min.js\" type=\"module\"></script></div>\n",
       "\n",
       "        \n",
       "    </div>\n",
       "\n",
       "</div>\n",
       "<div class=\"tile-group-container container responsivegrid\">\n",
       "  <div class=\"bx--col\">\n",
       "    <caem-tile-group>\n",
       "      \n",
       "\n",
       "    \n",
       "\n",
       "    \n",
       "    \n",
       "    <caem-tile cta-type=\"local\" href=\"https://www.ibm.com/consulting/application-modernization?lnk=hpUSrc1\" label=\"Modernize applications\" target=\"_blank\">\n",
       "        \n",
       "        \n",
       "            \n",
       "\n",
       "\n",
       "\n",
       "\n",
       "    \n",
       "    \n",
       "        \n",
       "        \n",
       "        \n",
       "        \n",
       "        <dds-image alt=\"Snippets of an application using watsonx™ Code Assistant\" default-src=\"/content/dam/connectedassets-adobe-cms/worldwide-content/creative-assets/s-migr/ul/g/79/6e/watsonx-code-assistant-284x284-email.component.tile-card-xl.ts=1707414044135.png/content/adobe-cms/us/en/homepage/jcr:content/root/table_of_contents/tile_group_container/container/tile_card_1699798462_1281075657/image\" id=\"image--1754505381\" slot=\"image\">\n",
       "            \n",
       "            \n",
       "                \n",
       "                    \n",
       "    <dds-image-item media=\"(min-width: 1312px) and (min-resolution: 192dpi)\" srcset=\"/content/dam/connectedassets-adobe-cms/worldwide-content/creative-assets/s-migr/ul/g/79/6e/watsonx-code-assistant-284x284-email.component.tile-card-xl-retina.ts=1707414044135.png/content/adobe-cms/us/en/homepage/jcr:content/root/table_of_contents/tile_group_container/container/tile_card_1699798462_1281075657/image\"></dds-image-item>\n",
       "    <dds-image-item media=\"(min-width: 1312px)\" srcset=\"/content/dam/connectedassets-adobe-cms/worldwide-content/creative-assets/s-migr/ul/g/79/6e/watsonx-code-assistant-284x284-email.component.tile-card-xl.ts=1707414044135.png/content/adobe-cms/us/en/homepage/jcr:content/root/table_of_contents/tile_group_container/container/tile_card_1699798462_1281075657/image\"></dds-image-item>\n",
       "    <dds-image-item media=\"(min-width: 1056px) and (min-resolution: 192dpi)\" srcset=\"/content/dam/connectedassets-adobe-cms/worldwide-content/creative-assets/s-migr/ul/g/79/6e/watsonx-code-assistant-284x284-email.component.tile-card-l-retina.ts=1707414044135.png/content/adobe-cms/us/en/homepage/jcr:content/root/table_of_contents/tile_group_container/container/tile_card_1699798462_1281075657/image\"></dds-image-item>\n",
       "    <dds-image-item media=\"(min-width: 1056px)\" srcset=\"/content/dam/connectedassets-adobe-cms/worldwide-content/creative-assets/s-migr/ul/g/79/6e/watsonx-code-assistant-284x284-email.component.tile-card-l.ts=1707414044135.png/content/adobe-cms/us/en/homepage/jcr:content/root/table_of_contents/tile_group_container/container/tile_card_1699798462_1281075657/image\"></dds-image-item>\n",
       "    <dds-image-item media=\"(min-width: 672px) and (min-resolution: 192dpi)\" srcset=\"/content/dam/connectedassets-adobe-cms/worldwide-content/creative-assets/s-migr/ul/g/79/6e/watsonx-code-assistant-284x284-email.component.tile-card-m-retina.ts=1707414044135.png/content/adobe-cms/us/en/homepage/jcr:content/root/table_of_contents/tile_group_container/container/tile_card_1699798462_1281075657/image\"></dds-image-item>\n",
       "    <dds-image-item media=\"(min-width: 672px)\" srcset=\"/content/dam/connectedassets-adobe-cms/worldwide-content/creative-assets/s-migr/ul/g/79/6e/watsonx-code-assistant-284x284-email.component.tile-card-m.ts=1707414044135.png/content/adobe-cms/us/en/homepage/jcr:content/root/table_of_contents/tile_group_container/container/tile_card_1699798462_1281075657/image\"></dds-image-item>\n",
       "    <dds-image-item media=\"(min-width: 481px) and (min-resolution: 192dpi)\" srcset=\"/content/dam/connectedassets-adobe-cms/worldwide-content/creative-assets/s-migr/ul/g/79/6e/watsonx-code-assistant-284x284-email.component.tile-card-s-retina.ts=1707414044135.png/content/adobe-cms/us/en/homepage/jcr:content/root/table_of_contents/tile_group_container/container/tile_card_1699798462_1281075657/image\"></dds-image-item>\n",
       "    <dds-image-item media=\"(min-width: 481px)\" srcset=\"/content/dam/connectedassets-adobe-cms/worldwide-content/creative-assets/s-migr/ul/g/79/6e/watsonx-code-assistant-284x284-email.component.tile-card-s.ts=1707414044135.png/content/adobe-cms/us/en/homepage/jcr:content/root/table_of_contents/tile_group_container/container/tile_card_1699798462_1281075657/image\"></dds-image-item>\n",
       "    <dds-image-item media=\"(max-width: 480px) and (min-resolution: 192dpi)\" srcset=\"/content/dam/connectedassets-adobe-cms/worldwide-content/creative-assets/s-migr/ul/g/79/6e/watsonx-code-assistant-284x284-email.component.tile-card-xs-retina.ts=1707414044135.png/content/adobe-cms/us/en/homepage/jcr:content/root/table_of_contents/tile_group_container/container/tile_card_1699798462_1281075657/image\"></dds-image-item>\n",
       "    <dds-image-item media=\"(max-width: 480px)\" srcset=\"/content/dam/connectedassets-adobe-cms/worldwide-content/creative-assets/s-migr/ul/g/79/6e/watsonx-code-assistant-284x284-email.component.tile-card-xs.ts=1707414044135.png/content/adobe-cms/us/en/homepage/jcr:content/root/table_of_contents/tile_group_container/container/tile_card_1699798462_1281075657/image\"></dds-image-item>\n",
       "\n",
       "                    \n",
       "                \n",
       "            \n",
       "        </dds-image>\n",
       "    \n",
       "\n",
       "    \n",
       "\n",
       "\n",
       "\n",
       "        \n",
       "        \n",
       "    \n",
       "\n",
       "        Use AI upgrades to optimize performance\n",
       "        \n",
       "    \n",
       "\n",
       "\n",
       "\n",
       "    \n",
       "\n",
       "        <p slot=\"cta\">\n",
       "            \n",
       "        </p>\n",
       "\n",
       "    </caem-tile>\n",
       "\n",
       "    <div class=\"caem-card-svg-source\" hidden=\"\">\n",
       "        <svg id=\"accelerated-computing\" viewBox=\"0 0 32 32\" xmlns=\"http://www.w3.org/2000/svg\"><path d=\"M19,29.36c-3.401,0-6.596-1.506-8.764-4.131l0.556-0.459c2.03,2.459,5.022,3.869,8.208,3.869 c5.867,0,10.64-4.772,10.64-10.64c0-5.867-4.772-10.64-10.64-10.64c-3.186,0-6.177,1.411-8.208,3.87l-0.555-0.459 c2.091-2.532,5.137-4.022,8.403-4.125V5.36H16c-0.199,0-0.36-0.161-0.36-0.36V3c0-0.199,0.161-0.36,0.36-0.36h6 c0.199,0,0.36,0.161,0.36,0.36v2c0,0.199-0.161,0.36-0.36,0.36h-2.64v1.286c6.098,0.191,11,5.211,11,11.354 C30.36,24.264,25.264,29.36,19,29.36z M16.36,4.64h5.28V3.36h-5.28V4.64z M14,23.36H4v-0.72h10V23.36z M12,18.36H2v-0.72h10V18.36z M19.179,18.312l-0.357-0.625l7-4l0.357,0.625L19.179,18.312z M14,13.36H4v-0.72h10V13.36z\"></path></svg>\n",
       "    </div>\n",
       "    \n",
       "    \n",
       "\n",
       "\n",
       "\n",
       "<script src=\"https://1.www.s81c.com/common/carbon/carbon-for-aem/version/v0.9.2/tile.min.js\" type=\"module\"></script>\n",
       "\n",
       "    \n",
       "    \n",
       "    <caem-tile cta-type=\"local\" href=\"https://www.ibm.com/consulting/customer-service?lnk=hpUSrc2\" label=\"Customer service\" target=\"_self\">\n",
       "        \n",
       "        \n",
       "            \n",
       "\n",
       "\n",
       "\n",
       "\n",
       "    \n",
       "    \n",
       "        \n",
       "        \n",
       "        \n",
       "        \n",
       "        <dds-image alt=\"Customer service agent with open laptop, analytics, documents, chat bubbles and conversation\" default-src=\"/content/dam/connectedassets-adobe-cms/worldwide-content/cdp/cf/ul/g/64/22/talk-to-human.component.tile-card-xl.ts=1707414044313.jpg/content/adobe-cms/us/en/homepage/jcr:content/root/table_of_contents/tile_group_container/container/tile_card_2105644765/image\" id=\"image-1287800485\" slot=\"image\">\n",
       "            \n",
       "            \n",
       "                \n",
       "                    \n",
       "    <dds-image-item media=\"(min-width: 1312px) and (min-resolution: 192dpi)\" srcset=\"/content/dam/connectedassets-adobe-cms/worldwide-content/cdp/cf/ul/g/64/22/talk-to-human.component.tile-card-xl-retina.ts=1707414044313.jpg/content/adobe-cms/us/en/homepage/jcr:content/root/table_of_contents/tile_group_container/container/tile_card_2105644765/image\"></dds-image-item>\n",
       "    <dds-image-item media=\"(min-width: 1312px)\" srcset=\"/content/dam/connectedassets-adobe-cms/worldwide-content/cdp/cf/ul/g/64/22/talk-to-human.component.tile-card-xl.ts=1707414044313.jpg/content/adobe-cms/us/en/homepage/jcr:content/root/table_of_contents/tile_group_container/container/tile_card_2105644765/image\"></dds-image-item>\n",
       "    <dds-image-item media=\"(min-width: 1056px) and (min-resolution: 192dpi)\" srcset=\"/content/dam/connectedassets-adobe-cms/worldwide-content/cdp/cf/ul/g/64/22/talk-to-human.component.tile-card-l-retina.ts=1707414044313.jpg/content/adobe-cms/us/en/homepage/jcr:content/root/table_of_contents/tile_group_container/container/tile_card_2105644765/image\"></dds-image-item>\n",
       "    <dds-image-item media=\"(min-width: 1056px)\" srcset=\"/content/dam/connectedassets-adobe-cms/worldwide-content/cdp/cf/ul/g/64/22/talk-to-human.component.tile-card-l.ts=1707414044313.jpg/content/adobe-cms/us/en/homepage/jcr:content/root/table_of_contents/tile_group_container/container/tile_card_2105644765/image\"></dds-image-item>\n",
       "    <dds-image-item media=\"(min-width: 672px) and (min-resolution: 192dpi)\" srcset=\"/content/dam/connectedassets-adobe-cms/worldwide-content/cdp/cf/ul/g/64/22/talk-to-human.component.tile-card-m-retina.ts=1707414044313.jpg/content/adobe-cms/us/en/homepage/jcr:content/root/table_of_contents/tile_group_container/container/tile_card_2105644765/image\"></dds-image-item>\n",
       "    <dds-image-item media=\"(min-width: 672px)\" srcset=\"/content/dam/connectedassets-adobe-cms/worldwide-content/cdp/cf/ul/g/64/22/talk-to-human.component.tile-card-m.ts=1707414044313.jpg/content/adobe-cms/us/en/homepage/jcr:content/root/table_of_contents/tile_group_container/container/tile_card_2105644765/image\"></dds-image-item>\n",
       "    <dds-image-item media=\"(min-width: 481px) and (min-resolution: 192dpi)\" srcset=\"/content/dam/connectedassets-adobe-cms/worldwide-content/cdp/cf/ul/g/64/22/talk-to-human.component.tile-card-s-retina.ts=1707414044313.jpg/content/adobe-cms/us/en/homepage/jcr:content/root/table_of_contents/tile_group_container/container/tile_card_2105644765/image\"></dds-image-item>\n",
       "    <dds-image-item media=\"(min-width: 481px)\" srcset=\"/content/dam/connectedassets-adobe-cms/worldwide-content/cdp/cf/ul/g/64/22/talk-to-human.component.tile-card-s.ts=1707414044313.jpg/content/adobe-cms/us/en/homepage/jcr:content/root/table_of_contents/tile_group_container/container/tile_card_2105644765/image\"></dds-image-item>\n",
       "    <dds-image-item media=\"(max-width: 480px) and (min-resolution: 192dpi)\" srcset=\"/content/dam/connectedassets-adobe-cms/worldwide-content/cdp/cf/ul/g/64/22/talk-to-human.component.tile-card-xs-retina.ts=1707414044313.jpg/content/adobe-cms/us/en/homepage/jcr:content/root/table_of_contents/tile_group_container/container/tile_card_2105644765/image\"></dds-image-item>\n",
       "    <dds-image-item media=\"(max-width: 480px)\" srcset=\"/content/dam/connectedassets-adobe-cms/worldwide-content/cdp/cf/ul/g/64/22/talk-to-human.component.tile-card-xs.ts=1707414044313.jpg/content/adobe-cms/us/en/homepage/jcr:content/root/table_of_contents/tile_group_container/container/tile_card_2105644765/image\"></dds-image-item>\n",
       "\n",
       "                    \n",
       "                \n",
       "            \n",
       "        </dds-image>\n",
       "    \n",
       "\n",
       "    \n",
       "\n",
       "\n",
       "\n",
       "        \n",
       "        \n",
       "    \n",
       "\n",
       "        Resolve issues in real time with conversational AI\n",
       "        \n",
       "    \n",
       "\n",
       "\n",
       "\n",
       "    \n",
       "\n",
       "        <p slot=\"cta\">\n",
       "            \n",
       "        </p>\n",
       "\n",
       "    </caem-tile>\n",
       "\n",
       "    <div class=\"caem-card-svg-source\" hidden=\"\">\n",
       "        <svg id=\"accelerated-computing\" viewBox=\"0 0 32 32\" xmlns=\"http://www.w3.org/2000/svg\"><path d=\"M19,29.36c-3.401,0-6.596-1.506-8.764-4.131l0.556-0.459c2.03,2.459,5.022,3.869,8.208,3.869 c5.867,0,10.64-4.772,10.64-10.64c0-5.867-4.772-10.64-10.64-10.64c-3.186,0-6.177,1.411-8.208,3.87l-0.555-0.459 c2.091-2.532,5.137-4.022,8.403-4.125V5.36H16c-0.199,0-0.36-0.161-0.36-0.36V3c0-0.199,0.161-0.36,0.36-0.36h6 c0.199,0,0.36,0.161,0.36,0.36v2c0,0.199-0.161,0.36-0.36,0.36h-2.64v1.286c6.098,0.191,11,5.211,11,11.354 C30.36,24.264,25.264,29.36,19,29.36z M16.36,4.64h5.28V3.36h-5.28V4.64z M14,23.36H4v-0.72h10V23.36z M12,18.36H2v-0.72h10V18.36z M19.179,18.312l-0.357-0.625l7-4l0.357,0.625L19.179,18.312z M14,13.36H4v-0.72h10V13.36z\"></path></svg>\n",
       "    </div>\n",
       "    \n",
       "    \n",
       "\n",
       "\n",
       "\n",
       "<script src=\"https://1.www.s81c.com/common/carbon/carbon-for-aem/version/v0.9.2/tile.min.js\" type=\"module\"></script>\n",
       "\n",
       "    \n",
       "    \n",
       "    <caem-tile cta-type=\"local\" href=\"https://www.ibm.com/consulting/talent-management?lnk=hpUSrc3\" label=\"Talent management\" target=\"_self\">\n",
       "        \n",
       "        \n",
       "            \n",
       "\n",
       "\n",
       "\n",
       "\n",
       "    \n",
       "    \n",
       "        \n",
       "        \n",
       "        \n",
       "        \n",
       "        <dds-image alt=\"HR person surrounded by icons\" default-src=\"/content/dam/connectedassets-adobe-cms/worldwide-content/cdp/cf/ul/g/a7/31/hr-service-self-support.component.tile-card-xl.ts=1707414044503.jpg/content/adobe-cms/us/en/homepage/jcr:content/root/table_of_contents/tile_group_container/container/tile_card_392377621/image\" id=\"image--998036635\" slot=\"image\">\n",
       "            \n",
       "            \n",
       "                \n",
       "                    \n",
       "    <dds-image-item media=\"(min-width: 1312px) and (min-resolution: 192dpi)\" srcset=\"/content/dam/connectedassets-adobe-cms/worldwide-content/cdp/cf/ul/g/a7/31/hr-service-self-support.component.tile-card-xl-retina.ts=1707414044503.jpg/content/adobe-cms/us/en/homepage/jcr:content/root/table_of_contents/tile_group_container/container/tile_card_392377621/image\"></dds-image-item>\n",
       "    <dds-image-item media=\"(min-width: 1312px)\" srcset=\"/content/dam/connectedassets-adobe-cms/worldwide-content/cdp/cf/ul/g/a7/31/hr-service-self-support.component.tile-card-xl.ts=1707414044503.jpg/content/adobe-cms/us/en/homepage/jcr:content/root/table_of_contents/tile_group_container/container/tile_card_392377621/image\"></dds-image-item>\n",
       "    <dds-image-item media=\"(min-width: 1056px) and (min-resolution: 192dpi)\" srcset=\"/content/dam/connectedassets-adobe-cms/worldwide-content/cdp/cf/ul/g/a7/31/hr-service-self-support.component.tile-card-l-retina.ts=1707414044503.jpg/content/adobe-cms/us/en/homepage/jcr:content/root/table_of_contents/tile_group_container/container/tile_card_392377621/image\"></dds-image-item>\n",
       "    <dds-image-item media=\"(min-width: 1056px)\" srcset=\"/content/dam/connectedassets-adobe-cms/worldwide-content/cdp/cf/ul/g/a7/31/hr-service-self-support.component.tile-card-l.ts=1707414044503.jpg/content/adobe-cms/us/en/homepage/jcr:content/root/table_of_contents/tile_group_container/container/tile_card_392377621/image\"></dds-image-item>\n",
       "    <dds-image-item media=\"(min-width: 672px) and (min-resolution: 192dpi)\" srcset=\"/content/dam/connectedassets-adobe-cms/worldwide-content/cdp/cf/ul/g/a7/31/hr-service-self-support.component.tile-card-m-retina.ts=1707414044503.jpg/content/adobe-cms/us/en/homepage/jcr:content/root/table_of_contents/tile_group_container/container/tile_card_392377621/image\"></dds-image-item>\n",
       "    <dds-image-item media=\"(min-width: 672px)\" srcset=\"/content/dam/connectedassets-adobe-cms/worldwide-content/cdp/cf/ul/g/a7/31/hr-service-self-support.component.tile-card-m.ts=1707414044503.jpg/content/adobe-cms/us/en/homepage/jcr:content/root/table_of_contents/tile_group_container/container/tile_card_392377621/image\"></dds-image-item>\n",
       "    <dds-image-item media=\"(min-width: 481px) and (min-resolution: 192dpi)\" srcset=\"/content/dam/connectedassets-adobe-cms/worldwide-content/cdp/cf/ul/g/a7/31/hr-service-self-support.component.tile-card-s-retina.ts=1707414044503.jpg/content/adobe-cms/us/en/homepage/jcr:content/root/table_of_contents/tile_group_container/container/tile_card_392377621/image\"></dds-image-item>\n",
       "    <dds-image-item media=\"(min-width: 481px)\" srcset=\"/content/dam/connectedassets-adobe-cms/worldwide-content/cdp/cf/ul/g/a7/31/hr-service-self-support.component.tile-card-s.ts=1707414044503.jpg/content/adobe-cms/us/en/homepage/jcr:content/root/table_of_contents/tile_group_container/container/tile_card_392377621/image\"></dds-image-item>\n",
       "    <dds-image-item media=\"(max-width: 480px) and (min-resolution: 192dpi)\" srcset=\"/content/dam/connectedassets-adobe-cms/worldwide-content/cdp/cf/ul/g/a7/31/hr-service-self-support.component.tile-card-xs-retina.ts=1707414044503.jpg/content/adobe-cms/us/en/homepage/jcr:content/root/table_of_contents/tile_group_container/container/tile_card_392377621/image\"></dds-image-item>\n",
       "    <dds-image-item media=\"(max-width: 480px)\" srcset=\"/content/dam/connectedassets-adobe-cms/worldwide-content/cdp/cf/ul/g/a7/31/hr-service-self-support.component.tile-card-xs.ts=1707414044503.jpg/content/adobe-cms/us/en/homepage/jcr:content/root/table_of_contents/tile_group_container/container/tile_card_392377621/image\"></dds-image-item>\n",
       "\n",
       "                    \n",
       "                \n",
       "            \n",
       "        </dds-image>\n",
       "    \n",
       "\n",
       "    \n",
       "\n",
       "\n",
       "\n",
       "        \n",
       "        \n",
       "    \n",
       "\n",
       "        Reimagine HR with AI at the core\n",
       "        \n",
       "    \n",
       "\n",
       "\n",
       "\n",
       "    \n",
       "\n",
       "        <p slot=\"cta\">\n",
       "            \n",
       "        </p>\n",
       "\n",
       "    </caem-tile>\n",
       "\n",
       "    <div class=\"caem-card-svg-source\" hidden=\"\">\n",
       "        <svg id=\"accelerated-computing\" viewBox=\"0 0 32 32\" xmlns=\"http://www.w3.org/2000/svg\"><path d=\"M19,29.36c-3.401,0-6.596-1.506-8.764-4.131l0.556-0.459c2.03,2.459,5.022,3.869,8.208,3.869 c5.867,0,10.64-4.772,10.64-10.64c0-5.867-4.772-10.64-10.64-10.64c-3.186,0-6.177,1.411-8.208,3.87l-0.555-0.459 c2.091-2.532,5.137-4.022,8.403-4.125V5.36H16c-0.199,0-0.36-0.161-0.36-0.36V3c0-0.199,0.161-0.36,0.36-0.36h6 c0.199,0,0.36,0.161,0.36,0.36v2c0,0.199-0.161,0.36-0.36,0.36h-2.64v1.286c6.098,0.191,11,5.211,11,11.354 C30.36,24.264,25.264,29.36,19,29.36z M16.36,4.64h5.28V3.36h-5.28V4.64z M14,23.36H4v-0.72h10V23.36z M12,18.36H2v-0.72h10V18.36z M19.179,18.312l-0.357-0.625l7-4l0.357,0.625L19.179,18.312z M14,13.36H4v-0.72h10V13.36z\"></path></svg>\n",
       "    </div>\n",
       "    \n",
       "    \n",
       "\n",
       "\n",
       "\n",
       "<script src=\"https://1.www.s81c.com/common/carbon/carbon-for-aem/version/v0.9.2/tile.min.js\" type=\"module\"></script>\n",
       "\n",
       "    \n",
       "    \n",
       "    <caem-tile cta-type=\"local\" href=\"https://www.ibm.com/products/linuxone-4?lnk=hpUSrc4\" label=\"Do more with less\" target=\"_blank\">\n",
       "        \n",
       "        \n",
       "            \n",
       "\n",
       "\n",
       "\n",
       "\n",
       "    \n",
       "    \n",
       "        \n",
       "        \n",
       "        \n",
       "        \n",
       "        <dds-image alt=\"IBM linuxONE illustration\" default-src=\"/content/dam/connectedassets-adobe-cms/worldwide-content/creative-assets/s-migr/ul/g/92/64/ibm-linuxone-4-leadspace.component.tile-card-xl.ts=1707414044694.png/content/adobe-cms/us/en/homepage/jcr:content/root/table_of_contents/tile_group_container/container/tile_card/image\" id=\"image-85772630\" slot=\"image\">\n",
       "            \n",
       "            \n",
       "                \n",
       "                    \n",
       "    <dds-image-item media=\"(min-width: 1312px) and (min-resolution: 192dpi)\" srcset=\"/content/dam/connectedassets-adobe-cms/worldwide-content/creative-assets/s-migr/ul/g/92/64/ibm-linuxone-4-leadspace.component.tile-card-xl-retina.ts=1707414044694.png/content/adobe-cms/us/en/homepage/jcr:content/root/table_of_contents/tile_group_container/container/tile_card/image\"></dds-image-item>\n",
       "    <dds-image-item media=\"(min-width: 1312px)\" srcset=\"/content/dam/connectedassets-adobe-cms/worldwide-content/creative-assets/s-migr/ul/g/92/64/ibm-linuxone-4-leadspace.component.tile-card-xl.ts=1707414044694.png/content/adobe-cms/us/en/homepage/jcr:content/root/table_of_contents/tile_group_container/container/tile_card/image\"></dds-image-item>\n",
       "    <dds-image-item media=\"(min-width: 1056px) and (min-resolution: 192dpi)\" srcset=\"/content/dam/connectedassets-adobe-cms/worldwide-content/creative-assets/s-migr/ul/g/92/64/ibm-linuxone-4-leadspace.component.tile-card-l-retina.ts=1707414044694.png/content/adobe-cms/us/en/homepage/jcr:content/root/table_of_contents/tile_group_container/container/tile_card/image\"></dds-image-item>\n",
       "    <dds-image-item media=\"(min-width: 1056px)\" srcset=\"/content/dam/connectedassets-adobe-cms/worldwide-content/creative-assets/s-migr/ul/g/92/64/ibm-linuxone-4-leadspace.component.tile-card-l.ts=1707414044694.png/content/adobe-cms/us/en/homepage/jcr:content/root/table_of_contents/tile_group_container/container/tile_card/image\"></dds-image-item>\n",
       "    <dds-image-item media=\"(min-width: 672px) and (min-resolution: 192dpi)\" srcset=\"/content/dam/connectedassets-adobe-cms/worldwide-content/creative-assets/s-migr/ul/g/92/64/ibm-linuxone-4-leadspace.component.tile-card-m-retina.ts=1707414044694.png/content/adobe-cms/us/en/homepage/jcr:content/root/table_of_contents/tile_group_container/container/tile_card/image\"></dds-image-item>\n",
       "    <dds-image-item media=\"(min-width: 672px)\" srcset=\"/content/dam/connectedassets-adobe-cms/worldwide-content/creative-assets/s-migr/ul/g/92/64/ibm-linuxone-4-leadspace.component.tile-card-m.ts=1707414044694.png/content/adobe-cms/us/en/homepage/jcr:content/root/table_of_contents/tile_group_container/container/tile_card/image\"></dds-image-item>\n",
       "    <dds-image-item media=\"(min-width: 481px) and (min-resolution: 192dpi)\" srcset=\"/content/dam/connectedassets-adobe-cms/worldwide-content/creative-assets/s-migr/ul/g/92/64/ibm-linuxone-4-leadspace.component.tile-card-s-retina.ts=1707414044694.png/content/adobe-cms/us/en/homepage/jcr:content/root/table_of_contents/tile_group_container/container/tile_card/image\"></dds-image-item>\n",
       "    <dds-image-item media=\"(min-width: 481px)\" srcset=\"/content/dam/connectedassets-adobe-cms/worldwide-content/creative-assets/s-migr/ul/g/92/64/ibm-linuxone-4-leadspace.component.tile-card-s.ts=1707414044694.png/content/adobe-cms/us/en/homepage/jcr:content/root/table_of_contents/tile_group_container/container/tile_card/image\"></dds-image-item>\n",
       "    <dds-image-item media=\"(max-width: 480px) and (min-resolution: 192dpi)\" srcset=\"/content/dam/connectedassets-adobe-cms/worldwide-content/creative-assets/s-migr/ul/g/92/64/ibm-linuxone-4-leadspace.component.tile-card-xs-retina.ts=1707414044694.png/content/adobe-cms/us/en/homepage/jcr:content/root/table_of_contents/tile_group_container/container/tile_card/image\"></dds-image-item>\n",
       "    <dds-image-item media=\"(max-width: 480px)\" srcset=\"/content/dam/connectedassets-adobe-cms/worldwide-content/creative-assets/s-migr/ul/g/92/64/ibm-linuxone-4-leadspace.component.tile-card-xs.ts=1707414044694.png/content/adobe-cms/us/en/homepage/jcr:content/root/table_of_contents/tile_group_container/container/tile_card/image\"></dds-image-item>\n",
       "\n",
       "                    \n",
       "                \n",
       "            \n",
       "        </dds-image>\n",
       "    \n",
       "\n",
       "    \n",
       "\n",
       "\n",
       "\n",
       "        \n",
       "        \n",
       "    \n",
       "\n",
       "        Discover the new IBM LinuxONE 4 Express\n",
       "        \n",
       "    \n",
       "\n",
       "\n",
       "\n",
       "    \n",
       "\n",
       "        <p slot=\"cta\">\n",
       "            \n",
       "        </p>\n",
       "\n",
       "    </caem-tile>\n",
       "\n",
       "    <div class=\"caem-card-svg-source\" hidden=\"\">\n",
       "        <svg id=\"accelerated-computing\" viewBox=\"0 0 32 32\" xmlns=\"http://www.w3.org/2000/svg\"><path d=\"M19,29.36c-3.401,0-6.596-1.506-8.764-4.131l0.556-0.459c2.03,2.459,5.022,3.869,8.208,3.869 c5.867,0,10.64-4.772,10.64-10.64c0-5.867-4.772-10.64-10.64-10.64c-3.186,0-6.177,1.411-8.208,3.87l-0.555-0.459 c2.091-2.532,5.137-4.022,8.403-4.125V5.36H16c-0.199,0-0.36-0.161-0.36-0.36V3c0-0.199,0.161-0.36,0.36-0.36h6 c0.199,0,0.36,0.161,0.36,0.36v2c0,0.199-0.161,0.36-0.36,0.36h-2.64v1.286c6.098,0.191,11,5.211,11,11.354 C30.36,24.264,25.264,29.36,19,29.36z M16.36,4.64h5.28V3.36h-5.28V4.64z M14,23.36H4v-0.72h10V23.36z M12,18.36H2v-0.72h10V18.36z M19.179,18.312l-0.357-0.625l7-4l0.357,0.625L19.179,18.312z M14,13.36H4v-0.72h10V13.36z\"></path></svg>\n",
       "    </div>\n",
       "    \n",
       "    \n",
       "\n",
       "\n",
       "\n",
       "<script src=\"https://1.www.s81c.com/common/carbon/carbon-for-aem/version/v0.9.2/tile.min.js\" type=\"module\"></script>\n",
       "\n",
       "\n",
       "\n",
       "\n",
       "    </caem-tile-group>\n",
       "  </div>  \n",
       "\n",
       "\n",
       "<script src=\"https://1.www.s81c.com/common/carbon/carbon-for-aem/version/v0.9.2/tile.min.js\" type=\"module\"></script></div>\n",
       "<div class=\"intro-section\"><div class=\"bx--col\">\n",
       "    <caem-intro-section>\n",
       "\n",
       "        <caem-heading data-autoid=\"caem-heading\" slot=\"heading\" type=\"h2\" type-style=\"expressive-heading-05\">\n",
       "                \n",
       "\n",
       "\n",
       "\n",
       "  \n",
       "    Browse our technology\n",
       "\n",
       "\n",
       "\n",
       "\n",
       "\n",
       "\n",
       "    \n",
       "\n",
       "\n",
       "            </caem-heading>\n",
       "\n",
       "        <caem-paragraph data-autoid=\"caem--paragraph\" size=\"lead-in\">\n",
       "            <div class=\"cms-richtext\" data-dynamic-inner-content=\"description\" id=\"rich-text-c26afb5940\">\n",
       "    <p>From our flagship products for enterprise <a href=\"https://www.ibm.com/cloud?lnk=hpUSbt1\">hybrid cloud infrastructure</a> to next-generation AI, security and storage solutions, find the answer to your business challenge.</p>\n",
       " \n",
       "    \n",
       "    \n",
       "    \n",
       "    \n",
       "\n",
       "</div>\n",
       "        </caem-paragraph>\n",
       "\n",
       "        \n",
       "            <dds-link-list type=\"vertical\">\n",
       "                \n",
       "                    \n",
       "    \n",
       "    \n",
       "        \n",
       "        <dds-video-cta-container>\n",
       "            <dds-link-list-item-cta cta-type=\"local\" href=\"https://www.ibm.com/products?lnk=hpUSbt2\" icon-placement=\"right\" role=\"listitem\" target=\"_self\">\n",
       "                View all products\n",
       "                \n",
       "            </dds-link-list-item-cta>\n",
       "        </dds-video-cta-container>\n",
       "    \n",
       "    \n",
       "    \n",
       "\n",
       "\n",
       "\n",
       "                \n",
       "                \n",
       "                    \n",
       "    \n",
       "    \n",
       "        \n",
       "        <dds-video-cta-container>\n",
       "            <dds-link-list-item-cta cta-type=\"local\" href=\"https://www.ibm.com/products/offers-and-discounts?lnk=hpUSbt3\" icon-placement=\"right\" role=\"listitem\" target=\"_self\">\n",
       "                Shop special offers and discounts\n",
       "                \n",
       "            </dds-link-list-item-cta>\n",
       "        </dds-video-cta-container>\n",
       "    \n",
       "    \n",
       "    \n",
       "\n",
       "\n",
       "\n",
       "                \n",
       "            </dds-link-list>\n",
       "        \n",
       "\n",
       "        \n",
       "\n",
       "    </caem-intro-section>\n",
       "</div>\n",
       "<script src=\"https://1.www.s81c.com/common/carbon/carbon-for-aem/version/v0.9.2/paragraph.min.js\" type=\"module\"></script>\n",
       "<script src=\"https://1.www.s81c.com/common/carbon/carbon-for-aem/version/v0.9.2/heading.min.js\" type=\"module\"></script>\n",
       "<script src=\"https://1.www.s81c.com/common/carbon/carbon-for-aem/version/v0.9.2/intro-section.min.js\" type=\"module\"></script>\n",
       "<script src=\"https://1.www.s81c.com/common/carbon/carbon-for-aem/version/v0.9.2/brand-cta-section.min.js\" type=\"module\"></script>\n",
       "</div>\n",
       "<div class=\"card-group-pictogram-full-width card-group-pictogram\">\n",
       "    <div class=\"bx--content-block\">\n",
       "        \n",
       "\n",
       "        \n",
       "        \n",
       "            \n",
       "                <caem-card-group cards-per-row=\"4\" data-autoid=\"dds--card-group\" grid-mode=\"border\" style=\"--dds--card-group--cards-in-row:4\">\n",
       "                    \n",
       "\n",
       "    \n",
       "    \n",
       "    \n",
       "    \n",
       "    \n",
       "        \n",
       "            \n",
       "            \n",
       "                \n",
       "                <caem-card color-scheme=\"\" cta-type=\"local\" data-autoid=\"caem--card\" href=\"https://www.ibm.com/artificial-intelligence?lnk=prodC\" pictogram-placement=\"top\" size=\"\" target=\"_self\">\n",
       "                    <caem-card-heading aria-level=\"3\" data-autoid=\"caem--card-heading\" role=\"heading\" slot=\"heading\">\n",
       "                        \n",
       "                        AI &amp; machine learning</caem-card-heading>\n",
       "                    <svg class=\"bx--card__pictogram\" data-autoid=\"caem--card__pictogram\" focusable=\"false\" height=\"48\" role=\"img\" slot=\"pictogram\" width=\"48\">\n",
       "                        <use href=\"#ai\"></use>\n",
       "                    </svg>\n",
       "                    <p>Use IBM Watsonx’s AI or build your own machine learning models</p>\n",
       "                    <caem-card-cta-footer color-scheme=\"\" cta-type=\"local\" data-autoid=\"caem--card-cta-footer\" href=\"https://www.ibm.com/artificial-intelligence?lnk=prodC\" icon-placement=\"right\" parent-href=\"https://www.ibm.com/artificial-intelligence?lnk=prodC\" slot=\"footer\" target=\"_self\">\n",
       "                        \n",
       "                    </caem-card-cta-footer>\n",
       "                    <div class=\"caem-card-svg-source\">\n",
       "                        <svg id=\"ai\" viewBox=\"0 0 32 32\" xmlns=\"http://www.w3.org/2000/svg\"><path d=\"M16.195,31.36c-6.421,0-12.169-4.007-14.399-10.002 C1.051,21.408,0.373,20.771,0.372,20c0-0.75,0.61-1.36,1.36-1.36s1.36,0.61,1.36,1.36c0,0.474-0.243,0.892-0.611,1.135 c2.133,5.698,7.604,9.505,13.714,9.505c6.446,0,11.919-4.301,13.773-10.22c-1.448,2.06-3.877,3.44-6.565,3.44 c-3.822,0-7.066-2.785-7.664-6.525C15.113,17.212,14.64,16.661,14.64,16c0-0.584,0.37-1.083,0.888-1.275 c-0.608-3.421-3.615-5.962-7.125-5.962c-3.947,0-7.04,3.176-7.042,7.231c0,0.002,0,0.004,0,0.006H0.64c0-0.002,0-0.004,0-0.007 C0.644,7.526,7.445,0.64,15.805,0.64c6.42,0,12.168,4.006,14.399,10.001c0.777-0.034,1.425,0.587,1.425,1.358 c0,0.75-0.61,1.36-1.36,1.36s-1.36-0.61-1.36-1.36c0-0.473,0.243-0.891,0.611-1.135C27.387,5.166,21.916,1.36,15.805,1.36 c-6.319,0-11.704,4.134-13.659,9.873c1.402-1.949,3.662-3.19,6.256-3.19c3.881,0,7.204,2.826,7.846,6.62 C16.88,14.779,17.36,15.335,17.36,16c0,0.589-0.376,1.092-0.901,1.28c0.567,3.363,3.496,5.859,6.943,5.859 c3.857,0,7.127-3.118,7.235-6.851c0.001-0.096,0.002-0.192,0.002-0.289h0.721c0,0.033,0,0.065-0.001,0.098h0.001 c0,0.069-0.001,0.138-0.003,0.207C31.196,24.634,24.456,31.36,16.195,31.36z M1.732,19.36c-0.353,0-0.64,0.287-0.64,0.64 s0.287,0.64,0.64,0.64s0.64-0.287,0.64-0.64S2.085,19.36,1.732,19.36z M16,15.36c-0.353,0-0.64,0.287-0.64,0.64 s0.287,0.64,0.64,0.64s0.64-0.287,0.64-0.64S16.353,15.36,16,15.36z M30.269,11.36c-0.353,0-0.64,0.287-0.64,0.64 s0.287,0.64,0.64,0.64s0.64-0.287,0.64-0.64S30.621,11.36,30.269,11.36z\"></path></svg>\n",
       "                    </div>\n",
       "                </caem-card>\n",
       "            \n",
       "        \n",
       "    \n",
       "    \n",
       "    \n",
       "\n",
       "\n",
       "\n",
       "    \n",
       "        \n",
       "            \n",
       "            \n",
       "                \n",
       "                <caem-card color-scheme=\"\" cta-type=\"local\" data-autoid=\"caem--card\" href=\"https://www.ibm.com/analytics?lnk=ProdC\" pictogram-placement=\"top\" size=\"\" target=\"_self\">\n",
       "                    <caem-card-heading aria-level=\"3\" data-autoid=\"caem--card-heading\" role=\"heading\" slot=\"heading\">\n",
       "                        \n",
       "                        Analytics</caem-card-heading>\n",
       "                    <svg class=\"bx--card__pictogram\" data-autoid=\"caem--card__pictogram\" focusable=\"false\" height=\"48\" role=\"img\" slot=\"pictogram\" width=\"48\">\n",
       "                        <use href=\"#predictive-analytics\"></use>\n",
       "                    </svg>\n",
       "                    <p>Aggregate and analyze large datasets</p>\n",
       "                    <caem-card-cta-footer color-scheme=\"\" cta-type=\"local\" data-autoid=\"caem--card-cta-footer\" href=\"https://www.ibm.com/analytics?lnk=ProdC\" icon-placement=\"right\" parent-href=\"https://www.ibm.com/analytics?lnk=ProdC\" slot=\"footer\" target=\"_self\">\n",
       "                        \n",
       "                    </caem-card-cta-footer>\n",
       "                    <div class=\"caem-card-svg-source\">\n",
       "                        <svg id=\"predictive-analytics\" viewBox=\"0 0 32 32\" xmlns=\"http://www.w3.org/2000/svg\"><path d=\"M31,31.36H1c-0.199,0-0.36-0.161-0.36-0.36 V1h0.72v29.64h4.28v-7.328c-0.576-0.158-1-0.687-1-1.312c0-0.75,0.61-1.36,1.36-1.36c0.364,0,0.694,0.144,0.938,0.377l3.702-2.221 v-8.484c-0.576-0.158-1-0.686-1-1.312c0-0.75,0.61-1.36,1.36-1.36S12.36,8.25,12.36,9c0,0.625-0.424,1.153-1,1.312v8.053l3.33-1.998 c-0.032-0.116-0.05-0.239-0.05-0.366c0-0.75,0.61-1.36,1.36-1.36c0.364,0,0.695,0.144,0.939,0.377l3.701-2.221V6.312 c-0.575-0.158-1-0.686-1-1.312c0-0.75,0.61-1.36,1.36-1.36S22.36,4.25,22.36,5c0,0.625-0.425,1.153-1,1.312v6.053l3.33-1.998 c-0.033-0.117-0.05-0.24-0.05-0.367c0-0.75,0.61-1.36,1.36-1.36s1.36,0.61,1.36,1.36c0,0.625-0.425,1.153-1,1.312V30.64H31V31.36z M21.36,30.64h4.279V11.312c-0.22-0.061-0.418-0.175-0.578-0.328l-3.701,2.221V30.64z M16.36,30.64h4.28V13.636l-3.33,1.998 c0.033,0.116,0.05,0.239,0.05,0.366c0,0.625-0.425,1.153-1,1.312V30.64z M11.36,30.64h4.28V17.312 c-0.22-0.061-0.418-0.175-0.579-0.328l-3.702,2.221V30.64H11.36z M6.36,30.64h4.28V19.636l-3.33,1.998 C7.343,21.75,7.36,21.873,7.36,22c0,0.625-0.424,1.153-1,1.312V30.64z M6,21.36c-0.353,0-0.64,0.287-0.64,0.64S5.647,22.64,6,22.64 S6.64,22.353,6.64,22S6.353,21.36,6,21.36z M16,15.36c-0.353,0-0.64,0.287-0.64,0.64s0.287,0.64,0.64,0.64s0.64-0.287,0.64-0.64 S16.353,15.36,16,15.36z M26,9.36c-0.353,0-0.64,0.287-0.64,0.64s0.287,0.64,0.64,0.64s0.64-0.287,0.64-0.64S26.353,9.36,26,9.36z M11,8.36c-0.353,0-0.64,0.287-0.64,0.64S10.647,9.64,11,9.64S11.64,9.353,11.64,9S11.353,8.36,11,8.36z M21,4.36 c-0.353,0-0.64,0.287-0.64,0.64S20.647,5.64,21,5.64S21.64,5.353,21.64,5S21.353,4.36,21,4.36z\"></path></svg>\n",
       "                    </div>\n",
       "                </caem-card>\n",
       "            \n",
       "        \n",
       "    \n",
       "    \n",
       "    \n",
       "\n",
       "\n",
       "\n",
       "    \n",
       "        \n",
       "            \n",
       "            \n",
       "                \n",
       "                <caem-card color-scheme=\"\" cta-type=\"local\" data-autoid=\"caem--card\" href=\"https://www.ibm.com/servers?lnk=ProdC\" pictogram-placement=\"top\" size=\"\" target=\"_self\">\n",
       "                    <caem-card-heading aria-level=\"3\" data-autoid=\"caem--card-heading\" role=\"heading\" slot=\"heading\">\n",
       "                        \n",
       "                        Compute &amp; servers</caem-card-heading>\n",
       "                    <svg class=\"bx--card__pictogram\" data-autoid=\"caem--card__pictogram\" focusable=\"false\" height=\"48\" role=\"img\" slot=\"pictogram\" width=\"48\">\n",
       "                        <use href=\"#storage--product\"></use>\n",
       "                    </svg>\n",
       "                    <p>Run workloads on hybrid cloud infrastructure</p>\n",
       "                    <caem-card-cta-footer color-scheme=\"\" cta-type=\"local\" data-autoid=\"caem--card-cta-footer\" href=\"https://www.ibm.com/servers?lnk=ProdC\" icon-placement=\"right\" parent-href=\"https://www.ibm.com/servers?lnk=ProdC\" slot=\"footer\" target=\"_self\">\n",
       "                        \n",
       "                    </caem-card-cta-footer>\n",
       "                    <div class=\"caem-card-svg-source\">\n",
       "                        <svg id=\"storage--product\" viewBox=\"0 0 32 32\" xmlns=\"http://www.w3.org/2000/svg\"><path d=\"M30,31.36H8c-0.199,0-0.36-0.161-0.36-0.36v-5c0-0.199,0.161-0.36,0.36-0.36h22 c0.199,0,0.36,0.161,0.36,0.36v5C30.36,31.199,30.199,31.36,30,31.36z M8.36,30.64h21.28v-4.28H8.36V30.64z M6,31.36H2 c-0.199,0-0.36-0.161-0.36-0.36V1c0-0.199,0.161-0.36,0.36-0.36h11c0.199,0,0.36,0.161,0.36,0.36v9h-0.72V1.36H2.36v29.28H6V31.36z M28.36,30h-0.72v-2h0.721L28.36,30L28.36,30z M26.36,30h-0.72v-2h0.721L26.36,30L26.36,30z M24.36,30h-0.72v-2h0.721L24.36,30 L24.36,30z M22.36,30h-0.72v-2h0.721L22.36,30L22.36,30z M30,24.36H8c-0.199,0-0.36-0.161-0.36-0.36v-5 c0-0.199,0.161-0.36,0.36-0.36h22c0.199,0,0.36,0.161,0.36,0.36v5C30.36,24.199,30.199,24.36,30,24.36z M8.36,23.64h21.28v-4.28 H8.36V23.64z M28.36,23h-0.72v-2h0.721L28.36,23L28.36,23z M26.36,23h-0.72v-2h0.721L26.36,23L26.36,23z M24.36,23h-0.72v-2h0.721 L24.36,23L24.36,23z M22.36,23h-0.72v-2h0.721L22.36,23L22.36,23z M30,17.36H8c-0.199,0-0.36-0.161-0.36-0.36v-5 c0-0.199,0.161-0.36,0.36-0.36h22c0.199,0,0.36,0.161,0.36,0.36v5C30.36,17.199,30.199,17.36,30,17.36z M8.36,16.64h21.28v-4.28 H8.36V16.64z M28.36,16h-0.72v-2h0.721L28.36,16L28.36,16z M26.36,16h-0.72v-2h0.721L26.36,16L26.36,16z M24.36,16h-0.72v-2h0.721 L24.36,16L24.36,16z M22.36,16h-0.72v-2h0.721L22.36,16L22.36,16z M6,4.36H4V3.64h2V4.36z\"></path></svg>\n",
       "                    </div>\n",
       "                </caem-card>\n",
       "            \n",
       "        \n",
       "    \n",
       "    \n",
       "    \n",
       "\n",
       "\n",
       "\n",
       "    \n",
       "        \n",
       "            \n",
       "            \n",
       "                \n",
       "                <caem-card color-scheme=\"\" cta-type=\"local\" data-autoid=\"caem--card\" href=\"https://www.ibm.com/database?lnk=ProdC\" pictogram-placement=\"top\" size=\"\" target=\"_self\">\n",
       "                    <caem-card-heading aria-level=\"3\" data-autoid=\"caem--card-heading\" role=\"heading\" slot=\"heading\">\n",
       "                        \n",
       "                        Databases</caem-card-heading>\n",
       "                    <svg class=\"bx--card__pictogram\" data-autoid=\"caem--card__pictogram\" focusable=\"false\" height=\"48\" role=\"img\" slot=\"pictogram\" width=\"48\">\n",
       "                        <use href=\"#hard--drive--network\"></use>\n",
       "                    </svg>\n",
       "                    <p>Store, query and analyze structured data</p>\n",
       "                    <caem-card-cta-footer color-scheme=\"\" cta-type=\"local\" data-autoid=\"caem--card-cta-footer\" href=\"https://www.ibm.com/database?lnk=ProdC\" icon-placement=\"right\" parent-href=\"https://www.ibm.com/database?lnk=ProdC\" slot=\"footer\" target=\"_self\">\n",
       "                        \n",
       "                    </caem-card-cta-footer>\n",
       "                    <div class=\"caem-card-svg-source\">\n",
       "                        <svg id=\"hard--drive--network\" viewBox=\"0 0 32 32\" xmlns=\"http://www.w3.org/2000/svg\"><path d=\"M20,6c-0.552,0-1-0.448-1-1s0.448-1,1-1s1,0.448,1,1S20.552,6,20,6z M21,16 c0-0.552-0.448-1-1-1s-1,0.448-1,1s0.448,1,1,1S21,16.552,21,16z M21,27c0-0.552-0.448-1-1-1s-1,0.448-1,1s0.448,1,1,1 S21,27.552,21,27z M24,31.36H1c-0.199,0-0.36-0.161-0.36-0.36v-8c0-0.199,0.161-0.36,0.36-0.36h23c0.199,0,0.36,0.161,0.36,0.36v8 C24.36,31.199,24.199,31.36,24,31.36z M1.36,30.64h22.28v-7.28H1.36V30.64z M31,27.36h-5v-0.72h4.64V16.36H26v-0.72h4.64V5.36H26 V4.64h5c0.199,0,0.36,0.161,0.36,0.36v22C31.36,27.199,31.199,27.36,31,27.36z M24,20.36H1c-0.199,0-0.36-0.161-0.36-0.36v-8 c0-0.199,0.161-0.36,0.36-0.36h23c0.199,0,0.36,0.161,0.36,0.36v8C24.36,20.199,24.199,20.36,24,20.36z M1.36,19.64h22.28v-7.28 H1.36V19.64z M24,9.36H1C0.801,9.36,0.64,9.199,0.64,9V1c0-0.199,0.161-0.36,0.36-0.36h23c0.199,0,0.36,0.161,0.36,0.36v8 C24.36,9.199,24.199,9.36,24,9.36z M1.36,8.64h22.28V1.36H1.36V8.64z\"></path></svg>\n",
       "                    </div>\n",
       "                </caem-card>\n",
       "            \n",
       "        \n",
       "    \n",
       "    \n",
       "    \n",
       "\n",
       "\n",
       "\n",
       "    \n",
       "        \n",
       "            \n",
       "            \n",
       "                \n",
       "                <caem-card color-scheme=\"\" cta-type=\"local\" data-autoid=\"caem--card\" href=\"https://www.ibm.com/aiops?lnk=ProdC\" pictogram-placement=\"top\" size=\"\" target=\"_self\">\n",
       "                    <caem-card-heading aria-level=\"3\" data-autoid=\"caem--card-heading\" role=\"heading\" slot=\"heading\">\n",
       "                        \n",
       "                        IT automation</caem-card-heading>\n",
       "                    <svg class=\"bx--card__pictogram\" data-autoid=\"caem--card__pictogram\" focusable=\"false\" height=\"48\" role=\"img\" slot=\"pictogram\" width=\"48\">\n",
       "                        <use href=\"#automation--decision\"></use>\n",
       "                    </svg>\n",
       "                    <p>Automate IT infrastructure management</p>\n",
       "                    <caem-card-cta-footer color-scheme=\"\" cta-type=\"local\" data-autoid=\"caem--card-cta-footer\" href=\"https://www.ibm.com/aiops?lnk=ProdC\" icon-placement=\"right\" parent-href=\"https://www.ibm.com/aiops?lnk=ProdC\" slot=\"footer\" target=\"_self\">\n",
       "                        \n",
       "                    </caem-card-cta-footer>\n",
       "                    <div class=\"caem-card-svg-source\">\n",
       "                        <svg id=\"automation--decision\" viewBox=\"0 0 32 32\" xmlns=\"http://www.w3.org/2000/svg\"><path d=\"M27.255,19.255L30.509,16l-3.254-3.254l-0.51,0.509l2.386,2.386H16.149L9.36,8.85V5.36h19.771 l-2.386,2.386l0.51,0.509L30.509,5l-3.254-3.254l-0.51,0.509l2.386,2.386H9C8.801,4.64,8.64,4.801,8.64,5v3.85l-6.895,6.896 c-0.141,0.141-0.141,0.368,0,0.509L8.64,23.15V27c0,0.199,0.161,0.36,0.36,0.36h20.131l-2.386,2.385l0.51,0.51L30.509,27 l-3.254-3.255l-0.51,0.51l2.386,2.385H9.36v-3.49l6.789-6.79h12.982l-2.386,2.385L27.255,19.255z M9,22.491L2.509,16L9,9.508 L15.491,16L9,22.491z\"></path></svg>\n",
       "                    </div>\n",
       "                </caem-card>\n",
       "            \n",
       "        \n",
       "    \n",
       "    \n",
       "    \n",
       "\n",
       "\n",
       "\n",
       "    \n",
       "        \n",
       "            \n",
       "            \n",
       "                \n",
       "                <caem-card color-scheme=\"\" cta-type=\"local\" data-autoid=\"caem--card\" href=\"https://www.ibm.com/quantum?lnk=ProdC\" pictogram-placement=\"top\" size=\"\" target=\"_self\">\n",
       "                    <caem-card-heading aria-level=\"3\" data-autoid=\"caem--card-heading\" role=\"heading\" slot=\"heading\">\n",
       "                        \n",
       "                        Quantum</caem-card-heading>\n",
       "                    <svg class=\"bx--card__pictogram\" data-autoid=\"caem--card__pictogram\" focusable=\"false\" height=\"48\" role=\"img\" slot=\"pictogram\" width=\"48\">\n",
       "                        <use href=\"#quantum--safe\"></use>\n",
       "                    </svg>\n",
       "                    <p>Run code on real quantum systems using a full-stack SDK</p>\n",
       "                    <caem-card-cta-footer color-scheme=\"\" cta-type=\"local\" data-autoid=\"caem--card-cta-footer\" href=\"https://www.ibm.com/quantum?lnk=ProdC\" icon-placement=\"right\" parent-href=\"https://www.ibm.com/quantum?lnk=ProdC\" slot=\"footer\" target=\"_self\">\n",
       "                        \n",
       "                    </caem-card-cta-footer>\n",
       "                    <div class=\"caem-card-svg-source\">\n",
       "                        <svg id=\"quantum--safe\" viewBox=\"0 0 32 32\" xmlns=\"http://www.w3.org/2000/svg\"><path d=\"M16,31.36C9.736,31.36,4.64,26.264,4.64,20V7 c0-0.132,0.072-0.253,0.188-0.316l11-6c0.107-0.059,0.237-0.059,0.345,0l11,6C27.288,6.747,27.36,6.868,27.36,7v13 C27.36,26.264,22.264,31.36,16,31.36z M5.36,7.214V20c0,5.867,4.773,10.64,10.64,10.64S26.64,25.868,26.64,20V7.214L16,1.41 L5.36,7.214z M16,23.36c-1.089,0-1.841-0.229-2.703-0.599l0.284-0.662c0.797,0.343,1.449,0.54,2.419,0.54 c3.421,0,6.16-2.355,6.583-5.502C21.287,17.971,18.572,18.36,16,18.36c-3.558,0-7.36-0.62-7.36-2.36c0-0.903,0.218-1.93,0.598-2.817 c0.752-1.794,2.166-3.197,3.978-3.947c1.815-0.751,3.803-0.751,5.598,0L18.535,9.9c-1.613-0.677-3.405-0.678-5.044,0.001 c-1.635,0.677-2.91,1.942-3.59,3.562c-0.173,0.403-0.308,0.835-0.4,1.269c1.301-0.894,3.878-1.467,6.317-1.541l0.021,0.72 C12.081,14.026,9.36,15.238,9.36,16c0,0.806,2.484,1.64,6.64,1.64c4.114,0,6.64-0.955,6.64-1.64c0-0.39-1.028-1.311-2.71-1.647 l0.141-0.706c1.814,0.363,3.29,1.418,3.29,2.353v0.285C23.36,20.252,20.127,23.36,16,23.36z M11,22.612 c-0.889,0-1.612-0.724-1.612-1.612s0.723-1.612,1.612-1.612s1.612,0.724,1.612,1.612S11.889,22.612,11,22.612z M11,20.108 c-0.492,0-0.892,0.399-0.892,0.892s0.4,0.892,0.892,0.892s0.892-0.399,0.892-0.892S11.492,20.108,11,20.108z M16.254,16.254 l-0.509-0.509l3.888-3.889c-0.39-0.623-0.314-1.456,0.226-1.997c0.629-0.629,1.652-0.628,2.281,0c0.628,0.629,0.628,1.651,0,2.28 l0,0c-0.541,0.541-1.375,0.616-1.997,0.226L16.254,16.254z M21,10.108c-0.229,0-0.457,0.087-0.631,0.261 c-0.348,0.348-0.348,0.914,0,1.262s0.914,0.348,1.262,0s0.348-0.914,0-1.262C21.457,10.195,21.229,10.108,21,10.108z\"></path></svg>\n",
       "                    </div>\n",
       "                </caem-card>\n",
       "            \n",
       "        \n",
       "    \n",
       "    \n",
       "    \n",
       "\n",
       "\n",
       "\n",
       "    \n",
       "        \n",
       "            \n",
       "            \n",
       "                \n",
       "                <caem-card color-scheme=\"\" cta-type=\"local\" data-autoid=\"caem--card\" href=\"https://www.ibm.com/security?lnk=prodC\" pictogram-placement=\"top\" size=\"\" target=\"_self\">\n",
       "                    <caem-card-heading aria-level=\"3\" data-autoid=\"caem--card-heading\" role=\"heading\" slot=\"heading\">\n",
       "                        \n",
       "                        Security &amp; identity</caem-card-heading>\n",
       "                    <svg class=\"bx--card__pictogram\" data-autoid=\"caem--card__pictogram\" focusable=\"false\" height=\"48\" role=\"img\" slot=\"pictogram\" width=\"48\">\n",
       "                        <use href=\"#secure--profile\"></use>\n",
       "                    </svg>\n",
       "                    <p>Cloud-native software to secure resources and simplify compliance</p>\n",
       "                    <caem-card-cta-footer color-scheme=\"\" cta-type=\"local\" data-autoid=\"caem--card-cta-footer\" href=\"https://www.ibm.com/security?lnk=prodC\" icon-placement=\"right\" parent-href=\"https://www.ibm.com/security?lnk=prodC\" slot=\"footer\" target=\"_self\">\n",
       "                        \n",
       "                    </caem-card-cta-footer>\n",
       "                    <div class=\"caem-card-svg-source\">\n",
       "                        <svg id=\"secure--profile\" viewBox=\"0 0 32 32\" xmlns=\"http://www.w3.org/2000/svg\"><path d=\"M23.14,25.415v-1.988c-0.373-0.145-0.64-0.503-0.64-0.927c0-0.552,0.448-1,1-1s1,0.448,1,1 c0,0.424-0.266,0.782-0.64,0.927v1.988c0,0.199-0.161,0.36-0.36,0.36S23.14,25.614,23.14,25.415z M31.36,16v15 c0,0.199-0.161,0.36-0.36,0.36H16c-0.199,0-0.36-0.161-0.36-0.36V19h0.72v11.64h14.28V16.36H1c-0.199,0-0.36-0.161-0.36-0.36V1 c0-0.199,0.161-0.36,0.36-0.36h15c0.199,0,0.36,0.161,0.36,0.36v12h-0.72V1.36H1.36v14.28h2.28v-2.639 c0-1.926,1.166-3.659,2.908-4.427C5.978,8.04,5.643,7.293,5.643,6.5c0-1.577,1.283-2.86,2.86-2.86s2.86,1.283,2.86,2.86 c0,0.794-0.335,1.542-0.907,2.075c1.74,0.77,2.904,2.502,2.904,4.426v2.639h6.28V11.5c0-2.128,1.731-3.86,3.859-3.86 c2.129,0,3.861,1.731,3.861,3.86l-0.001,4.14H31C31.199,15.64,31.36,15.801,31.36,16z M12.64,13.001c0-1.837-1.25-3.47-3.041-3.97 c-0.141-0.04-0.244-0.16-0.261-0.306C9.321,8.58,9.395,8.439,9.523,8.369c0.69-0.379,1.12-1.095,1.12-1.869 c0-1.18-0.96-2.14-2.14-2.14s-2.14,0.96-2.14,2.14c0,0.773,0.429,1.489,1.119,1.868c0.128,0.07,0.201,0.211,0.184,0.357 C7.648,8.87,7.545,8.991,7.404,9.03C5.612,9.529,4.36,11.162,4.36,13.001v2.639h8.28C12.64,15.64,12.64,13.001,12.64,13.001z M26.64,11.5c0-1.731-1.408-3.14-3.14-3.14s-3.14,1.409-3.14,3.14v4.14h6.278L26.64,11.5z\"></path></svg>\n",
       "                    </div>\n",
       "                </caem-card>\n",
       "            \n",
       "        \n",
       "    \n",
       "    \n",
       "    \n",
       "\n",
       "\n",
       "\n",
       "    \n",
       "        \n",
       "            \n",
       "            \n",
       "                \n",
       "                <caem-card color-scheme=\"\" cta-type=\"local\" data-autoid=\"caem--card\" href=\"https://www.ibm.com/storage?lnk=prodC\" pictogram-placement=\"top\" size=\"\" target=\"_self\">\n",
       "                    <caem-card-heading aria-level=\"3\" data-autoid=\"caem--card-heading\" role=\"heading\" slot=\"heading\">\n",
       "                        \n",
       "                        Storage</caem-card-heading>\n",
       "                    <svg class=\"bx--card__pictogram\" data-autoid=\"caem--card__pictogram\" focusable=\"false\" height=\"48\" role=\"img\" slot=\"pictogram\" width=\"48\">\n",
       "                        <use href=\"#storage--product\"></use>\n",
       "                    </svg>\n",
       "                    <p>Software, hardware and services for critical and operational workloads and data</p>\n",
       "                    <caem-card-cta-footer color-scheme=\"\" cta-type=\"local\" data-autoid=\"caem--card-cta-footer\" href=\"https://www.ibm.com/storage?lnk=prodC\" icon-placement=\"right\" parent-href=\"https://www.ibm.com/storage?lnk=prodC\" slot=\"footer\" target=\"_self\">\n",
       "                        \n",
       "                    </caem-card-cta-footer>\n",
       "                    <div class=\"caem-card-svg-source\">\n",
       "                        <svg id=\"storage--product\" viewBox=\"0 0 32 32\" xmlns=\"http://www.w3.org/2000/svg\"><path d=\"M30,31.36H8c-0.199,0-0.36-0.161-0.36-0.36v-5c0-0.199,0.161-0.36,0.36-0.36h22 c0.199,0,0.36,0.161,0.36,0.36v5C30.36,31.199,30.199,31.36,30,31.36z M8.36,30.64h21.28v-4.28H8.36V30.64z M6,31.36H2 c-0.199,0-0.36-0.161-0.36-0.36V1c0-0.199,0.161-0.36,0.36-0.36h11c0.199,0,0.36,0.161,0.36,0.36v9h-0.72V1.36H2.36v29.28H6V31.36z M28.36,30h-0.72v-2h0.721L28.36,30L28.36,30z M26.36,30h-0.72v-2h0.721L26.36,30L26.36,30z M24.36,30h-0.72v-2h0.721L24.36,30 L24.36,30z M22.36,30h-0.72v-2h0.721L22.36,30L22.36,30z M30,24.36H8c-0.199,0-0.36-0.161-0.36-0.36v-5 c0-0.199,0.161-0.36,0.36-0.36h22c0.199,0,0.36,0.161,0.36,0.36v5C30.36,24.199,30.199,24.36,30,24.36z M8.36,23.64h21.28v-4.28 H8.36V23.64z M28.36,23h-0.72v-2h0.721L28.36,23L28.36,23z M26.36,23h-0.72v-2h0.721L26.36,23L26.36,23z M24.36,23h-0.72v-2h0.721 L24.36,23L24.36,23z M22.36,23h-0.72v-2h0.721L22.36,23L22.36,23z M30,17.36H8c-0.199,0-0.36-0.161-0.36-0.36v-5 c0-0.199,0.161-0.36,0.36-0.36h22c0.199,0,0.36,0.161,0.36,0.36v5C30.36,17.199,30.199,17.36,30,17.36z M8.36,16.64h21.28v-4.28 H8.36V16.64z M28.36,16h-0.72v-2h0.721L28.36,16L28.36,16z M26.36,16h-0.72v-2h0.721L26.36,16L26.36,16z M24.36,16h-0.72v-2h0.721 L24.36,16L24.36,16z M22.36,16h-0.72v-2h0.721L22.36,16L22.36,16z M6,4.36H4V3.64h2V4.36z\"></path></svg>\n",
       "                    </div>\n",
       "                </caem-card>\n",
       "            \n",
       "        \n",
       "    \n",
       "    \n",
       "    \n",
       "\n",
       "\n",
       "\n",
       "    \n",
       "\n",
       "\n",
       "                </caem-card-group>\n",
       "            \n",
       "        \n",
       "        \n",
       "    </div>\n",
       "\n",
       "    \n",
       "\n",
       "    <script src=\"https://1.www.s81c.com/common/carbon/carbon-for-aem/version/v0.9.2/card.min.js\" type=\"module\"></script>\n",
       "    <script src=\"https://1.www.s81c.com/common/carbon/carbon-for-aem/version/v0.9.2/card-group.min.js\" type=\"module\"></script>\n",
       "</div>\n",
       "<div class=\"feature-card-section\">\n",
       "    \n",
       "        \n",
       "        <div class=\"feature-card-section__container theme-white\">\n",
       "            \n",
       "            \n",
       "            <dds-feature-section media-alignment=\"right\">\n",
       "\n",
       "                \n",
       "    \n",
       "    \n",
       "        \n",
       "        \n",
       "        \n",
       "        \n",
       "        <dds-image alt=\"CEO's Guide to AI book image\" default-src=\"/content/dam/connectedassets-adobe-cms/worldwide-content/creative-assets/ibv/ul/g/19/fb/1235_generative_ai_book_leadspace_3168x1470.component.xl.ts=1707414045722.png/content/adobe-cms/us/en/homepage/jcr:content/root/table_of_contents/feature_card_section\" id=\"image--449883115\" slot=\"image\">\n",
       "            \n",
       "            \n",
       "                \n",
       "                    \n",
       "    <dds-image-item media=\"(min-width: 1312px) and (min-resolution: 192dpi)\" srcset=\"/content/dam/connectedassets-adobe-cms/worldwide-content/creative-assets/ibv/ul/g/19/fb/1235_generative_ai_book_leadspace_3168x1470.component.xl-retina.ts=1707414045722.png/content/adobe-cms/us/en/homepage/jcr:content/root/table_of_contents/feature_card_section\"></dds-image-item>\n",
       "    <dds-image-item media=\"(min-width: 1312px)\" srcset=\"/content/dam/connectedassets-adobe-cms/worldwide-content/creative-assets/ibv/ul/g/19/fb/1235_generative_ai_book_leadspace_3168x1470.component.xl.ts=1707414045722.png/content/adobe-cms/us/en/homepage/jcr:content/root/table_of_contents/feature_card_section\"></dds-image-item>\n",
       "    <dds-image-item media=\"(min-width: 1056px) and (min-resolution: 192dpi)\" srcset=\"/content/dam/connectedassets-adobe-cms/worldwide-content/creative-assets/ibv/ul/g/19/fb/1235_generative_ai_book_leadspace_3168x1470.component.l-retina.ts=1707414045722.png/content/adobe-cms/us/en/homepage/jcr:content/root/table_of_contents/feature_card_section\"></dds-image-item>\n",
       "    <dds-image-item media=\"(min-width: 1056px)\" srcset=\"/content/dam/connectedassets-adobe-cms/worldwide-content/creative-assets/ibv/ul/g/19/fb/1235_generative_ai_book_leadspace_3168x1470.component.l.ts=1707414045722.png/content/adobe-cms/us/en/homepage/jcr:content/root/table_of_contents/feature_card_section\"></dds-image-item>\n",
       "    <dds-image-item media=\"(min-width: 672px) and (min-resolution: 192dpi)\" srcset=\"/content/dam/connectedassets-adobe-cms/worldwide-content/creative-assets/ibv/ul/g/19/fb/1235_generative_ai_book_leadspace_3168x1470.component.m-retina.ts=1707414045722.png/content/adobe-cms/us/en/homepage/jcr:content/root/table_of_contents/feature_card_section\"></dds-image-item>\n",
       "    <dds-image-item media=\"(min-width: 672px)\" srcset=\"/content/dam/connectedassets-adobe-cms/worldwide-content/creative-assets/ibv/ul/g/19/fb/1235_generative_ai_book_leadspace_3168x1470.component.m.ts=1707414045722.png/content/adobe-cms/us/en/homepage/jcr:content/root/table_of_contents/feature_card_section\"></dds-image-item>\n",
       "    <dds-image-item media=\"(min-width: 481px) and (min-resolution: 192dpi)\" srcset=\"/content/dam/connectedassets-adobe-cms/worldwide-content/creative-assets/ibv/ul/g/19/fb/1235_generative_ai_book_leadspace_3168x1470.component.s-retina.ts=1707414045722.png/content/adobe-cms/us/en/homepage/jcr:content/root/table_of_contents/feature_card_section\"></dds-image-item>\n",
       "    <dds-image-item media=\"(min-width: 481px)\" srcset=\"/content/dam/connectedassets-adobe-cms/worldwide-content/creative-assets/ibv/ul/g/19/fb/1235_generative_ai_book_leadspace_3168x1470.component.s.ts=1707414045722.png/content/adobe-cms/us/en/homepage/jcr:content/root/table_of_contents/feature_card_section\"></dds-image-item>\n",
       "    <dds-image-item media=\"(max-width: 480px) and (min-resolution: 192dpi)\" srcset=\"/content/dam/connectedassets-adobe-cms/worldwide-content/creative-assets/ibv/ul/g/19/fb/1235_generative_ai_book_leadspace_3168x1470.component.xs-retina.ts=1707414045722.png/content/adobe-cms/us/en/homepage/jcr:content/root/table_of_contents/feature_card_section\"></dds-image-item>\n",
       "    <dds-image-item media=\"(max-width: 480px)\" srcset=\"/content/dam/connectedassets-adobe-cms/worldwide-content/creative-assets/ibv/ul/g/19/fb/1235_generative_ai_book_leadspace_3168x1470.component.xs.ts=1707414045722.png/content/adobe-cms/us/en/homepage/jcr:content/root/table_of_contents/feature_card_section\"></dds-image-item>\n",
       "\n",
       "                    \n",
       "                \n",
       "            \n",
       "        </dds-image>\n",
       "    \n",
       "\n",
       "    \n",
       "\n",
       "\n",
       "\n",
       "                <dds-card-eyebrow slot=\"eyebrow\">\n",
       "                    Thought leadership\n",
       "                </dds-card-eyebrow>\n",
       "                <dds-content-block-heading slot=\"heading\">\n",
       "                    Transform with generative AI\n",
       "                </dds-content-block-heading>\n",
       "                <dds-content-item-paragraph slot=\"copy\">\n",
       "                    Call it the next industrial revolution—generative AI is defining this era of technology and we wrote the book on it. To explain its capabilities, risks and best investments, IBM’s Institute for Business Value presents The CEO’s Guide to Generative AI.\n",
       "                </dds-content-item-paragraph>\n",
       "\n",
       "                    <dds-feature-section-card-link color-scheme=\"inverse\" cta-type=\"local\" href=\"https://www.ibm.com/thought-leadership/institute-business-value/report/ceo-generative-ai-book?lnk=hpUSft\" no-poster=\"\" slot=\"footer\" target=\"_self\">\n",
       "                <dds-card-link-heading>Download your free digital book</dds-card-link-heading>\n",
       "                <dds-card-cta-footer color-scheme=\"inverse\" cta-type=\"local\" href=\"https://www.ibm.com/thought-leadership/institute-business-value/report/ceo-generative-ai-book?lnk=hpUSft\" target=\"_self\"></dds-card-cta-footer>\n",
       "                </dds-feature-section-card-link>\n",
       "                </dds-feature-section>\n",
       "            \n",
       "        </div>\n",
       "        \n",
       "    \n",
       "\n",
       "    \n",
       "</div>\n",
       "<div class=\"intro-section\"><div class=\"bx--col\">\n",
       "    <caem-intro-section>\n",
       "\n",
       "        <caem-heading data-autoid=\"caem-heading\" slot=\"heading\" type=\"h2\" type-style=\"expressive-heading-05\">\n",
       "                \n",
       "\n",
       "\n",
       "\n",
       "  \n",
       "    IBM Consulting\n",
       "\n",
       "\n",
       "\n",
       "\n",
       "\n",
       "\n",
       "    \n",
       "\n",
       "\n",
       "            </caem-heading>\n",
       "\n",
       "        <caem-paragraph data-autoid=\"caem--paragraph\" size=\"lead-in\">\n",
       "            <div class=\"cms-richtext\" data-dynamic-inner-content=\"description\" id=\"rich-text-c6915c4a21\">\n",
       "    <p>Bringing together a diverse set of voices with new technology, we collaborate closely, ideate freely and swiftly apply breakthrough innovations that drive big impact.</p>\n",
       " \n",
       "    \n",
       "    \n",
       "    \n",
       "    \n",
       "\n",
       "</div>\n",
       "        </caem-paragraph>\n",
       "\n",
       "        \n",
       "            <dds-link-list type=\"vertical\">\n",
       "                \n",
       "                    \n",
       "    \n",
       "    \n",
       "        \n",
       "        <dds-video-cta-container>\n",
       "            <dds-link-list-item-cta cta-type=\"local\" href=\"https://www.ibm.com/consulting?lnk=intro\" icon-placement=\"right\" role=\"listitem\" target=\"_self\">\n",
       "                Explore IBM Consulting\n",
       "                \n",
       "            </dds-link-list-item-cta>\n",
       "        </dds-video-cta-container>\n",
       "    \n",
       "    \n",
       "    \n",
       "\n",
       "\n",
       "\n",
       "                \n",
       "                \n",
       "                    \n",
       "    \n",
       "    \n",
       "    \n",
       "    \n",
       "\n",
       "\n",
       "\n",
       "                \n",
       "            </dds-link-list>\n",
       "        \n",
       "\n",
       "        \n",
       "\n",
       "    </caem-intro-section>\n",
       "</div>\n",
       "<script src=\"https://1.www.s81c.com/common/carbon/carbon-for-aem/version/v0.9.2/paragraph.min.js\" type=\"module\"></script>\n",
       "<script src=\"https://1.www.s81c.com/common/carbon/carbon-for-aem/version/v0.9.2/heading.min.js\" type=\"module\"></script>\n",
       "<script src=\"https://1.www.s81c.com/common/carbon/carbon-for-aem/version/v0.9.2/intro-section.min.js\" type=\"module\"></script>\n",
       "<script src=\"https://1.www.s81c.com/common/carbon/carbon-for-aem/version/v0.9.2/brand-cta-section.min.js\" type=\"module\"></script>\n",
       "</div>\n",
       "<div class=\"card-in-card-with-video card-in-card block-card card link button\">\n",
       "    \n",
       "    \n",
       "    \n",
       "    <div>\n",
       "        \n",
       "        \n",
       "        <dds-card-in-card cta-type=\"local\" data-autoid=\"dds--card-in-card\" href=\"https://www.ibm.com/case-studies/faw-volkswagen\" pictogram-placement=\"top\" target=\"_self\">\n",
       "\n",
       "            \n",
       "\n",
       "\n",
       "            <dds-card-eyebrow aria-hidden=\"true\" slot=\"eyebrow\">Client success</dds-card-eyebrow>\n",
       "\n",
       "            <dds-card-heading slot=\"heading\">Working with IBM Garage and iX experts, Volkswagen created a platform to serve tailored offers to customers </dds-card-heading>\n",
       "\n",
       "            <dds-card-cta-footer class=\"bx--card__footer-icon-size\" cta-type=\"local\" data-autoid=\"dds--card-cta-footer\" href=\"https://www.ibm.com/case-studies/faw-volkswagen\" icon-placement=\"right\" slot=\"footer\" target=\"_self\">\n",
       "                \n",
       "                    Read the story\n",
       "                \n",
       "                \n",
       "\n",
       "            </dds-card-cta-footer>\n",
       "            <caem-video-player-container aspect-ratio=\"16x9\" button-position=\"bottom-left\" hide-caption=\"\" intersection-mode=\"\" playing-mode=\"inline\" slot=\"image\" thumbnail=\"\" video-id=\"1_a9gvf78c\"></caem-video-player-container>\n",
       "        </dds-card-in-card>\n",
       "        \n",
       "        <script src=\"https://1.www.s81c.com/common/carbon/carbon-for-aem/version/v0.9.2/video-player.min.js\" type=\"module\"></script>\n",
       "    </div>\n",
       "\n",
       "    \n",
       "    \n",
       "\n",
       "\n",
       "\n",
       "</div>\n",
       "<div class=\"intro-section\"><div class=\"bx--col\">\n",
       "    <caem-intro-section>\n",
       "\n",
       "        <caem-heading data-autoid=\"caem-heading\" slot=\"heading\" type=\"h2\" type-style=\"expressive-heading-05\">\n",
       "                \n",
       "\n",
       "\n",
       "\n",
       "  \n",
       "    Inside IBM\n",
       "\n",
       "\n",
       "\n",
       "\n",
       "\n",
       "\n",
       "    \n",
       "\n",
       "\n",
       "            </caem-heading>\n",
       "\n",
       "        <caem-paragraph data-autoid=\"caem--paragraph\" size=\"lead-in\">\n",
       "            <div class=\"cms-richtext\" data-dynamic-inner-content=\"description\" id=\"rich-text-2e2a81d78b\">\n",
       "    <p>Solving the world’s problems through technology wouldn’t be possible without our most important invention: the IBMer. Have a look at our talented teams.</p>\n",
       " \n",
       "    \n",
       "    \n",
       "    \n",
       "    \n",
       "\n",
       "</div>\n",
       "        </caem-paragraph>\n",
       "\n",
       "        \n",
       "            <dds-link-list type=\"vertical\">\n",
       "                \n",
       "                    \n",
       "    \n",
       "    \n",
       "        \n",
       "        <dds-video-cta-container>\n",
       "            <dds-link-list-item-cta cta-type=\"local\" href=\"https://www.ibm.com/about?lnk=intro\" icon-placement=\"right\" role=\"listitem\" target=\"_self\">\n",
       "                About IBM\n",
       "                \n",
       "            </dds-link-list-item-cta>\n",
       "        </dds-video-cta-container>\n",
       "    \n",
       "    \n",
       "    \n",
       "\n",
       "\n",
       "\n",
       "                \n",
       "                \n",
       "                    \n",
       "    \n",
       "    \n",
       "    \n",
       "    \n",
       "\n",
       "\n",
       "\n",
       "                \n",
       "            </dds-link-list>\n",
       "        \n",
       "\n",
       "        \n",
       "\n",
       "    </caem-intro-section>\n",
       "</div>\n",
       "<script src=\"https://1.www.s81c.com/common/carbon/carbon-for-aem/version/v0.9.2/paragraph.min.js\" type=\"module\"></script>\n",
       "<script src=\"https://1.www.s81c.com/common/carbon/carbon-for-aem/version/v0.9.2/heading.min.js\" type=\"module\"></script>\n",
       "<script src=\"https://1.www.s81c.com/common/carbon/carbon-for-aem/version/v0.9.2/intro-section.min.js\" type=\"module\"></script>\n",
       "<script src=\"https://1.www.s81c.com/common/carbon/carbon-for-aem/version/v0.9.2/brand-cta-section.min.js\" type=\"module\"></script>\n",
       "</div>\n",
       "<div class=\"block-card-container container responsivegrid\">\n",
       "    <dds-video-cta-container>\n",
       "        <dds-content-block-cards data-autoid=\"dds--content-block-cards\">\n",
       "            \n",
       "                \n",
       "  \n",
       "\n",
       "                \n",
       "            \n",
       "\n",
       "            \n",
       "\n",
       "            <dds-card-group cards-per-row=\"4\">\n",
       "                    \n",
       "\n",
       "    \n",
       "    \n",
       "    \n",
       "    \n",
       "    \n",
       "    \n",
       "    \n",
       "    \n",
       "    \n",
       "    <dds-card-group-item cta-type=\"local\" href=\"https://www.ibm.com/careers?lnk=hpUSap\" pictogram-placement=\"top\" target=\"_self\">\n",
       "\n",
       "        \n",
       "            \n",
       "                \n",
       "\n",
       "\n",
       "\n",
       "\n",
       "    \n",
       "    \n",
       "        \n",
       "        \n",
       "        \n",
       "        \n",
       "        <dds-image alt=\"Engineer works with electrical device\" default-src=\"/content/dam/connectedassets-adobe-cms/worldwide-content/creative-assets/ibs/ul/g/00/00/0100129_Oppermann_PE.component.card-xl.ts=1707414046847.jpg/content/adobe-cms/us/en/homepage/jcr:content/root/table_of_contents/block_card_container/container/card_1430209788/image\" id=\"image-1840079892\" slot=\"image\">\n",
       "            \n",
       "            \n",
       "                \n",
       "                    \n",
       "    <dds-image-item media=\"(min-width: 1312px) and (min-resolution: 192dpi)\" srcset=\"/content/dam/connectedassets-adobe-cms/worldwide-content/creative-assets/ibs/ul/g/00/00/0100129_Oppermann_PE.component.card-xl-retina.ts=1707414046847.jpg/content/adobe-cms/us/en/homepage/jcr:content/root/table_of_contents/block_card_container/container/card_1430209788/image\"></dds-image-item>\n",
       "    <dds-image-item media=\"(min-width: 1312px)\" srcset=\"/content/dam/connectedassets-adobe-cms/worldwide-content/creative-assets/ibs/ul/g/00/00/0100129_Oppermann_PE.component.card-xl.ts=1707414046847.jpg/content/adobe-cms/us/en/homepage/jcr:content/root/table_of_contents/block_card_container/container/card_1430209788/image\"></dds-image-item>\n",
       "    <dds-image-item media=\"(min-width: 1056px) and (min-resolution: 192dpi)\" srcset=\"/content/dam/connectedassets-adobe-cms/worldwide-content/creative-assets/ibs/ul/g/00/00/0100129_Oppermann_PE.component.card-l-retina.ts=1707414046847.jpg/content/adobe-cms/us/en/homepage/jcr:content/root/table_of_contents/block_card_container/container/card_1430209788/image\"></dds-image-item>\n",
       "    <dds-image-item media=\"(min-width: 1056px)\" srcset=\"/content/dam/connectedassets-adobe-cms/worldwide-content/creative-assets/ibs/ul/g/00/00/0100129_Oppermann_PE.component.card-l.ts=1707414046847.jpg/content/adobe-cms/us/en/homepage/jcr:content/root/table_of_contents/block_card_container/container/card_1430209788/image\"></dds-image-item>\n",
       "    <dds-image-item media=\"(min-width: 672px) and (min-resolution: 192dpi)\" srcset=\"/content/dam/connectedassets-adobe-cms/worldwide-content/creative-assets/ibs/ul/g/00/00/0100129_Oppermann_PE.component.card-m-retina.ts=1707414046847.jpg/content/adobe-cms/us/en/homepage/jcr:content/root/table_of_contents/block_card_container/container/card_1430209788/image\"></dds-image-item>\n",
       "    <dds-image-item media=\"(min-width: 672px)\" srcset=\"/content/dam/connectedassets-adobe-cms/worldwide-content/creative-assets/ibs/ul/g/00/00/0100129_Oppermann_PE.component.card-m.ts=1707414046847.jpg/content/adobe-cms/us/en/homepage/jcr:content/root/table_of_contents/block_card_container/container/card_1430209788/image\"></dds-image-item>\n",
       "    <dds-image-item media=\"(min-width: 481px) and (min-resolution: 192dpi)\" srcset=\"/content/dam/connectedassets-adobe-cms/worldwide-content/creative-assets/ibs/ul/g/00/00/0100129_Oppermann_PE.component.card-s-retina.ts=1707414046847.jpg/content/adobe-cms/us/en/homepage/jcr:content/root/table_of_contents/block_card_container/container/card_1430209788/image\"></dds-image-item>\n",
       "    <dds-image-item media=\"(min-width: 481px)\" srcset=\"/content/dam/connectedassets-adobe-cms/worldwide-content/creative-assets/ibs/ul/g/00/00/0100129_Oppermann_PE.component.card-s.ts=1707414046847.jpg/content/adobe-cms/us/en/homepage/jcr:content/root/table_of_contents/block_card_container/container/card_1430209788/image\"></dds-image-item>\n",
       "    <dds-image-item media=\"(max-width: 480px) and (min-resolution: 192dpi)\" srcset=\"/content/dam/connectedassets-adobe-cms/worldwide-content/creative-assets/ibs/ul/g/00/00/0100129_Oppermann_PE.component.card-xs-retina.ts=1707414046847.jpg/content/adobe-cms/us/en/homepage/jcr:content/root/table_of_contents/block_card_container/container/card_1430209788/image\"></dds-image-item>\n",
       "    <dds-image-item media=\"(max-width: 480px)\" srcset=\"/content/dam/connectedassets-adobe-cms/worldwide-content/creative-assets/ibs/ul/g/00/00/0100129_Oppermann_PE.component.card-xs.ts=1707414046847.jpg/content/adobe-cms/us/en/homepage/jcr:content/root/table_of_contents/block_card_container/container/card_1430209788/image\"></dds-image-item>\n",
       "\n",
       "                    \n",
       "                \n",
       "            \n",
       "        </dds-image>\n",
       "    \n",
       "\n",
       "    \n",
       "\n",
       "\n",
       "\n",
       "            \n",
       "        \n",
       "        <dds-card-eyebrow aria-hidden=\"true\" class=\"bx--card__eyebrow\" slot=\"eyebrow\">\n",
       "            Careers at IBM\n",
       "        </dds-card-eyebrow>\n",
       "        <dds-card-heading aria-level=\"3\" class=\"bx--card__heading\" role=\"heading\" slot=\"heading\">\n",
       "            From safer food supply to ethical AI, tackle the world's toughest problems\n",
       "        </dds-card-heading>\n",
       "        \n",
       "        <dds-card-cta-footer aria-hidden=\"true\" class=\"bx--card__footer-icon-size\" cta-type=\"local\" href=\"https://www.ibm.com/careers?lnk=hpUSap\" icon-placement=\"right\" slot=\"footer\" target=\"_self\">\n",
       "            \n",
       "            \n",
       "    \n",
       "    \n",
       "    \n",
       "    \n",
       "\n",
       "        </dds-card-cta-footer>\n",
       "    </dds-card-group-item>\n",
       "    \n",
       "    \n",
       "\n",
       "\n",
       "\n",
       "\n",
       "    \n",
       "    \n",
       "    \n",
       "    \n",
       "    \n",
       "    \n",
       "    \n",
       "    \n",
       "    \n",
       "    <dds-card-group-item cta-type=\"local\" href=\"https://research.ibm.com/?lnk=hpUSAp\" pictogram-placement=\"top\" target=\"_self\">\n",
       "\n",
       "        \n",
       "            \n",
       "                \n",
       "\n",
       "\n",
       "\n",
       "\n",
       "    \n",
       "    \n",
       "        \n",
       "        \n",
       "        \n",
       "        \n",
       "        <dds-image alt=\"A large quantum server at IBM Research \" default-src=\"/content/dam/connectedassets-adobe-cms/worldwide-content/other/ul/cms/0c/98/ibm-quantum-system-one.component.card-xl.ts=1707414046914.png/content/adobe-cms/us/en/homepage/jcr:content/root/table_of_contents/block_card_container/container/card/image\" id=\"image--1238433249\" slot=\"image\">\n",
       "            \n",
       "            \n",
       "                \n",
       "                    \n",
       "    <dds-image-item media=\"(min-width: 1312px) and (min-resolution: 192dpi)\" srcset=\"/content/dam/connectedassets-adobe-cms/worldwide-content/other/ul/cms/0c/98/ibm-quantum-system-one.component.card-xl-retina.ts=1707414046914.png/content/adobe-cms/us/en/homepage/jcr:content/root/table_of_contents/block_card_container/container/card/image\"></dds-image-item>\n",
       "    <dds-image-item media=\"(min-width: 1312px)\" srcset=\"/content/dam/connectedassets-adobe-cms/worldwide-content/other/ul/cms/0c/98/ibm-quantum-system-one.component.card-xl.ts=1707414046914.png/content/adobe-cms/us/en/homepage/jcr:content/root/table_of_contents/block_card_container/container/card/image\"></dds-image-item>\n",
       "    <dds-image-item media=\"(min-width: 1056px) and (min-resolution: 192dpi)\" srcset=\"/content/dam/connectedassets-adobe-cms/worldwide-content/other/ul/cms/0c/98/ibm-quantum-system-one.component.card-l-retina.ts=1707414046914.png/content/adobe-cms/us/en/homepage/jcr:content/root/table_of_contents/block_card_container/container/card/image\"></dds-image-item>\n",
       "    <dds-image-item media=\"(min-width: 1056px)\" srcset=\"/content/dam/connectedassets-adobe-cms/worldwide-content/other/ul/cms/0c/98/ibm-quantum-system-one.component.card-l.ts=1707414046914.png/content/adobe-cms/us/en/homepage/jcr:content/root/table_of_contents/block_card_container/container/card/image\"></dds-image-item>\n",
       "    <dds-image-item media=\"(min-width: 672px) and (min-resolution: 192dpi)\" srcset=\"/content/dam/connectedassets-adobe-cms/worldwide-content/other/ul/cms/0c/98/ibm-quantum-system-one.component.card-m-retina.ts=1707414046914.png/content/adobe-cms/us/en/homepage/jcr:content/root/table_of_contents/block_card_container/container/card/image\"></dds-image-item>\n",
       "    <dds-image-item media=\"(min-width: 672px)\" srcset=\"/content/dam/connectedassets-adobe-cms/worldwide-content/other/ul/cms/0c/98/ibm-quantum-system-one.component.card-m.ts=1707414046914.png/content/adobe-cms/us/en/homepage/jcr:content/root/table_of_contents/block_card_container/container/card/image\"></dds-image-item>\n",
       "    <dds-image-item media=\"(min-width: 481px) and (min-resolution: 192dpi)\" srcset=\"/content/dam/connectedassets-adobe-cms/worldwide-content/other/ul/cms/0c/98/ibm-quantum-system-one.component.card-s-retina.ts=1707414046914.png/content/adobe-cms/us/en/homepage/jcr:content/root/table_of_contents/block_card_container/container/card/image\"></dds-image-item>\n",
       "    <dds-image-item media=\"(min-width: 481px)\" srcset=\"/content/dam/connectedassets-adobe-cms/worldwide-content/other/ul/cms/0c/98/ibm-quantum-system-one.component.card-s.ts=1707414046914.png/content/adobe-cms/us/en/homepage/jcr:content/root/table_of_contents/block_card_container/container/card/image\"></dds-image-item>\n",
       "    <dds-image-item media=\"(max-width: 480px) and (min-resolution: 192dpi)\" srcset=\"/content/dam/connectedassets-adobe-cms/worldwide-content/other/ul/cms/0c/98/ibm-quantum-system-one.component.card-xs-retina.ts=1707414046914.png/content/adobe-cms/us/en/homepage/jcr:content/root/table_of_contents/block_card_container/container/card/image\"></dds-image-item>\n",
       "    <dds-image-item media=\"(max-width: 480px)\" srcset=\"/content/dam/connectedassets-adobe-cms/worldwide-content/other/ul/cms/0c/98/ibm-quantum-system-one.component.card-xs.ts=1707414046914.png/content/adobe-cms/us/en/homepage/jcr:content/root/table_of_contents/block_card_container/container/card/image\"></dds-image-item>\n",
       "\n",
       "                    \n",
       "                \n",
       "            \n",
       "        </dds-image>\n",
       "    \n",
       "\n",
       "    \n",
       "\n",
       "\n",
       "\n",
       "            \n",
       "        \n",
       "        <dds-card-eyebrow aria-hidden=\"true\" class=\"bx--card__eyebrow\" slot=\"eyebrow\">\n",
       "            IBM Research\n",
       "        </dds-card-eyebrow>\n",
       "        <dds-card-heading aria-level=\"3\" class=\"bx--card__heading\" role=\"heading\" slot=\"heading\">\n",
       "            See the latest technology developed by IBM scientists and design thinkers\n",
       "        </dds-card-heading>\n",
       "        \n",
       "        <dds-card-cta-footer aria-hidden=\"true\" class=\"bx--card__footer-icon-size\" cta-type=\"local\" href=\"https://research.ibm.com/?lnk=hpUSAp\" icon-placement=\"right\" slot=\"footer\" target=\"_self\">\n",
       "            \n",
       "            \n",
       "    \n",
       "    \n",
       "    \n",
       "    \n",
       "\n",
       "        </dds-card-cta-footer>\n",
       "    </dds-card-group-item>\n",
       "    \n",
       "    \n",
       "\n",
       "\n",
       "\n",
       "\n",
       "    \n",
       "    \n",
       "    \n",
       "    \n",
       "    \n",
       "    \n",
       "    \n",
       "    \n",
       "    \n",
       "    <dds-card-group-item cta-type=\"external\" href=\"https://skillsbuild.org/?lnk=hpusap\" pictogram-placement=\"top\" target=\"_blank\">\n",
       "\n",
       "        \n",
       "            \n",
       "                \n",
       "\n",
       "\n",
       "\n",
       "\n",
       "    \n",
       "    \n",
       "        \n",
       "        \n",
       "        \n",
       "        \n",
       "        <dds-image alt=\"Portrait of tech worker in front of giant server\" default-src=\"/content/dam/connectedassets-adobe-cms/worldwide-content/stock-assets/getty/image/photography/fe/64/universitychile0013846.component.card-xl.ts=1707414047045.jpg/content/adobe-cms/us/en/homepage/jcr:content/root/table_of_contents/block_card_container/container/card_1937905391/image\" id=\"image--1111148527\" slot=\"image\">\n",
       "            \n",
       "            \n",
       "                \n",
       "                    \n",
       "    <dds-image-item media=\"(min-width: 1312px) and (min-resolution: 192dpi)\" srcset=\"/content/dam/connectedassets-adobe-cms/worldwide-content/stock-assets/getty/image/photography/fe/64/universitychile0013846.component.card-xl-retina.ts=1707414047045.jpg/content/adobe-cms/us/en/homepage/jcr:content/root/table_of_contents/block_card_container/container/card_1937905391/image\"></dds-image-item>\n",
       "    <dds-image-item media=\"(min-width: 1312px)\" srcset=\"/content/dam/connectedassets-adobe-cms/worldwide-content/stock-assets/getty/image/photography/fe/64/universitychile0013846.component.card-xl.ts=1707414047045.jpg/content/adobe-cms/us/en/homepage/jcr:content/root/table_of_contents/block_card_container/container/card_1937905391/image\"></dds-image-item>\n",
       "    <dds-image-item media=\"(min-width: 1056px) and (min-resolution: 192dpi)\" srcset=\"/content/dam/connectedassets-adobe-cms/worldwide-content/stock-assets/getty/image/photography/fe/64/universitychile0013846.component.card-l-retina.ts=1707414047045.jpg/content/adobe-cms/us/en/homepage/jcr:content/root/table_of_contents/block_card_container/container/card_1937905391/image\"></dds-image-item>\n",
       "    <dds-image-item media=\"(min-width: 1056px)\" srcset=\"/content/dam/connectedassets-adobe-cms/worldwide-content/stock-assets/getty/image/photography/fe/64/universitychile0013846.component.card-l.ts=1707414047045.jpg/content/adobe-cms/us/en/homepage/jcr:content/root/table_of_contents/block_card_container/container/card_1937905391/image\"></dds-image-item>\n",
       "    <dds-image-item media=\"(min-width: 672px) and (min-resolution: 192dpi)\" srcset=\"/content/dam/connectedassets-adobe-cms/worldwide-content/stock-assets/getty/image/photography/fe/64/universitychile0013846.component.card-m-retina.ts=1707414047045.jpg/content/adobe-cms/us/en/homepage/jcr:content/root/table_of_contents/block_card_container/container/card_1937905391/image\"></dds-image-item>\n",
       "    <dds-image-item media=\"(min-width: 672px)\" srcset=\"/content/dam/connectedassets-adobe-cms/worldwide-content/stock-assets/getty/image/photography/fe/64/universitychile0013846.component.card-m.ts=1707414047045.jpg/content/adobe-cms/us/en/homepage/jcr:content/root/table_of_contents/block_card_container/container/card_1937905391/image\"></dds-image-item>\n",
       "    <dds-image-item media=\"(min-width: 481px) and (min-resolution: 192dpi)\" srcset=\"/content/dam/connectedassets-adobe-cms/worldwide-content/stock-assets/getty/image/photography/fe/64/universitychile0013846.component.card-s-retina.ts=1707414047045.jpg/content/adobe-cms/us/en/homepage/jcr:content/root/table_of_contents/block_card_container/container/card_1937905391/image\"></dds-image-item>\n",
       "    <dds-image-item media=\"(min-width: 481px)\" srcset=\"/content/dam/connectedassets-adobe-cms/worldwide-content/stock-assets/getty/image/photography/fe/64/universitychile0013846.component.card-s.ts=1707414047045.jpg/content/adobe-cms/us/en/homepage/jcr:content/root/table_of_contents/block_card_container/container/card_1937905391/image\"></dds-image-item>\n",
       "    <dds-image-item media=\"(max-width: 480px) and (min-resolution: 192dpi)\" srcset=\"/content/dam/connectedassets-adobe-cms/worldwide-content/stock-assets/getty/image/photography/fe/64/universitychile0013846.component.card-xs-retina.ts=1707414047045.jpg/content/adobe-cms/us/en/homepage/jcr:content/root/table_of_contents/block_card_container/container/card_1937905391/image\"></dds-image-item>\n",
       "    <dds-image-item media=\"(max-width: 480px)\" srcset=\"/content/dam/connectedassets-adobe-cms/worldwide-content/stock-assets/getty/image/photography/fe/64/universitychile0013846.component.card-xs.ts=1707414047045.jpg/content/adobe-cms/us/en/homepage/jcr:content/root/table_of_contents/block_card_container/container/card_1937905391/image\"></dds-image-item>\n",
       "\n",
       "                    \n",
       "                \n",
       "            \n",
       "        </dds-image>\n",
       "    \n",
       "\n",
       "    \n",
       "\n",
       "\n",
       "\n",
       "            \n",
       "        \n",
       "        <dds-card-eyebrow aria-hidden=\"true\" class=\"bx--card__eyebrow\" slot=\"eyebrow\">\n",
       "            Training and skills\n",
       "        </dds-card-eyebrow>\n",
       "        <dds-card-heading aria-level=\"3\" class=\"bx--card__heading\" role=\"heading\" slot=\"heading\">\n",
       "            Power your future in tech with job skills, courses and credentials—for free\n",
       "        </dds-card-heading>\n",
       "        \n",
       "        <dds-card-cta-footer aria-hidden=\"true\" class=\"bx--card__footer-icon-size\" cta-type=\"external\" href=\"https://skillsbuild.org/?lnk=hpusap\" icon-placement=\"right\" slot=\"footer\" target=\"_blank\">\n",
       "            \n",
       "            \n",
       "    \n",
       "    \n",
       "    \n",
       "    \n",
       "\n",
       "        </dds-card-cta-footer>\n",
       "    </dds-card-group-item>\n",
       "    \n",
       "    \n",
       "\n",
       "\n",
       "\n",
       "\n",
       "    \n",
       "    \n",
       "    \n",
       "    \n",
       "    \n",
       "    \n",
       "    \n",
       "    \n",
       "    \n",
       "    <dds-card-group-item cta-type=\"video\" href=\"1_qwhqg8r8\" pictogram-placement=\"top\" target=\"_self\" video-name=\"Watch IBM’s Darío Gil explain what AI will mean for business and society\">\n",
       "\n",
       "        \n",
       "            \n",
       "        \n",
       "        <dds-card-eyebrow aria-hidden=\"true\" class=\"bx--card__eyebrow\" slot=\"eyebrow\">\n",
       "            Preview AI Academy\n",
       "        </dds-card-eyebrow>\n",
       "        \n",
       "        \n",
       "        <dds-card-cta-footer aria-hidden=\"true\" class=\"bx--card__footer-icon-size\" cta-type=\"video\" href=\"1_qwhqg8r8\" icon-placement=\"right\" slot=\"footer\">\n",
       "            \n",
       "            \n",
       "    \n",
       "    \n",
       "    \n",
       "    \n",
       "\n",
       "        </dds-card-cta-footer>\n",
       "    </dds-card-group-item>\n",
       "    \n",
       "    \n",
       "\n",
       "\n",
       "\n",
       "\n",
       "\n",
       "\n",
       "\n",
       "                </dds-card-group>\n",
       "            \n",
       "            \n",
       "    \n",
       "    \n",
       "    \n",
       "    \n",
       "\n",
       "\n",
       "\n",
       "\n",
       "\n",
       "            \n",
       "        </dds-content-block-cards>\n",
       "    </dds-video-cta-container>\n",
       "    \n",
       "\n",
       "</div>\n",
       "\n",
       "        \n",
       "    </div>\n",
       "\n",
       "</dds-table-of-contents>\n",
       "</div>\n",
       "<div class=\"footer\">\n",
       "\n",
       "\n",
       "\n",
       "\n",
       "    <dds-footer-container class=\"cmp-footer\" data-autoid=\"dds--footer\" data-children-count=\"0\" data-cmp-is=\"footer\" size=\"tall\"></dds-footer-container>\n",
       "\n",
       "\n",
       "</div>\n",
       "\n",
       "        \n",
       "    </div>\n",
       "\n",
       "</div>\n",
       "\n",
       "\n",
       "<dds-lightbox-video-player-container></dds-lightbox-video-player-container>\n",
       "    \n",
       "    \n",
       "    \n",
       "<script src=\"/etc.clientlibs/adobe-cms/clientlibs/clientlib-idlBundle.min.ACSHASH8e0a5ada9d90d4e69372aa22f35e468f.js\"></script>\n",
       "\n",
       "\n",
       "\n",
       "    \n",
       "\n",
       "    <script src=\"/etc.clientlibs/adobe-cms/clientlibs/clientlib-target-antiflicker.min.ACSHASH36a1efb28e947b5873f4a28c2cf9d5eb.js\"></script>\n",
       "<script src=\"/etc.clientlibs/adobe-cms/clientlibs/clientlib-idlWebComponents.min.ACSHASHaa58d161067036934162c981c49c78ef.js\"></script>\n",
       "<script src=\"/etc.clientlibs/adobe-cms/clientlibs/clientlib-idlStyles.min.ACSHASH0c4f9840b697954a53613c359277701b.js\"></script>\n",
       "\n",
       "\n",
       "\n",
       "<script async=\"\" defer=\"\" src=\"https://www.ibm.com/common/digitaladvisor/cm-app/latest/cm-app.min.js\"></script>\n",
       "\n",
       "\n",
       "    \n",
       "\n",
       "    \n",
       "\n",
       "    \n",
       "\n",
       "    \n",
       "\n",
       "\n",
       "<script src=\"/AZbGNE633fQqMvZ3emjG/1t5pS88wp6V5/PCRj/aTph/XilsIwEB\" type=\"text/javascript\"></script><link href=\"/_sec/cp_challenge/sec-4-2.css\" rel=\"stylesheet\" type=\"text/css\"/>\n",
       "                                        <script async=\"\" defer=\"\" src=\"/_sec/cp_challenge/sec-cpt-4-2.js\"></script>\n",
       "                                        <div id=\"sec-overlay\" style=\"display:none;\">\n",
       "                                        <div id=\"sec-container\">\n",
       "                                        </div>\n",
       "                                      </div>\n",
       "</body></html>"
      ]
     },
     "execution_count": 73,
     "metadata": {},
     "output_type": "execute_result"
    }
   ],
   "source": [
    "soup"
   ]
  },
  {
   "cell_type": "markdown",
   "metadata": {},
   "source": [
    "Scrape all links\n"
   ]
  },
  {
   "cell_type": "code",
   "execution_count": 71,
   "metadata": {
    "tags": []
   },
   "outputs": [
    {
     "name": "stdout",
     "output_type": "stream",
     "text": [
      "https://www.ibm.com/cloud?lnk=hpUSbt1\n"
     ]
    }
   ],
   "source": [
    "for link in soup.find_all('a', href=True): # in html anchor/link is represented by the tag <a>\n",
    "\n",
    "    print(link.get('href'))\n"
   ]
  },
  {
   "cell_type": "markdown",
   "metadata": {},
   "source": [
    "### Scrape all images Tags\n"
   ]
  },
  {
   "cell_type": "code",
   "execution_count": 72,
   "metadata": {
    "tags": []
   },
   "outputs": [],
   "source": [
    "for link in soup.find_all('img'): # in html image is represented by the tag <img>\n",
    "    print(link)\n",
    "    print(link.get('src'))"
   ]
  },
  {
   "cell_type": "markdown",
   "metadata": {},
   "source": [
    "### Scrape data from HTML tables\n"
   ]
  },
  {
   "cell_type": "code",
   "execution_count": 83,
   "metadata": {
    "tags": []
   },
   "outputs": [],
   "source": [
    "# The below url contains an html table with data about colors and color codes.\n",
    "url = \"https://cf-courses-data.s3.us.cloud-object-storage.appdomain.cloud/IBM-DA0321EN-SkillsNetwork/labs/datasets/HTMLColorCodes.html\""
   ]
  },
  {
   "cell_type": "markdown",
   "metadata": {},
   "source": [
    "Before proceeding to scrape a web site, you need to examine the contents and the way data is organized on the website. Open the above url in your browser and check how many rows and columns there are in the color table.\n"
   ]
  },
  {
   "cell_type": "code",
   "execution_count": 75,
   "metadata": {
    "tags": []
   },
   "outputs": [],
   "source": [
    "# get the contents of the webpage in text format and store in a variable called data\n",
    "data  = requests.get(url).text"
   ]
  },
  {
   "cell_type": "code",
   "execution_count": 76,
   "metadata": {
    "tags": []
   },
   "outputs": [],
   "source": [
    "soup = BeautifulSoup(data,\"html5lib\")"
   ]
  },
  {
   "cell_type": "code",
   "execution_count": 77,
   "metadata": {
    "tags": []
   },
   "outputs": [],
   "source": [
    "# find an html table in the web page\n",
    "table = soup.find('table') # in html table is represented by the tag <table>"
   ]
  },
  {
   "cell_type": "code",
   "execution_count": 80,
   "metadata": {
    "collapsed": true,
    "jupyter": {
     "outputs_hidden": true
    },
    "tags": []
   },
   "outputs": [
    {
     "data": {
      "text/plain": [
       "<table border=\"1\" class=\"main-table\">\n",
       "   <tbody><tr>\n",
       "      <td>Number </td>\n",
       "      <td>Color</td>\n",
       "      <td>Color Name</td>\n",
       "      <td>Hex Code<br/>#RRGGBB</td>\n",
       "      <td>Decimal Code<br/>(R,G,B)</td>\n",
       "   </tr>\n",
       "   <tr>\n",
       "      <td>1</td>\n",
       "      <td style=\"background:lightsalmon;\"> </td>\n",
       "      <td>lightsalmon</td>\n",
       "      <td>#FFA07A</td>\n",
       "      <td>rgb(255,160,122)</td>\n",
       "   </tr>\n",
       "   <tr>\n",
       "      <td>2</td>\n",
       "      <td style=\"background:salmon;\"> </td>\n",
       "      <td>salmon</td>\n",
       "      <td>#FA8072</td>\n",
       "      <td>rgb(250,128,114)</td>\n",
       "   </tr>\n",
       "   <tr>\n",
       "      <td>3</td>\n",
       "      <td style=\"background:darksalmon;\"> </td>\n",
       "      <td>darksalmon</td>\n",
       "      <td>#E9967A</td>\n",
       "      <td>rgb(233,150,122)</td>\n",
       "   </tr>\n",
       "   <tr>\n",
       "      <td>4</td>\n",
       "      <td style=\"background:lightcoral;\"> </td>\n",
       "      <td>lightcoral</td>\n",
       "      <td>#F08080</td>\n",
       "      <td>rgb(240,128,128)</td>\n",
       "   </tr>\n",
       "   <tr>\n",
       "      <td>5</td>\n",
       "      <td style=\"background:coral;\"> </td>\n",
       "      <td>coral</td>\n",
       "      <td>#FF7F50</td>\n",
       "      <td>rgb(255,127,80)</td>\n",
       "   </tr>\n",
       "   <tr>\n",
       "      <td>6</td>\n",
       "      <td style=\"background:tomato;\"> </td>\n",
       "      <td>tomato</td>\n",
       "      <td>#FF6347</td>\n",
       "      <td>rgb(255,99,71)</td>\n",
       "   </tr>\n",
       "   <tr>\n",
       "      <td>7</td>\n",
       "      <td style=\"background:orangered;\"> </td>\n",
       "      <td>orangered</td>\n",
       "      <td>#FF4500</td>\n",
       "      <td>rgb(255,69,0)</td>\n",
       "   </tr>\n",
       "   <tr>\n",
       "      <td>8</td>\n",
       "      <td style=\"background:gold;\"> </td>\n",
       "      <td>gold</td>\n",
       "      <td>#FFD700</td>\n",
       "      <td>rgb(255,215,0)</td>\n",
       "   </tr>\n",
       "   <tr>\n",
       "      <td>9</td>\n",
       "      <td style=\"background:orange;\"> </td>\n",
       "      <td>orange</td>\n",
       "      <td>#FFA500</td>\n",
       "      <td>rgb(255,165,0)</td>\n",
       "   </tr>\n",
       "   <tr>\n",
       "      <td>10</td>\n",
       "      <td style=\"background:darkorange;\"> </td>\n",
       "      <td>darkorange</td>\n",
       "      <td>#FF8C00</td>\n",
       "      <td>rgb(255,140,0)</td>\n",
       "   </tr>\n",
       "   <tr>\n",
       "      <td>11</td>\n",
       "      <td style=\"background:lightyellow;\"> </td>\n",
       "      <td>lightyellow</td>\n",
       "      <td>#FFFFE0</td>\n",
       "      <td>rgb(255,255,224)</td>\n",
       "   </tr>\n",
       "   <tr>\n",
       "      <td>12</td>\n",
       "      <td style=\"background:lemonchiffon;\"> </td>\n",
       "      <td>lemonchiffon</td>\n",
       "      <td>#FFFACD</td>\n",
       "      <td>rgb(255,250,205)</td>\n",
       "   </tr>\n",
       "   <tr>\n",
       "      <td>13</td>\n",
       "      <td style=\"background:papayawhip;\"> </td>\n",
       "      <td>papayawhip</td>\n",
       "      <td>#FFEFD5</td>\n",
       "      <td>rgb(255,239,213)</td>\n",
       "   </tr>\n",
       "   <tr>\n",
       "      <td>14</td>\n",
       "      <td style=\"background:moccasin;\"> </td>\n",
       "      <td>moccasin</td>\n",
       "      <td>#FFE4B5</td>\n",
       "      <td>rgb(255,228,181)</td>\n",
       "   </tr>\n",
       "   <tr>\n",
       "      <td>15</td>\n",
       "      <td style=\"background:peachpuff;\"> </td>\n",
       "      <td>peachpuff</td>\n",
       "      <td>#FFDAB9</td>\n",
       "      <td>rgb(255,218,185)</td>\n",
       "   </tr>\n",
       "   <tr>\n",
       "      <td>16</td>\n",
       "      <td style=\"background:palegoldenrod;\"> </td>\n",
       "      <td>palegoldenrod</td>\n",
       "      <td>#EEE8AA</td>\n",
       "      <td>rgb(238,232,170)</td>\n",
       "   </tr>\n",
       "   <tr>\n",
       "      <td>17</td>\n",
       "      <td style=\"background:khaki;\"> </td>\n",
       "      <td>khaki</td>\n",
       "      <td>#F0E68C</td>\n",
       "      <td>rgb(240,230,140)</td>\n",
       "   </tr>\n",
       "   <tr>\n",
       "      <td>18</td>\n",
       "      <td style=\"background:darkkhaki;\"> </td>\n",
       "      <td>darkkhaki</td>\n",
       "      <td>#BDB76B</td>\n",
       "      <td>rgb(189,183,107)</td>\n",
       "   </tr>\n",
       "   <tr>\n",
       "      <td>19</td>\n",
       "      <td style=\"background:yellow;\"> </td>\n",
       "      <td>yellow</td>\n",
       "      <td>#FFFF00</td>\n",
       "      <td>rgb(255,255,0)</td>\n",
       "   </tr>\n",
       "   <tr>\n",
       "      <td>20</td>\n",
       "      <td style=\"background:lawngreen;\"> </td>\n",
       "      <td>lawngreen</td>\n",
       "      <td>#7CFC00</td>\n",
       "      <td>rgb(124,252,0)</td>\n",
       "   </tr>\n",
       "   <tr>\n",
       "      <td>21</td>\n",
       "      <td style=\"background:chartreuse;\"> </td>\n",
       "      <td>chartreuse</td>\n",
       "      <td>#7FFF00</td>\n",
       "      <td>rgb(127,255,0)</td>\n",
       "   </tr>\n",
       "   <tr>\n",
       "      <td>22</td>\n",
       "      <td style=\"background:limegreen;\"> </td>\n",
       "      <td>limegreen</td>\n",
       "      <td>#32CD32</td>\n",
       "      <td>rgb(50,205,50)</td>\n",
       "   </tr>\n",
       "   <tr>\n",
       "      <td>23</td>\n",
       "      <td style=\"background:lime;\"> </td>\n",
       "      <td>lime</td>\n",
       "      <td>#00FF00</td>\n",
       "      <td>rgb(0.255.0)</td>\n",
       "   </tr>\n",
       "   <tr>\n",
       "      <td>24</td>\n",
       "      <td style=\"background:forestgreen;\"> </td>\n",
       "      <td>forestgreen</td>\n",
       "      <td>#228B22</td>\n",
       "      <td>rgb(34,139,34)</td>\n",
       "   </tr>\n",
       "   <tr>\n",
       "      <td>25</td>\n",
       "      <td style=\"background:green;\"> </td>\n",
       "      <td>green</td>\n",
       "      <td>#008000</td>\n",
       "      <td>rgb(0,128,0)</td>\n",
       "   </tr>\n",
       "   <tr>\n",
       "      <td>26</td>\n",
       "      <td style=\"background:powderblue;\"> </td>\n",
       "      <td>powderblue</td>\n",
       "      <td>#B0E0E6</td>\n",
       "      <td>rgb(176,224,230)</td>\n",
       "   </tr>\n",
       "   <tr>\n",
       "      <td>27</td>\n",
       "      <td style=\"background:lightblue;\"> </td>\n",
       "      <td>lightblue</td>\n",
       "      <td>#ADD8E6</td>\n",
       "      <td>rgb(173,216,230)</td>\n",
       "   </tr>\n",
       "   <tr>\n",
       "      <td>28</td>\n",
       "      <td style=\"background:lightskyblue;\"> </td>\n",
       "      <td>lightskyblue</td>\n",
       "      <td>#87CEFA</td>\n",
       "      <td>rgb(135,206,250)</td>\n",
       "   </tr>\n",
       "   <tr>\n",
       "      <td>29</td>\n",
       "      <td style=\"background:skyblue;\"> </td>\n",
       "      <td>skyblue</td>\n",
       "      <td>#87CEEB</td>\n",
       "      <td>rgb(135,206,235)</td>\n",
       "   </tr>\n",
       "   <tr>\n",
       "      <td>30</td>\n",
       "      <td style=\"background:deepskyblue;\"> </td>\n",
       "      <td>deepskyblue</td>\n",
       "      <td>#00BFFF</td>\n",
       "      <td>rgb(0,191,255)</td>\n",
       "   </tr>\n",
       "   <tr>\n",
       "      <td>31</td>\n",
       "      <td style=\"background:lightsteelblue;\"> </td>\n",
       "      <td>lightsteelblue</td>\n",
       "      <td>#B0C4DE</td>\n",
       "      <td>rgb(176,196,222)</td>\n",
       "   </tr>\n",
       "   <tr>\n",
       "      <td>32</td>\n",
       "      <td style=\"background:dodgerblue;\"> </td>\n",
       "      <td>dodgerblue</td>\n",
       "      <td>#1E90FF</td>\n",
       "      <td>rgb(30,144,255)</td>\n",
       "   </tr>\n",
       "</tbody></table>"
      ]
     },
     "execution_count": 80,
     "metadata": {},
     "output_type": "execute_result"
    }
   ],
   "source": [
    "table"
   ]
  },
  {
   "cell_type": "code",
   "execution_count": 81,
   "metadata": {
    "tags": []
   },
   "outputs": [
    {
     "name": "stdout",
     "output_type": "stream",
     "text": [
      "Color Name--->Hex Code#RRGGBB\n",
      "lightsalmon--->#FFA07A\n",
      "salmon--->#FA8072\n",
      "darksalmon--->#E9967A\n",
      "lightcoral--->#F08080\n",
      "coral--->#FF7F50\n",
      "tomato--->#FF6347\n",
      "orangered--->#FF4500\n",
      "gold--->#FFD700\n",
      "orange--->#FFA500\n",
      "darkorange--->#FF8C00\n",
      "lightyellow--->#FFFFE0\n",
      "lemonchiffon--->#FFFACD\n",
      "papayawhip--->#FFEFD5\n",
      "moccasin--->#FFE4B5\n",
      "peachpuff--->#FFDAB9\n",
      "palegoldenrod--->#EEE8AA\n",
      "khaki--->#F0E68C\n",
      "darkkhaki--->#BDB76B\n",
      "yellow--->#FFFF00\n",
      "lawngreen--->#7CFC00\n",
      "chartreuse--->#7FFF00\n",
      "limegreen--->#32CD32\n",
      "lime--->#00FF00\n",
      "forestgreen--->#228B22\n",
      "green--->#008000\n",
      "powderblue--->#B0E0E6\n",
      "lightblue--->#ADD8E6\n",
      "lightskyblue--->#87CEFA\n",
      "skyblue--->#87CEEB\n",
      "deepskyblue--->#00BFFF\n",
      "lightsteelblue--->#B0C4DE\n",
      "dodgerblue--->#1E90FF\n"
     ]
    }
   ],
   "source": [
    "# Get all rows from the table\n",
    "for row in table.find_all('tr'): # in html table row is represented by the tag <tr>\n",
    "    # Get all columns in each row.\n",
    "    cols = row.find_all('td') # in html a column is represented by the tag <td>\n",
    "    color_name = cols[2].string # store the value in column 3 as color_name\n",
    "    color_code = cols[3].text # store the value in column 4 as color_code\n",
    "    print(\"{}--->{}\".format(color_name, color_code))"
   ]
  },
  {
   "cell_type": "markdown",
   "metadata": {},
   "source": [
    "## Scraping tables from a Web page using Pandas\n"
   ]
  },
  {
   "cell_type": "markdown",
   "metadata": {},
   "source": [
    "Particularly for extracting tabular data from a web page, you may also use the `read_html()` method of the Pandas library. \n"
   ]
  },
  {
   "cell_type": "markdown",
   "metadata": {},
   "source": [
    "You may extract all the tables from the given webpage simply by using the following commands.\n"
   ]
  },
  {
   "cell_type": "code",
   "execution_count": 85,
   "metadata": {
    "collapsed": true,
    "jupyter": {
     "outputs_hidden": true
    },
    "tags": []
   },
   "outputs": [
    {
     "data": {
      "text/plain": [
       "[         0      1               2                3                    4\n",
       " 0   Number  Color      Color Name  Hex Code#RRGGBB  Decimal Code(R,G,B)\n",
       " 1        1    NaN     lightsalmon          #FFA07A     rgb(255,160,122)\n",
       " 2        2    NaN          salmon          #FA8072     rgb(250,128,114)\n",
       " 3        3    NaN      darksalmon          #E9967A     rgb(233,150,122)\n",
       " 4        4    NaN      lightcoral          #F08080     rgb(240,128,128)\n",
       " 5        5    NaN           coral          #FF7F50      rgb(255,127,80)\n",
       " 6        6    NaN          tomato          #FF6347       rgb(255,99,71)\n",
       " 7        7    NaN       orangered          #FF4500        rgb(255,69,0)\n",
       " 8        8    NaN            gold          #FFD700       rgb(255,215,0)\n",
       " 9        9    NaN          orange          #FFA500       rgb(255,165,0)\n",
       " 10      10    NaN      darkorange          #FF8C00       rgb(255,140,0)\n",
       " 11      11    NaN     lightyellow          #FFFFE0     rgb(255,255,224)\n",
       " 12      12    NaN    lemonchiffon          #FFFACD     rgb(255,250,205)\n",
       " 13      13    NaN      papayawhip          #FFEFD5     rgb(255,239,213)\n",
       " 14      14    NaN        moccasin          #FFE4B5     rgb(255,228,181)\n",
       " 15      15    NaN       peachpuff          #FFDAB9     rgb(255,218,185)\n",
       " 16      16    NaN   palegoldenrod          #EEE8AA     rgb(238,232,170)\n",
       " 17      17    NaN           khaki          #F0E68C     rgb(240,230,140)\n",
       " 18      18    NaN       darkkhaki          #BDB76B     rgb(189,183,107)\n",
       " 19      19    NaN          yellow          #FFFF00       rgb(255,255,0)\n",
       " 20      20    NaN       lawngreen          #7CFC00       rgb(124,252,0)\n",
       " 21      21    NaN      chartreuse          #7FFF00       rgb(127,255,0)\n",
       " 22      22    NaN       limegreen          #32CD32       rgb(50,205,50)\n",
       " 23      23    NaN            lime          #00FF00         rgb(0.255.0)\n",
       " 24      24    NaN     forestgreen          #228B22       rgb(34,139,34)\n",
       " 25      25    NaN           green          #008000         rgb(0,128,0)\n",
       " 26      26    NaN      powderblue          #B0E0E6     rgb(176,224,230)\n",
       " 27      27    NaN       lightblue          #ADD8E6     rgb(173,216,230)\n",
       " 28      28    NaN    lightskyblue          #87CEFA     rgb(135,206,250)\n",
       " 29      29    NaN         skyblue          #87CEEB     rgb(135,206,235)\n",
       " 30      30    NaN     deepskyblue          #00BFFF       rgb(0,191,255)\n",
       " 31      31    NaN  lightsteelblue          #B0C4DE     rgb(176,196,222)\n",
       " 32      32    NaN      dodgerblue          #1E90FF      rgb(30,144,255)]"
      ]
     },
     "execution_count": 85,
     "metadata": {},
     "output_type": "execute_result"
    }
   ],
   "source": [
    "import pandas as pd\n",
    "\n",
    "tables = pd.read_html(url) # same url as before\n",
    "tables"
   ]
  },
  {
   "cell_type": "markdown",
   "metadata": {},
   "source": [
    "`tables` is now a list of dataframes representing the tables from the web page, in the sequence of their appearance. In the current  URL, there is only a single table, so the same can be accessed as shown below.\n"
   ]
  },
  {
   "cell_type": "code",
   "execution_count": 86,
   "metadata": {
    "tags": []
   },
   "outputs": [
    {
     "data": {
      "text/html": [
       "<div>\n",
       "<style scoped>\n",
       "    .dataframe tbody tr th:only-of-type {\n",
       "        vertical-align: middle;\n",
       "    }\n",
       "\n",
       "    .dataframe tbody tr th {\n",
       "        vertical-align: top;\n",
       "    }\n",
       "\n",
       "    .dataframe thead th {\n",
       "        text-align: right;\n",
       "    }\n",
       "</style>\n",
       "<table border=\"1\" class=\"dataframe\">\n",
       "  <thead>\n",
       "    <tr style=\"text-align: right;\">\n",
       "      <th></th>\n",
       "      <th>0</th>\n",
       "      <th>1</th>\n",
       "      <th>2</th>\n",
       "      <th>3</th>\n",
       "      <th>4</th>\n",
       "    </tr>\n",
       "  </thead>\n",
       "  <tbody>\n",
       "    <tr>\n",
       "      <th>0</th>\n",
       "      <td>Number</td>\n",
       "      <td>Color</td>\n",
       "      <td>Color Name</td>\n",
       "      <td>Hex Code#RRGGBB</td>\n",
       "      <td>Decimal Code(R,G,B)</td>\n",
       "    </tr>\n",
       "    <tr>\n",
       "      <th>1</th>\n",
       "      <td>1</td>\n",
       "      <td>NaN</td>\n",
       "      <td>lightsalmon</td>\n",
       "      <td>#FFA07A</td>\n",
       "      <td>rgb(255,160,122)</td>\n",
       "    </tr>\n",
       "    <tr>\n",
       "      <th>2</th>\n",
       "      <td>2</td>\n",
       "      <td>NaN</td>\n",
       "      <td>salmon</td>\n",
       "      <td>#FA8072</td>\n",
       "      <td>rgb(250,128,114)</td>\n",
       "    </tr>\n",
       "    <tr>\n",
       "      <th>3</th>\n",
       "      <td>3</td>\n",
       "      <td>NaN</td>\n",
       "      <td>darksalmon</td>\n",
       "      <td>#E9967A</td>\n",
       "      <td>rgb(233,150,122)</td>\n",
       "    </tr>\n",
       "    <tr>\n",
       "      <th>4</th>\n",
       "      <td>4</td>\n",
       "      <td>NaN</td>\n",
       "      <td>lightcoral</td>\n",
       "      <td>#F08080</td>\n",
       "      <td>rgb(240,128,128)</td>\n",
       "    </tr>\n",
       "    <tr>\n",
       "      <th>5</th>\n",
       "      <td>5</td>\n",
       "      <td>NaN</td>\n",
       "      <td>coral</td>\n",
       "      <td>#FF7F50</td>\n",
       "      <td>rgb(255,127,80)</td>\n",
       "    </tr>\n",
       "    <tr>\n",
       "      <th>6</th>\n",
       "      <td>6</td>\n",
       "      <td>NaN</td>\n",
       "      <td>tomato</td>\n",
       "      <td>#FF6347</td>\n",
       "      <td>rgb(255,99,71)</td>\n",
       "    </tr>\n",
       "    <tr>\n",
       "      <th>7</th>\n",
       "      <td>7</td>\n",
       "      <td>NaN</td>\n",
       "      <td>orangered</td>\n",
       "      <td>#FF4500</td>\n",
       "      <td>rgb(255,69,0)</td>\n",
       "    </tr>\n",
       "    <tr>\n",
       "      <th>8</th>\n",
       "      <td>8</td>\n",
       "      <td>NaN</td>\n",
       "      <td>gold</td>\n",
       "      <td>#FFD700</td>\n",
       "      <td>rgb(255,215,0)</td>\n",
       "    </tr>\n",
       "    <tr>\n",
       "      <th>9</th>\n",
       "      <td>9</td>\n",
       "      <td>NaN</td>\n",
       "      <td>orange</td>\n",
       "      <td>#FFA500</td>\n",
       "      <td>rgb(255,165,0)</td>\n",
       "    </tr>\n",
       "    <tr>\n",
       "      <th>10</th>\n",
       "      <td>10</td>\n",
       "      <td>NaN</td>\n",
       "      <td>darkorange</td>\n",
       "      <td>#FF8C00</td>\n",
       "      <td>rgb(255,140,0)</td>\n",
       "    </tr>\n",
       "    <tr>\n",
       "      <th>11</th>\n",
       "      <td>11</td>\n",
       "      <td>NaN</td>\n",
       "      <td>lightyellow</td>\n",
       "      <td>#FFFFE0</td>\n",
       "      <td>rgb(255,255,224)</td>\n",
       "    </tr>\n",
       "    <tr>\n",
       "      <th>12</th>\n",
       "      <td>12</td>\n",
       "      <td>NaN</td>\n",
       "      <td>lemonchiffon</td>\n",
       "      <td>#FFFACD</td>\n",
       "      <td>rgb(255,250,205)</td>\n",
       "    </tr>\n",
       "    <tr>\n",
       "      <th>13</th>\n",
       "      <td>13</td>\n",
       "      <td>NaN</td>\n",
       "      <td>papayawhip</td>\n",
       "      <td>#FFEFD5</td>\n",
       "      <td>rgb(255,239,213)</td>\n",
       "    </tr>\n",
       "    <tr>\n",
       "      <th>14</th>\n",
       "      <td>14</td>\n",
       "      <td>NaN</td>\n",
       "      <td>moccasin</td>\n",
       "      <td>#FFE4B5</td>\n",
       "      <td>rgb(255,228,181)</td>\n",
       "    </tr>\n",
       "    <tr>\n",
       "      <th>15</th>\n",
       "      <td>15</td>\n",
       "      <td>NaN</td>\n",
       "      <td>peachpuff</td>\n",
       "      <td>#FFDAB9</td>\n",
       "      <td>rgb(255,218,185)</td>\n",
       "    </tr>\n",
       "    <tr>\n",
       "      <th>16</th>\n",
       "      <td>16</td>\n",
       "      <td>NaN</td>\n",
       "      <td>palegoldenrod</td>\n",
       "      <td>#EEE8AA</td>\n",
       "      <td>rgb(238,232,170)</td>\n",
       "    </tr>\n",
       "    <tr>\n",
       "      <th>17</th>\n",
       "      <td>17</td>\n",
       "      <td>NaN</td>\n",
       "      <td>khaki</td>\n",
       "      <td>#F0E68C</td>\n",
       "      <td>rgb(240,230,140)</td>\n",
       "    </tr>\n",
       "    <tr>\n",
       "      <th>18</th>\n",
       "      <td>18</td>\n",
       "      <td>NaN</td>\n",
       "      <td>darkkhaki</td>\n",
       "      <td>#BDB76B</td>\n",
       "      <td>rgb(189,183,107)</td>\n",
       "    </tr>\n",
       "    <tr>\n",
       "      <th>19</th>\n",
       "      <td>19</td>\n",
       "      <td>NaN</td>\n",
       "      <td>yellow</td>\n",
       "      <td>#FFFF00</td>\n",
       "      <td>rgb(255,255,0)</td>\n",
       "    </tr>\n",
       "    <tr>\n",
       "      <th>20</th>\n",
       "      <td>20</td>\n",
       "      <td>NaN</td>\n",
       "      <td>lawngreen</td>\n",
       "      <td>#7CFC00</td>\n",
       "      <td>rgb(124,252,0)</td>\n",
       "    </tr>\n",
       "    <tr>\n",
       "      <th>21</th>\n",
       "      <td>21</td>\n",
       "      <td>NaN</td>\n",
       "      <td>chartreuse</td>\n",
       "      <td>#7FFF00</td>\n",
       "      <td>rgb(127,255,0)</td>\n",
       "    </tr>\n",
       "    <tr>\n",
       "      <th>22</th>\n",
       "      <td>22</td>\n",
       "      <td>NaN</td>\n",
       "      <td>limegreen</td>\n",
       "      <td>#32CD32</td>\n",
       "      <td>rgb(50,205,50)</td>\n",
       "    </tr>\n",
       "    <tr>\n",
       "      <th>23</th>\n",
       "      <td>23</td>\n",
       "      <td>NaN</td>\n",
       "      <td>lime</td>\n",
       "      <td>#00FF00</td>\n",
       "      <td>rgb(0.255.0)</td>\n",
       "    </tr>\n",
       "    <tr>\n",
       "      <th>24</th>\n",
       "      <td>24</td>\n",
       "      <td>NaN</td>\n",
       "      <td>forestgreen</td>\n",
       "      <td>#228B22</td>\n",
       "      <td>rgb(34,139,34)</td>\n",
       "    </tr>\n",
       "    <tr>\n",
       "      <th>25</th>\n",
       "      <td>25</td>\n",
       "      <td>NaN</td>\n",
       "      <td>green</td>\n",
       "      <td>#008000</td>\n",
       "      <td>rgb(0,128,0)</td>\n",
       "    </tr>\n",
       "    <tr>\n",
       "      <th>26</th>\n",
       "      <td>26</td>\n",
       "      <td>NaN</td>\n",
       "      <td>powderblue</td>\n",
       "      <td>#B0E0E6</td>\n",
       "      <td>rgb(176,224,230)</td>\n",
       "    </tr>\n",
       "    <tr>\n",
       "      <th>27</th>\n",
       "      <td>27</td>\n",
       "      <td>NaN</td>\n",
       "      <td>lightblue</td>\n",
       "      <td>#ADD8E6</td>\n",
       "      <td>rgb(173,216,230)</td>\n",
       "    </tr>\n",
       "    <tr>\n",
       "      <th>28</th>\n",
       "      <td>28</td>\n",
       "      <td>NaN</td>\n",
       "      <td>lightskyblue</td>\n",
       "      <td>#87CEFA</td>\n",
       "      <td>rgb(135,206,250)</td>\n",
       "    </tr>\n",
       "    <tr>\n",
       "      <th>29</th>\n",
       "      <td>29</td>\n",
       "      <td>NaN</td>\n",
       "      <td>skyblue</td>\n",
       "      <td>#87CEEB</td>\n",
       "      <td>rgb(135,206,235)</td>\n",
       "    </tr>\n",
       "    <tr>\n",
       "      <th>30</th>\n",
       "      <td>30</td>\n",
       "      <td>NaN</td>\n",
       "      <td>deepskyblue</td>\n",
       "      <td>#00BFFF</td>\n",
       "      <td>rgb(0,191,255)</td>\n",
       "    </tr>\n",
       "    <tr>\n",
       "      <th>31</th>\n",
       "      <td>31</td>\n",
       "      <td>NaN</td>\n",
       "      <td>lightsteelblue</td>\n",
       "      <td>#B0C4DE</td>\n",
       "      <td>rgb(176,196,222)</td>\n",
       "    </tr>\n",
       "    <tr>\n",
       "      <th>32</th>\n",
       "      <td>32</td>\n",
       "      <td>NaN</td>\n",
       "      <td>dodgerblue</td>\n",
       "      <td>#1E90FF</td>\n",
       "      <td>rgb(30,144,255)</td>\n",
       "    </tr>\n",
       "  </tbody>\n",
       "</table>\n",
       "</div>"
      ],
      "text/plain": [
       "         0      1               2                3                    4\n",
       "0   Number  Color      Color Name  Hex Code#RRGGBB  Decimal Code(R,G,B)\n",
       "1        1    NaN     lightsalmon          #FFA07A     rgb(255,160,122)\n",
       "2        2    NaN          salmon          #FA8072     rgb(250,128,114)\n",
       "3        3    NaN      darksalmon          #E9967A     rgb(233,150,122)\n",
       "4        4    NaN      lightcoral          #F08080     rgb(240,128,128)\n",
       "5        5    NaN           coral          #FF7F50      rgb(255,127,80)\n",
       "6        6    NaN          tomato          #FF6347       rgb(255,99,71)\n",
       "7        7    NaN       orangered          #FF4500        rgb(255,69,0)\n",
       "8        8    NaN            gold          #FFD700       rgb(255,215,0)\n",
       "9        9    NaN          orange          #FFA500       rgb(255,165,0)\n",
       "10      10    NaN      darkorange          #FF8C00       rgb(255,140,0)\n",
       "11      11    NaN     lightyellow          #FFFFE0     rgb(255,255,224)\n",
       "12      12    NaN    lemonchiffon          #FFFACD     rgb(255,250,205)\n",
       "13      13    NaN      papayawhip          #FFEFD5     rgb(255,239,213)\n",
       "14      14    NaN        moccasin          #FFE4B5     rgb(255,228,181)\n",
       "15      15    NaN       peachpuff          #FFDAB9     rgb(255,218,185)\n",
       "16      16    NaN   palegoldenrod          #EEE8AA     rgb(238,232,170)\n",
       "17      17    NaN           khaki          #F0E68C     rgb(240,230,140)\n",
       "18      18    NaN       darkkhaki          #BDB76B     rgb(189,183,107)\n",
       "19      19    NaN          yellow          #FFFF00       rgb(255,255,0)\n",
       "20      20    NaN       lawngreen          #7CFC00       rgb(124,252,0)\n",
       "21      21    NaN      chartreuse          #7FFF00       rgb(127,255,0)\n",
       "22      22    NaN       limegreen          #32CD32       rgb(50,205,50)\n",
       "23      23    NaN            lime          #00FF00         rgb(0.255.0)\n",
       "24      24    NaN     forestgreen          #228B22       rgb(34,139,34)\n",
       "25      25    NaN           green          #008000         rgb(0,128,0)\n",
       "26      26    NaN      powderblue          #B0E0E6     rgb(176,224,230)\n",
       "27      27    NaN       lightblue          #ADD8E6     rgb(173,216,230)\n",
       "28      28    NaN    lightskyblue          #87CEFA     rgb(135,206,250)\n",
       "29      29    NaN         skyblue          #87CEEB     rgb(135,206,235)\n",
       "30      30    NaN     deepskyblue          #00BFFF       rgb(0,191,255)\n",
       "31      31    NaN  lightsteelblue          #B0C4DE     rgb(176,196,222)\n",
       "32      32    NaN      dodgerblue          #1E90FF      rgb(30,144,255)"
      ]
     },
     "execution_count": 86,
     "metadata": {},
     "output_type": "execute_result"
    }
   ],
   "source": [
    "tables[0]"
   ]
  },
  {
   "cell_type": "markdown",
   "metadata": {},
   "source": [
    "## Authors\n"
   ]
  },
  {
   "cell_type": "markdown",
   "metadata": {},
   "source": [
    "Ramesh Sannareddy\n"
   ]
  },
  {
   "cell_type": "markdown",
   "metadata": {},
   "source": [
    "### Other Contributors\n"
   ]
  },
  {
   "cell_type": "markdown",
   "metadata": {},
   "source": [
    "Rav Ahuja\n",
    "\n",
    "Abhishek Gagneja\n"
   ]
  },
  {
   "cell_type": "markdown",
   "metadata": {},
   "source": [
    "## Change Log\n"
   ]
  },
  {
   "cell_type": "markdown",
   "metadata": {},
   "source": [
    "| Date (YYYY-MM-DD) | Version | Changed By            |          Change Description         |\n",
    "| ----------------- | ------- | ----------------------| ----------------------------------- |\n",
    "| 2023-11-02 | 1.1 | Abhishek Gagneja | Updated instructions, added web scraping using Pandas |\n",
    "| 2023-06-11        | 1.0     | Akansha Yadav         |   Spell check                       |\n",
    "| 2020-10-17        | 0.1     | Joseph Santarcangelo  |  Created initial version of the lab |\n"
   ]
  },
  {
   "cell_type": "markdown",
   "metadata": {},
   "source": [
    "Copyright © 2023 IBM Corporation. This notebook and its source code are released under the terms of the [MIT License](https://cognitiveclass.ai/mit-license/?utm_medium=Exinfluencer&utm_source=Exinfluencer&utm_content=000026UJ&utm_term=10006555&utm_id=NA-SkillsNetwork-Channel-SkillsNetworkCoursesIBMDeveloperSkillsNetworkPY0101ENSkillsNetwork19487395-2021-01-01).\n"
   ]
  }
 ],
 "metadata": {
  "kernelspec": {
   "display_name": "Python",
   "language": "python",
   "name": "conda-env-python-py"
  },
  "language_info": {
   "codemirror_mode": {
    "name": "ipython",
    "version": 3
   },
   "file_extension": ".py",
   "mimetype": "text/x-python",
   "name": "python",
   "nbconvert_exporter": "python",
   "pygments_lexer": "ipython3",
   "version": "3.7.12"
  }
 },
 "nbformat": 4,
 "nbformat_minor": 4
}
