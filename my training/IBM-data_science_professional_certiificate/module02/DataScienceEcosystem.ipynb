{
 "cells": [
  {
   "cell_type": "markdown",
   "id": "f470ef81-44d6-482b-aa6f-115cb087b612",
   "metadata": {},
   "source": [
    "# Data Science Tools and Ecosystem"
   ]
  },
  {
   "cell_type": "markdown",
   "id": "d2368774-739b-4fb5-b7e8-9bd239c0005d",
   "metadata": {},
   "source": [
    "## Author: \n",
    "Samuel Carleial Fernandes"
   ]
  },
  {
   "cell_type": "markdown",
   "id": "b03a2bc2-ef88-4ac0-baec-428764a4b8c9",
   "metadata": {},
   "source": [
    "In this notebook, Data Science Tools and Ecosystem are summarized."
   ]
  },
  {
   "cell_type": "markdown",
   "id": "49531d58-5017-4548-a3da-1fc6ad71f5ab",
   "metadata": {},
   "source": [
    "**Objectives:**\n",
    "- General concept of categories and structure in Daa Science\n",
    "- List of popular languages for Data Science\n",
    "- List of popular software used in Data Science\n",
    "- Common development environments\n",
    "- Concept of Application Programming Interface (API)\n",
    "- Version control using git"
   ]
  },
  {
   "cell_type": "markdown",
   "id": "435a0919-a4c0-4cf4-9dc6-53d4ebb409a4",
   "metadata": {},
   "source": [
    "Some of the popular languages that Data Scientists use are:\n",
    "1. R\n",
    "2. Python\n",
    "3. C++\n",
    "4. Julia\n",
    "5. SQL"
   ]
  },
  {
   "cell_type": "markdown",
   "id": "b22db718-4fab-468b-9461-ca7782f34d1a",
   "metadata": {},
   "source": [
    "Some of the commonly used libraries used by Data Scientists include:\n",
    "1. matplotlib\n",
    "2. Pandas\n",
    "3. Numpy\n",
    "4. scikit-learn\n",
    "5. ggplot (R)"
   ]
  },
  {
   "cell_type": "markdown",
   "id": "ed11343a-5c38-4b2a-956b-33da8a37928b",
   "metadata": {},
   "source": [
    "Some of the commonly used libraries used by Data Scientists include:\n",
    "| Data Science Tools |\n",
    "|--------------------|\n",
    "| RStudio |\n",
    "| Spyder |\n",
    "| Jupyter Lab |\n",
    "| VisualStudio|\n",
    "| Zeppelin Notebooks |"
   ]
  },
  {
   "cell_type": "markdown",
   "id": "1a9cf4c9-b6aa-4d76-b5a0-60a4d7bda12e",
   "metadata": {},
   "source": [
    "### Below are a few examples of evaluating arithmetic expressions in Python."
   ]
  },
  {
   "cell_type": "code",
   "execution_count": 11,
   "id": "6f705d10-ddca-4673-8833-1860d774dc5b",
   "metadata": {},
   "outputs": [
    {
     "name": "stdout",
     "output_type": "stream",
     "text": [
      "2\n",
      "2\n",
      "2.5\n",
      "4\n"
     ]
    }
   ],
   "source": [
    "print(1+1)\n",
    "print(10-8)\n",
    "print(5/2)\n",
    "print(2*2)"
   ]
  },
  {
   "cell_type": "code",
   "execution_count": 12,
   "id": "a6e5058b-3fbf-4f06-acf5-522a19dfa971",
   "metadata": {},
   "outputs": [
    {
     "name": "stdout",
     "output_type": "stream",
     "text": [
      "True\n",
      "True\n",
      "False\n",
      "True\n"
     ]
    }
   ],
   "source": [
    "print((1+1)==(2))\n",
    "print((10)>(2))\n",
    "print((10)<=(2))\n",
    "print((1==1 & 1<2))"
   ]
  },
  {
   "cell_type": "code",
   "execution_count": 13,
   "id": "046d9417-695e-414c-a150-a066f83f7f85",
   "metadata": {},
   "outputs": [
    {
     "data": {
      "text/plain": [
       "17"
      ]
     },
     "execution_count": 13,
     "metadata": {},
     "output_type": "execute_result"
    }
   ],
   "source": [
    "# This a simple arithmetic expression to mutiply then add integers\n",
    "(3*4)+5"
   ]
  },
  {
   "cell_type": "code",
   "execution_count": 14,
   "id": "1566fdae-a67a-42e1-9442-932d6eba8258",
   "metadata": {},
   "outputs": [
    {
     "data": {
      "text/plain": [
       "3.3333333333333335"
      ]
     },
     "execution_count": 14,
     "metadata": {},
     "output_type": "execute_result"
    }
   ],
   "source": [
    "# This will convert 200 minutes to hours by diving by 60.\n",
    "200/60"
   ]
  }
 ],
 "metadata": {
  "kernelspec": {
   "display_name": "Python 3 (ipykernel)",
   "language": "python",
   "name": "python3"
  },
  "language_info": {
   "codemirror_mode": {
    "name": "ipython",
    "version": 3
   },
   "file_extension": ".py",
   "mimetype": "text/x-python",
   "name": "python",
   "nbconvert_exporter": "python",
   "pygments_lexer": "ipython3",
   "version": "3.12.1"
  }
 },
 "nbformat": 4,
 "nbformat_minor": 5
}
